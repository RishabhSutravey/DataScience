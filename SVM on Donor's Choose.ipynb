{
 "cells": [
  {
   "cell_type": "markdown",
   "metadata": {
    "colab_type": "text",
    "id": "33R7Ev5IoUFw"
   },
   "source": [
    "# DonorsChoose"
   ]
  },
  {
   "cell_type": "markdown",
   "metadata": {
    "colab_type": "text",
    "id": "33uDdN2EoUFz"
   },
   "source": [
    "<p>\n",
    "DonorsChoose.org receives hundreds of thousands of project proposals each year for classroom projects in need of funding. Right now, a large number of volunteers is needed to manually screen each submission before it's approved to be posted on the DonorsChoose.org website.\n",
    "</p>\n",
    "<p>\n",
    "    Next year, DonorsChoose.org expects to receive close to 500,000 project proposals. As a result, there are three main problems they need to solve:\n",
    "<ul>\n",
    "<li>\n",
    "    How to scale current manual processes and resources to screen 500,000 projects so that they can be posted as quickly and as efficiently as possible</li>\n",
    "    <li>How to increase the consistency of project vetting across different volunteers to improve the experience for teachers</li>\n",
    "    <li>How to focus volunteer time on the applications that need the most assistance</li>\n",
    "    </ul>\n",
    "</p>    \n",
    "<p>\n",
    "The goal of the competition is to predict whether or not a DonorsChoose.org project proposal submitted by a teacher will be approved, using the text of project descriptions as well as additional metadata about the project, teacher, and school. DonorsChoose.org can then use this information to identify projects most likely to need further review before approval.\n",
    "</p>"
   ]
  },
  {
   "cell_type": "markdown",
   "metadata": {
    "colab_type": "text",
    "id": "W447mRzLoUF2"
   },
   "source": [
    "## About the DonorsChoose Data Set\n",
    "\n",
    "The `train.csv` data set provided by DonorsChoose contains the following features:\n",
    "\n",
    "Feature | Description \n",
    "----------|---------------\n",
    "**`project_id`** | A unique identifier for the proposed project. **Example:** `p036502`   \n",
    "**`project_title`**    | Title of the project. **Examples:**<br><ul><li><code>Art Will Make You Happy!</code></li><li><code>First Grade Fun</code></li></ul> \n",
    "**`project_grade_category`** | Grade level of students for which the project is targeted. One of the following enumerated values: <br/><ul><li><code>Grades PreK-2</code></li><li><code>Grades 3-5</code></li><li><code>Grades 6-8</code></li><li><code>Grades 9-12</code></li></ul>  \n",
    " **`project_subject_categories`** | One or more (comma-separated) subject categories for the project from the following enumerated list of values:  <br/><ul><li><code>Applied Learning</code></li><li><code>Care &amp; Hunger</code></li><li><code>Health &amp; Sports</code></li><li><code>History &amp; Civics</code></li><li><code>Literacy &amp; Language</code></li><li><code>Math &amp; Science</code></li><li><code>Music &amp; The Arts</code></li><li><code>Special Needs</code></li><li><code>Warmth</code></li></ul><br/> **Examples:** <br/><ul><li><code>Music &amp; The Arts</code></li><li><code>Literacy &amp; Language, Math &amp; Science</code></li>  \n",
    "  **`school_state`** | State where school is located ([Two-letter U.S. postal code](https://en.wikipedia.org/wiki/List_of_U.S._state_abbreviations#Postal_codes)). **Example:** `WY`\n",
    "**`project_subject_subcategories`** | One or more (comma-separated) subject subcategories for the project. **Examples:** <br/><ul><li><code>Literacy</code></li><li><code>Literature &amp; Writing, Social Sciences</code></li></ul> \n",
    "**`project_resource_summary`** | An explanation of the resources needed for the project. **Example:** <br/><ul><li><code>My students need hands on literacy materials to manage sensory needs!</code</li></ul> \n",
    "**`project_essay_1`**    | First application essay<sup>*</sup>  \n",
    "**`project_essay_2`**    | Second application essay<sup>*</sup> \n",
    "**`project_essay_3`**    | Third application essay<sup>*</sup> \n",
    "**`project_essay_4`**    | Fourth application essay<sup>*</sup> \n",
    "**`project_submitted_datetime`** | Datetime when project application was submitted. **Example:** `2016-04-28 12:43:56.245`   \n",
    "**`teacher_id`** | A unique identifier for the teacher of the proposed project. **Example:** `bdf8baa8fedef6bfeec7ae4ff1c15c56`  \n",
    "**`teacher_prefix`** | Teacher's title. One of the following enumerated values: <br/><ul><li><code>nan</code></li><li><code>Dr.</code></li><li><code>Mr.</code></li><li><code>Mrs.</code></li><li><code>Ms.</code></li><li><code>Teacher.</code></li></ul>  \n",
    "**`teacher_number_of_previously_posted_projects`** | Number of project applications previously submitted by the same teacher. **Example:** `2` \n",
    "\n",
    "<sup>*</sup> See the section <b>Notes on the Essay Data</b> for more details about these features.\n",
    "\n",
    "Additionally, the `resources.csv` data set provides more data about the resources required for each project. Each line in this file represents a resource required by a project:\n",
    "\n",
    "Feature | Description \n",
    "----------|---------------\n",
    "**`id`** | A `project_id` value from the `train.csv` file.  **Example:** `p036502`   \n",
    "**`description`** | Desciption of the resource. **Example:** `Tenor Saxophone Reeds, Box of 25`   \n",
    "**`quantity`** | Quantity of the resource required. **Example:** `3`   \n",
    "**`price`** | Price of the resource required. **Example:** `9.95`   \n",
    "\n",
    "**Note:** Many projects require multiple resources. The `id` value corresponds to a `project_id` in train.csv, so you use it as a key to retrieve all resources needed for a project:\n",
    "\n",
    "The data set contains the following label (the value you will attempt to predict):\n",
    "\n",
    "Label | Description\n",
    "----------|---------------\n",
    "`project_is_approved` | A binary flag indicating whether DonorsChoose approved the project. A value of `0` indicates the project was not approved, and a value of `1` indicates the project was approved."
   ]
  },
  {
   "cell_type": "markdown",
   "metadata": {
    "colab_type": "text",
    "id": "iydYV-rsoUF4"
   },
   "source": [
    "### Notes on the Essay Data\n",
    "\n",
    "<ul>\n",
    "Prior to May 17, 2016, the prompts for the essays were as follows:\n",
    "<li>__project_essay_1:__ \"Introduce us to your classroom\"</li>\n",
    "<li>__project_essay_2:__ \"Tell us more about your students\"</li>\n",
    "<li>__project_essay_3:__ \"Describe how your students will use the materials you're requesting\"</li>\n",
    "<li>__project_essay_3:__ \"Close by sharing why your project will make a difference\"</li>\n",
    "</ul>\n",
    "\n",
    "\n",
    "<ul>\n",
    "Starting on May 17, 2016, the number of essays was reduced from 4 to 2, and the prompts for the first 2 essays were changed to the following:<br>\n",
    "<li>__project_essay_1:__ \"Describe your students: What makes your students special? Specific details about their background, your neighborhood, and your school are all helpful.\"</li>\n",
    "<li>__project_essay_2:__ \"About your project: How will these materials make a difference in your students' learning and improve their school lives?\"</li>\n",
    "<br>For all projects with project_submitted_datetime of 2016-05-17 and later, the values of project_essay_3 and project_essay_4 will be NaN.\n",
    "</ul>\n"
   ]
  },
  {
   "cell_type": "code",
   "execution_count": 1,
   "metadata": {
    "colab": {
     "base_uri": "https://localhost:8080/",
     "height": 17,
     "output_embedded_package_id": "1caVdOWwuZ3_k2hYgDS3p7YL0EnCRWQuC"
    },
    "colab_type": "code",
    "executionInfo": {
     "elapsed": 14723,
     "status": "ok",
     "timestamp": 1565377032634,
     "user": {
      "displayName": "Rishabh Sutravey",
      "photoUrl": "",
      "userId": "13691094868251697255"
     },
     "user_tz": 240
    },
    "id": "CB_mY9_roUF6",
    "outputId": "4737167b-b911-42ea-b8d6-117e21a35c4e"
   },
   "outputs": [
    {
     "data": {
      "text/plain": [
       "Output hidden; open in https://colab.research.google.com to view."
      ]
     },
     "metadata": {},
     "output_type": "display_data"
    }
   ],
   "source": [
    "%matplotlib inline\n",
    "import warnings\n",
    "warnings.filterwarnings(\"ignore\")\n",
    "\n",
    "import sqlite3\n",
    "import pandas as pd\n",
    "import numpy as np\n",
    "import nltk\n",
    "import string\n",
    "import matplotlib.pyplot as plt\n",
    "import seaborn as sns\n",
    "from sklearn.feature_extraction.text import TfidfTransformer\n",
    "from sklearn.feature_extraction.text import TfidfVectorizer\n",
    "\n",
    "from sklearn.feature_extraction.text import CountVectorizer\n",
    "from sklearn.metrics import confusion_matrix\n",
    "from sklearn import metrics\n",
    "from sklearn.metrics import roc_curve, auc\n",
    "from nltk.stem.porter import PorterStemmer\n",
    "\n",
    "import re\n",
    "# Tutorial about Python regular expressions: https://pymotw.com/2/re/\n",
    "import string\n",
    "from nltk.corpus import stopwords\n",
    "from nltk.stem import PorterStemmer\n",
    "from nltk.stem.wordnet import WordNetLemmatizer\n",
    "\n",
    "from gensim.models import Word2Vec\n",
    "from gensim.models import KeyedVectors\n",
    "import pickle\n",
    "\n",
    "from tqdm import tqdm\n",
    "import os\n",
    "\n",
    "from plotly import plotly\n",
    "import plotly.offline as offline\n",
    "import plotly.graph_objs as go\n",
    "offline.init_notebook_mode()\n",
    "from collections import Counter"
   ]
  },
  {
   "cell_type": "markdown",
   "metadata": {
    "colab_type": "text",
    "id": "zLR1LA2oOh8L"
   },
   "source": [
    "## 1.1 Reading Data"
   ]
  },
  {
   "cell_type": "code",
   "execution_count": 2,
   "metadata": {
    "colab": {
     "base_uri": "https://localhost:8080/",
     "height": 129
    },
    "colab_type": "code",
    "executionInfo": {
     "elapsed": 91879,
     "status": "ok",
     "timestamp": 1565377109829,
     "user": {
      "displayName": "Rishabh Sutravey",
      "photoUrl": "",
      "userId": "13691094868251697255"
     },
     "user_tz": 240
    },
    "id": "anXjdsFmAdoh",
    "outputId": "67a9154d-8281-45cc-b876-8a3f917c62e6"
   },
   "outputs": [
    {
     "name": "stdout",
     "output_type": "stream",
     "text": [
      "Go to this URL in a browser: https://accounts.google.com/o/oauth2/auth?client_id=947318989803-6bn6qk8qdgf4n4g3pfee6491hc0brc4i.apps.googleusercontent.com&redirect_uri=urn%3Aietf%3Awg%3Aoauth%3A2.0%3Aoob&scope=email%20https%3A%2F%2Fwww.googleapis.com%2Fauth%2Fdocs.test%20https%3A%2F%2Fwww.googleapis.com%2Fauth%2Fdrive%20https%3A%2F%2Fwww.googleapis.com%2Fauth%2Fdrive.photos.readonly%20https%3A%2F%2Fwww.googleapis.com%2Fauth%2Fpeopleapi.readonly&response_type=code\n",
      "\n",
      "Enter your authorization code:\n",
      "··········\n",
      "Mounted at /content/drive\n"
     ]
    }
   ],
   "source": [
    "from google.colab import drive\n",
    "drive.mount('/content/drive')"
   ]
  },
  {
   "cell_type": "code",
   "execution_count": 0,
   "metadata": {
    "colab": {},
    "colab_type": "code",
    "id": "h_7d8KKsOh8M"
   },
   "outputs": [],
   "source": [
    "project_data = pd.read_csv('/content/drive/My Drive/train_data.csv')\n",
    "resource_data = pd.read_csv('/content/drive/My Drive/resources.csv')"
   ]
  },
  {
   "cell_type": "code",
   "execution_count": 4,
   "metadata": {
    "colab": {
     "base_uri": "https://localhost:8080/",
     "height": 164
    },
    "colab_type": "code",
    "executionInfo": {
     "elapsed": 97818,
     "status": "ok",
     "timestamp": 1565377115796,
     "user": {
      "displayName": "Rishabh Sutravey",
      "photoUrl": "",
      "userId": "13691094868251697255"
     },
     "user_tz": 240
    },
    "id": "z-37jMkROh8P",
    "outputId": "0adbf4bb-a050-4282-e979-e642fc1fd53e"
   },
   "outputs": [
    {
     "name": "stdout",
     "output_type": "stream",
     "text": [
      "Number of data points in project data (109248, 17)\n",
      "--------------------------------------------------\n",
      "The attributes of data : ['Unnamed: 0' 'id' 'teacher_id' 'teacher_prefix' 'school_state'\n",
      " 'project_submitted_datetime' 'project_grade_category'\n",
      " 'project_subject_categories' 'project_subject_subcategories'\n",
      " 'project_title' 'project_essay_1' 'project_essay_2' 'project_essay_3'\n",
      " 'project_essay_4' 'project_resource_summary'\n",
      " 'teacher_number_of_previously_posted_projects' 'project_is_approved']\n"
     ]
    }
   ],
   "source": [
    "print(\"Number of data points in project data\", project_data.shape)\n",
    "print('-'*50)\n",
    "print(\"The attributes of data :\", project_data.columns.values)"
   ]
  },
  {
   "cell_type": "code",
   "execution_count": 5,
   "metadata": {
    "colab": {
     "base_uri": "https://localhost:8080/",
     "height": 149
    },
    "colab_type": "code",
    "executionInfo": {
     "elapsed": 97797,
     "status": "ok",
     "timestamp": 1565377115798,
     "user": {
      "displayName": "Rishabh Sutravey",
      "photoUrl": "",
      "userId": "13691094868251697255"
     },
     "user_tz": 240
    },
    "id": "JFvPg4TZOh8U",
    "outputId": "a12ac148-2ba1-4562-ae1c-74583d1eb753"
   },
   "outputs": [
    {
     "name": "stdout",
     "output_type": "stream",
     "text": [
      "Number of data points in resource data (1541272, 4)\n",
      "['id' 'description' 'quantity' 'price']\n"
     ]
    },
    {
     "data": {
      "text/html": [
       "<div>\n",
       "<style scoped>\n",
       "    .dataframe tbody tr th:only-of-type {\n",
       "        vertical-align: middle;\n",
       "    }\n",
       "\n",
       "    .dataframe tbody tr th {\n",
       "        vertical-align: top;\n",
       "    }\n",
       "\n",
       "    .dataframe thead th {\n",
       "        text-align: right;\n",
       "    }\n",
       "</style>\n",
       "<table border=\"1\" class=\"dataframe\">\n",
       "  <thead>\n",
       "    <tr style=\"text-align: right;\">\n",
       "      <th></th>\n",
       "      <th>id</th>\n",
       "      <th>description</th>\n",
       "      <th>quantity</th>\n",
       "      <th>price</th>\n",
       "    </tr>\n",
       "  </thead>\n",
       "  <tbody>\n",
       "    <tr>\n",
       "      <th>0</th>\n",
       "      <td>p233245</td>\n",
       "      <td>LC652 - Lakeshore Double-Space Mobile Drying Rack</td>\n",
       "      <td>1</td>\n",
       "      <td>149.00</td>\n",
       "    </tr>\n",
       "    <tr>\n",
       "      <th>1</th>\n",
       "      <td>p069063</td>\n",
       "      <td>Bouncy Bands for Desks (Blue support pipes)</td>\n",
       "      <td>3</td>\n",
       "      <td>14.95</td>\n",
       "    </tr>\n",
       "  </tbody>\n",
       "</table>\n",
       "</div>"
      ],
      "text/plain": [
       "        id                                        description  quantity   price\n",
       "0  p233245  LC652 - Lakeshore Double-Space Mobile Drying Rack         1  149.00\n",
       "1  p069063        Bouncy Bands for Desks (Blue support pipes)         3   14.95"
      ]
     },
     "execution_count": 5,
     "metadata": {
      "tags": []
     },
     "output_type": "execute_result"
    }
   ],
   "source": [
    "print(\"Number of data points in resource data\", resource_data.shape)\n",
    "print(resource_data.columns.values)\n",
    "resource_data.head(2)"
   ]
  },
  {
   "cell_type": "code",
   "execution_count": 0,
   "metadata": {
    "colab": {},
    "colab_type": "code",
    "id": "89KDIJVMSuVJ"
   },
   "outputs": [],
   "source": [
    "price_data = resource_data.groupby('id').agg({'price':'sum', 'quantity':'sum'}).reset_index()\n",
    "price_data.head(2)\n",
    "\n",
    "# join two dataframes in python: \n",
    "project_data = pd.merge(project_data, price_data, on='id', how='left')"
   ]
  },
  {
   "cell_type": "markdown",
   "metadata": {
    "colab_type": "text",
    "id": "pTDWxnUOOh8Y"
   },
   "source": [
    "## 1.2 preprocessing of `project_subject_categories`"
   ]
  },
  {
   "cell_type": "code",
   "execution_count": 0,
   "metadata": {
    "colab": {},
    "colab_type": "code",
    "id": "gw_I3RrXOh8Z"
   },
   "outputs": [],
   "source": [
    "catogories = list(project_data['project_subject_categories'].values)\n",
    "# remove special characters from list of strings python: https://stackoverflow.com/a/47301924/4084039\n",
    "\n",
    "# https://www.geeksforgeeks.org/removing-stop-words-nltk-python/\n",
    "# https://stackoverflow.com/questions/23669024/how-to-strip-a-specific-word-from-a-string\n",
    "# https://stackoverflow.com/questions/8270092/remove-all-whitespace-in-a-string-in-python\n",
    "cat_list = []\n",
    "for i in catogories:\n",
    "    temp = \"\"\n",
    "    # consider we have text like this \"Math & Science, Warmth, Care & Hunger\"\n",
    "    for j in i.split(','): # it will split it in three parts [\"Math & Science\", \"Warmth\", \"Care & Hunger\"]\n",
    "        if 'The' in j.split(): # this will split each of the catogory based on space \"Math & Science\"=> \"Math\",\"&\", \"Science\"\n",
    "            j=j.replace('The','') # if we have the words \"The\" we are going to replace it with ''(i.e removing 'The')\n",
    "        j = j.replace(' ','') # we are placeing all the ' '(space) with ''(empty) ex:\"Math & Science\"=>\"Math&Science\"\n",
    "        temp+=j.strip()+\" \" #\" abc \".strip() will return \"abc\", remove the trailing spaces\n",
    "        temp = temp.replace('&','_') # we are replacing the & value into \n",
    "    cat_list.append(temp.strip())\n",
    "    \n",
    "project_data['clean_categories'] = cat_list\n",
    "project_data.drop(['project_subject_categories'], axis=1, inplace=True)\n",
    "\n",
    "from collections import Counter\n",
    "my_counter = Counter()\n",
    "for word in project_data['clean_categories'].values:\n",
    "    my_counter.update(word.split())\n",
    "\n",
    "cat_dict = dict(my_counter)\n",
    "sorted_cat_dict = dict(sorted(cat_dict.items(), key=lambda kv: kv[1]))\n"
   ]
  },
  {
   "cell_type": "markdown",
   "metadata": {
    "colab_type": "text",
    "id": "uPeyOZOvOh8d"
   },
   "source": [
    "## 1.3 preprocessing of `project_subject_subcategories`"
   ]
  },
  {
   "cell_type": "code",
   "execution_count": 0,
   "metadata": {
    "colab": {},
    "colab_type": "code",
    "id": "uA4uC5YxOh8d"
   },
   "outputs": [],
   "source": [
    "sub_catogories = list(project_data['project_subject_subcategories'].values)\n",
    "# remove special characters from list of strings python: https://stackoverflow.com/a/47301924/4084039\n",
    "\n",
    "# https://www.geeksforgeeks.org/removing-stop-words-nltk-python/\n",
    "# https://stackoverflow.com/questions/23669024/how-to-strip-a-specific-word-from-a-string\n",
    "# https://stackoverflow.com/questions/8270092/remove-all-whitespace-in-a-string-in-python\n",
    "\n",
    "sub_cat_list = []\n",
    "for i in sub_catogories:\n",
    "    temp = \"\"\n",
    "    # consider we have text like this \"Math & Science, Warmth, Care & Hunger\"\n",
    "    for j in i.split(','): # it will split it in three parts [\"Math & Science\", \"Warmth\", \"Care & Hunger\"]\n",
    "        if 'The' in j.split(): # this will split each of the catogory based on space \"Math & Science\"=> \"Math\",\"&\", \"Science\"\n",
    "            j=j.replace('The','') # if we have the words \"The\" we are going to replace it with ''(i.e removing 'The')\n",
    "        j = j.replace(' ','') # we are placeing all the ' '(space) with ''(empty) ex:\"Math & Science\"=>\"Math&Science\"\n",
    "        temp +=j.strip()+\" \"#\" abc \".strip() will return \"abc\", remove the trailing spaces\n",
    "        temp = temp.replace('&','_')\n",
    "    sub_cat_list.append(temp.strip())\n",
    "\n",
    "project_data['clean_subcategories'] = sub_cat_list\n",
    "project_data.drop(['project_subject_subcategories'], axis=1, inplace=True)\n",
    "\n",
    "# count of all the words in corpus python: https://stackoverflow.com/a/22898595/4084039\n",
    "my_counter = Counter()\n",
    "for word in project_data['clean_subcategories'].values:\n",
    "    my_counter.update(word.split())\n",
    "    \n",
    "sub_cat_dict = dict(my_counter)\n",
    "sorted_sub_cat_dict = dict(sorted(sub_cat_dict.items(), key=lambda kv: kv[1]))"
   ]
  },
  {
   "cell_type": "markdown",
   "metadata": {
    "colab_type": "text",
    "id": "pNKKDXpKApop"
   },
   "source": [
    "## 1.3 preprocessing of `project_grade_category`"
   ]
  },
  {
   "cell_type": "code",
   "execution_count": 0,
   "metadata": {
    "colab": {},
    "colab_type": "code",
    "id": "6bpQJWtPAoml"
   },
   "outputs": [],
   "source": [
    "grades = list(project_data['project_grade_category'].values)\n",
    "# remove special characters from list of strings python: https://stackoverflow.com/a/47301924/4084039\n",
    "\n",
    "# https://www.geeksforgeeks.org/removing-stop-words-nltk-python/\n",
    "# https://stackoverflow.com/questions/23669024/how-to-strip-a-specific-word-from-a-string\n",
    "# https://stackoverflow.com/questions/8270092/remove-all-whitespace-in-a-string-in-python\n",
    "\n",
    "grade_list = []\n",
    "for j in grades:\n",
    "    temp = \"\"\n",
    "    j = j.replace(' ','') # we are placeing all the ' '(space) with ''(empty) ex:\"Math & Science\"=>\"Math&Science\"\n",
    "    temp +=j.strip()+\" \"#\" abc \".strip() will return \"abc\", remove the trailing spaces\n",
    "    temp = temp.replace('-','_')\n",
    "    grade_list.append(temp.strip())\n",
    "\n",
    "\n",
    "project_data['grades'] = grade_list\n",
    "project_data.drop(['project_grade_category'], axis=1, inplace=True)"
   ]
  },
  {
   "cell_type": "markdown",
   "metadata": {
    "colab_type": "text",
    "id": "yWnCu3ufOh8h"
   },
   "source": [
    "## 1.3 Text preprocessing"
   ]
  },
  {
   "cell_type": "code",
   "execution_count": 0,
   "metadata": {
    "colab": {},
    "colab_type": "code",
    "id": "U05smU87Oh8i"
   },
   "outputs": [],
   "source": [
    "# merge two column text dataframe: \n",
    "project_data[\"essay\"] = project_data[\"project_essay_1\"].map(str) +\\\n",
    "                        project_data[\"project_essay_2\"].map(str) + \\\n",
    "                        project_data[\"project_essay_3\"].map(str) + \\\n",
    "                        project_data[\"project_essay_4\"].map(str)"
   ]
  },
  {
   "cell_type": "code",
   "execution_count": 11,
   "metadata": {
    "colab": {
     "base_uri": "https://localhost:8080/",
     "height": 358
    },
    "colab_type": "code",
    "executionInfo": {
     "elapsed": 101415,
     "status": "ok",
     "timestamp": 1565377119461,
     "user": {
      "displayName": "Rishabh Sutravey",
      "photoUrl": "",
      "userId": "13691094868251697255"
     },
     "user_tz": 240
    },
    "id": "AuHJ0TPjOh8k",
    "outputId": "116e640b-15d8-4583-d993-b304ce0088f9"
   },
   "outputs": [
    {
     "data": {
      "text/html": [
       "<div>\n",
       "<style scoped>\n",
       "    .dataframe tbody tr th:only-of-type {\n",
       "        vertical-align: middle;\n",
       "    }\n",
       "\n",
       "    .dataframe tbody tr th {\n",
       "        vertical-align: top;\n",
       "    }\n",
       "\n",
       "    .dataframe thead th {\n",
       "        text-align: right;\n",
       "    }\n",
       "</style>\n",
       "<table border=\"1\" class=\"dataframe\">\n",
       "  <thead>\n",
       "    <tr style=\"text-align: right;\">\n",
       "      <th></th>\n",
       "      <th>Unnamed: 0</th>\n",
       "      <th>id</th>\n",
       "      <th>teacher_id</th>\n",
       "      <th>teacher_prefix</th>\n",
       "      <th>school_state</th>\n",
       "      <th>project_submitted_datetime</th>\n",
       "      <th>project_title</th>\n",
       "      <th>project_essay_1</th>\n",
       "      <th>project_essay_2</th>\n",
       "      <th>project_essay_3</th>\n",
       "      <th>project_essay_4</th>\n",
       "      <th>project_resource_summary</th>\n",
       "      <th>teacher_number_of_previously_posted_projects</th>\n",
       "      <th>project_is_approved</th>\n",
       "      <th>price</th>\n",
       "      <th>quantity</th>\n",
       "      <th>clean_categories</th>\n",
       "      <th>clean_subcategories</th>\n",
       "      <th>grades</th>\n",
       "      <th>essay</th>\n",
       "    </tr>\n",
       "  </thead>\n",
       "  <tbody>\n",
       "    <tr>\n",
       "      <th>0</th>\n",
       "      <td>160221</td>\n",
       "      <td>p253737</td>\n",
       "      <td>c90749f5d961ff158d4b4d1e7dc665fc</td>\n",
       "      <td>Mrs.</td>\n",
       "      <td>IN</td>\n",
       "      <td>2016-12-05 13:43:57</td>\n",
       "      <td>Educational Support for English Learners at Home</td>\n",
       "      <td>My students are English learners that are work...</td>\n",
       "      <td>\\\"The limits of your language are the limits o...</td>\n",
       "      <td>NaN</td>\n",
       "      <td>NaN</td>\n",
       "      <td>My students need opportunities to practice beg...</td>\n",
       "      <td>0</td>\n",
       "      <td>0</td>\n",
       "      <td>154.6</td>\n",
       "      <td>23</td>\n",
       "      <td>Literacy_Language</td>\n",
       "      <td>ESL Literacy</td>\n",
       "      <td>GradesPreK_2</td>\n",
       "      <td>My students are English learners that are work...</td>\n",
       "    </tr>\n",
       "    <tr>\n",
       "      <th>1</th>\n",
       "      <td>140945</td>\n",
       "      <td>p258326</td>\n",
       "      <td>897464ce9ddc600bced1151f324dd63a</td>\n",
       "      <td>Mr.</td>\n",
       "      <td>FL</td>\n",
       "      <td>2016-10-25 09:22:10</td>\n",
       "      <td>Wanted: Projector for Hungry Learners</td>\n",
       "      <td>Our students arrive to our school eager to lea...</td>\n",
       "      <td>The projector we need for our school is very c...</td>\n",
       "      <td>NaN</td>\n",
       "      <td>NaN</td>\n",
       "      <td>My students need a projector to help with view...</td>\n",
       "      <td>7</td>\n",
       "      <td>1</td>\n",
       "      <td>299.0</td>\n",
       "      <td>1</td>\n",
       "      <td>History_Civics Health_Sports</td>\n",
       "      <td>Civics_Government TeamSports</td>\n",
       "      <td>Grades6_8</td>\n",
       "      <td>Our students arrive to our school eager to lea...</td>\n",
       "    </tr>\n",
       "  </tbody>\n",
       "</table>\n",
       "</div>"
      ],
      "text/plain": [
       "   Unnamed: 0  ...                                              essay\n",
       "0      160221  ...  My students are English learners that are work...\n",
       "1      140945  ...  Our students arrive to our school eager to lea...\n",
       "\n",
       "[2 rows x 20 columns]"
      ]
     },
     "execution_count": 11,
     "metadata": {
      "tags": []
     },
     "output_type": "execute_result"
    }
   ],
   "source": [
    "project_data.head(2)"
   ]
  },
  {
   "cell_type": "code",
   "execution_count": 12,
   "metadata": {
    "colab": {
     "base_uri": "https://localhost:8080/",
     "height": 221
    },
    "colab_type": "code",
    "executionInfo": {
     "elapsed": 101386,
     "status": "ok",
     "timestamp": 1565377119463,
     "user": {
      "displayName": "Rishabh Sutravey",
      "photoUrl": "",
      "userId": "13691094868251697255"
     },
     "user_tz": 240
    },
    "id": "zjTFpwQ6Oh8s",
    "outputId": "af289164-8891-43dd-a7da-b5a329d7e66d"
   },
   "outputs": [
    {
     "name": "stdout",
     "output_type": "stream",
     "text": [
      "My students are English learners that are working on English as their second or third languages. We are a melting pot of refugees, immigrants, and native-born Americans bringing the gift of language to our school. \\r\\n\\r\\n We have over 24 languages represented in our English Learner program with students at every level of mastery.  We also have over 40 countries represented with the families within our school.  Each student brings a wealth of knowledge and experiences to us that open our eyes to new cultures, beliefs, and respect.\\\"The limits of your language are the limits of your world.\\\"-Ludwig Wittgenstein  Our English learner's have a strong support system at home that begs for more resources.  Many times our parents are learning to read and speak English along side of their children.  Sometimes this creates barriers for parents to be able to help their child learn phonetics, letter recognition, and other reading skills.\\r\\n\\r\\nBy providing these dvd's and players, students are able to continue their mastery of the English language even if no one at home is able to assist.  All families with students within the Level 1 proficiency status, will be a offered to be a part of this program.  These educational videos will be specially chosen by the English Learner Teacher and will be sent home regularly to watch.  The videos are to help the child develop early reading skills.\\r\\n\\r\\nParents that do not have access to a dvd player will have the opportunity to check out a dvd player to use for the year.  The plan is to use these videos and educational dvd's for the years to come for other EL students.\\r\\nnannan\n",
      "==================================================\n",
      "The 51 fifth grade students that will cycle through my classroom this year all love learning, at least most of the time. At our school, 97.3% of the students receive free or reduced price lunch. Of the 560 students, 97.3% are minority students. \\r\\nThe school has a vibrant community that loves to get together and celebrate. Around Halloween there is a whole school parade to show off the beautiful costumes that students wear. On Cinco de Mayo we put on a big festival with crafts made by the students, dances, and games. At the end of the year the school hosts a carnival to celebrate the hard work put in during the school year, with a dunk tank being the most popular activity.My students will use these five brightly colored Hokki stools in place of regular, stationary, 4-legged chairs. As I will only have a total of ten in the classroom and not enough for each student to have an individual one, they will be used in a variety of ways. During independent reading time they will be used as special chairs students will each use on occasion. I will utilize them in place of chairs at my small group tables during math and reading times. The rest of the day they will be used by the students who need the highest amount of movement in their life in order to stay focused on school.\\r\\n\\r\\nWhenever asked what the classroom is missing, my students always say more Hokki Stools. They can't get their fill of the 5 stools we already have. When the students are sitting in group with me on the Hokki Stools, they are always moving, but at the same time doing their work. Anytime the students get to pick where they can sit, the Hokki Stools are the first to be taken. There are always students who head over to the kidney table to get one of the stools who are disappointed as there are not enough of them. \\r\\n\\r\\nWe ask a lot of students to sit for 7 hours a day. The Hokki stools will be a compromise that allow my students to do desk work and move at the same time. These stools will help students to meet their 60 minutes a day of movement by allowing them to activate their core muscles for balance while they sit. For many of my students, these chairs will take away the barrier that exists in schools for a child who can't sit still.nannan\n",
      "==================================================\n",
      "How do you remember your days of school? Was it in a sterile environment with plain walls, rows of desks, and a teacher in front of the room? A typical day in our room is nothing like that. I work hard to create a warm inviting themed room for my students look forward to coming to each day.\\r\\n\\r\\nMy class is made up of 28 wonderfully unique boys and girls of mixed races in Arkansas.\\r\\nThey attend a Title I school, which means there is a high enough percentage of free and reduced-price lunch to qualify. Our school is an \\\"open classroom\\\" concept, which is very unique as there are no walls separating the classrooms. These 9 and 10 year-old students are very eager learners; they are like sponges, absorbing all the information and experiences and keep on wanting more.With these resources such as the comfy red throw pillows and the whimsical nautical hanging decor and the blue fish nets, I will be able to help create the mood in our classroom setting to be one of a themed nautical environment. Creating a classroom environment is very important in the success in each and every child's education. The nautical photo props will be used with each child as they step foot into our classroom for the first time on Meet the Teacher evening. I'll take pictures of each child with them, have them developed, and then hung in our classroom ready for their first day of 4th grade.  This kind gesture will set the tone before even the first day of school! The nautical thank you cards will be used throughout the year by the students as they create thank you cards to their team groups.\\r\\n\\r\\nYour generous donations will help me to help make our classroom a fun, inviting, learning environment from day one.\\r\\n\\r\\nIt costs lost of money out of my own pocket on resources to get our classroom ready. Please consider helping with this project to make our new school year a very successful one. Thank you!nannan\n",
      "==================================================\n",
      "My kindergarten students have varied disabilities ranging from speech and language delays, cognitive delays, gross/fine motor delays, to autism. They are eager beavers and always strive to work their hardest working past their limitations. \\r\\n\\r\\nThe materials we have are the ones I seek out for my students. I teach in a Title I school where most of the students receive free or reduced price lunch.  Despite their disabilities and limitations, my students love coming to school and come eager to learn and explore.Have you ever felt like you had ants in your pants and you needed to groove and move as you were in a meeting? This is how my kids feel all the time. The want to be able to move as they learn or so they say.Wobble chairs are the answer and I love then because they develop their core, which enhances gross motor and in Turn fine motor skills. \\r\\nThey also want to learn through games, my kids don't want to sit and do worksheets. They want to learn to count by jumping and playing. Physical engagement is the key to our success. The number toss and color and shape mats can make that happen. My students will forget they are doing work and just have the fun a 6 year old deserves.nannan\n",
      "==================================================\n",
      "The mediocre teacher tells. The good teacher explains. The superior teacher demonstrates. The great teacher inspires. -William A. Ward\\r\\n\\r\\nMy school has 803 students which is makeup is 97.6% African-American, making up the largest segment of the student body. A typical school in Dallas is made up of 23.2% African-American students. Most of the students are on free or reduced lunch. We aren't receiving doctors, lawyers, or engineers children from rich backgrounds or neighborhoods. As an educator I am inspiring minds of young children and we focus not only on academics but one smart, effective, efficient, and disciplined students with good character.In our classroom we can utilize the Bluetooth for swift transitions during class. I use a speaker which doesn't amplify the sound enough to receive the message. Due to the volume of my speaker my students can't hear videos or books clearly and it isn't making the lessons as meaningful. But with the bluetooth speaker my students will be able to hear and I can stop, pause and replay it at any time.\\r\\nThe cart will allow me to have more room for storage of things that are needed for the day and has an extra part to it I can use.  The table top chart has all of the letter, words and pictures for students to learn about different letters and it is more accessible.nannan\n",
      "==================================================\n"
     ]
    }
   ],
   "source": [
    "# printing some random reviews\n",
    "print(project_data['essay'].values[0])\n",
    "print(\"=\"*50)\n",
    "print(project_data['essay'].values[150])\n",
    "print(\"=\"*50)\n",
    "print(project_data['essay'].values[1000])\n",
    "print(\"=\"*50)\n",
    "print(project_data['essay'].values[20000])\n",
    "print(\"=\"*50)\n",
    "print(project_data['essay'].values[99999])\n",
    "print(\"=\"*50)"
   ]
  },
  {
   "cell_type": "code",
   "execution_count": 0,
   "metadata": {
    "colab": {},
    "colab_type": "code",
    "id": "MGdcsQGDOh8v"
   },
   "outputs": [],
   "source": [
    "# https://stackoverflow.com/a/47091490/4084039\n",
    "import re\n",
    "\n",
    "def decontracted(phrase):\n",
    "    # specific\n",
    "    phrase = re.sub(r\"won't\", \"will not\", phrase)\n",
    "    phrase = re.sub(r\"can\\'t\", \"can not\", phrase)\n",
    "\n",
    "    # general\n",
    "    phrase = re.sub(r\"n\\'t\", \" not\", phrase)\n",
    "    phrase = re.sub(r\"\\'re\", \" are\", phrase)\n",
    "    phrase = re.sub(r\"\\'s\", \" is\", phrase)\n",
    "    phrase = re.sub(r\"\\'d\", \" would\", phrase)\n",
    "    phrase = re.sub(r\"\\'ll\", \" will\", phrase)\n",
    "    phrase = re.sub(r\"\\'t\", \" not\", phrase)\n",
    "    phrase = re.sub(r\"\\'ve\", \" have\", phrase)\n",
    "    phrase = re.sub(r\"\\'m\", \" am\", phrase)\n",
    "    return phrase"
   ]
  },
  {
   "cell_type": "code",
   "execution_count": 14,
   "metadata": {
    "colab": {
     "base_uri": "https://localhost:8080/",
     "height": 74
    },
    "colab_type": "code",
    "executionInfo": {
     "elapsed": 101363,
     "status": "ok",
     "timestamp": 1565377119466,
     "user": {
      "displayName": "Rishabh Sutravey",
      "photoUrl": "",
      "userId": "13691094868251697255"
     },
     "user_tz": 240
    },
    "id": "loyUeAjHOh8z",
    "outputId": "20739e45-5e56-4cb8-cc19-2be920c7d177"
   },
   "outputs": [
    {
     "name": "stdout",
     "output_type": "stream",
     "text": [
      "My kindergarten students have varied disabilities ranging from speech and language delays, cognitive delays, gross/fine motor delays, to autism. They are eager beavers and always strive to work their hardest working past their limitations. \\r\\n\\r\\nThe materials we have are the ones I seek out for my students. I teach in a Title I school where most of the students receive free or reduced price lunch.  Despite their disabilities and limitations, my students love coming to school and come eager to learn and explore.Have you ever felt like you had ants in your pants and you needed to groove and move as you were in a meeting? This is how my kids feel all the time. The want to be able to move as they learn or so they say.Wobble chairs are the answer and I love then because they develop their core, which enhances gross motor and in Turn fine motor skills. \\r\\nThey also want to learn through games, my kids do not want to sit and do worksheets. They want to learn to count by jumping and playing. Physical engagement is the key to our success. The number toss and color and shape mats can make that happen. My students will forget they are doing work and just have the fun a 6 year old deserves.nannan\n",
      "==================================================\n"
     ]
    }
   ],
   "source": [
    "sent = decontracted(project_data['essay'].values[20000])\n",
    "print(sent)\n",
    "print(\"=\"*50)"
   ]
  },
  {
   "cell_type": "code",
   "execution_count": 15,
   "metadata": {
    "colab": {
     "base_uri": "https://localhost:8080/",
     "height": 55
    },
    "colab_type": "code",
    "executionInfo": {
     "elapsed": 101340,
     "status": "ok",
     "timestamp": 1565377119468,
     "user": {
      "displayName": "Rishabh Sutravey",
      "photoUrl": "",
      "userId": "13691094868251697255"
     },
     "user_tz": 240
    },
    "id": "yLZz_CbMOh84",
    "outputId": "c236dd66-bc5b-4b57-d27f-9e499a4883eb"
   },
   "outputs": [
    {
     "name": "stdout",
     "output_type": "stream",
     "text": [
      "My kindergarten students have varied disabilities ranging from speech and language delays, cognitive delays, gross/fine motor delays, to autism. They are eager beavers and always strive to work their hardest working past their limitations.     The materials we have are the ones I seek out for my students. I teach in a Title I school where most of the students receive free or reduced price lunch.  Despite their disabilities and limitations, my students love coming to school and come eager to learn and explore.Have you ever felt like you had ants in your pants and you needed to groove and move as you were in a meeting? This is how my kids feel all the time. The want to be able to move as they learn or so they say.Wobble chairs are the answer and I love then because they develop their core, which enhances gross motor and in Turn fine motor skills.   They also want to learn through games, my kids do not want to sit and do worksheets. They want to learn to count by jumping and playing. Physical engagement is the key to our success. The number toss and color and shape mats can make that happen. My students will forget they are doing work and just have the fun a 6 year old deserves.nannan\n"
     ]
    }
   ],
   "source": [
    "# \\r \\n \\t remove from string python: http://texthandler.com/info/remove-line-breaks-python/\n",
    "sent = sent.replace('\\\\r', ' ')\n",
    "sent = sent.replace('\\\\\"', ' ')\n",
    "sent = sent.replace('\\\\n', ' ')\n",
    "print(sent)"
   ]
  },
  {
   "cell_type": "code",
   "execution_count": 16,
   "metadata": {
    "colab": {
     "base_uri": "https://localhost:8080/",
     "height": 55
    },
    "colab_type": "code",
    "executionInfo": {
     "elapsed": 101315,
     "status": "ok",
     "timestamp": 1565377119468,
     "user": {
      "displayName": "Rishabh Sutravey",
      "photoUrl": "",
      "userId": "13691094868251697255"
     },
     "user_tz": 240
    },
    "id": "QBEg9vnkOh8_",
    "outputId": "5c63ddee-6c4b-4559-eff7-ec10048d5d56"
   },
   "outputs": [
    {
     "name": "stdout",
     "output_type": "stream",
     "text": [
      "My kindergarten students have varied disabilities ranging from speech and language delays cognitive delays gross fine motor delays to autism They are eager beavers and always strive to work their hardest working past their limitations The materials we have are the ones I seek out for my students I teach in a Title I school where most of the students receive free or reduced price lunch Despite their disabilities and limitations my students love coming to school and come eager to learn and explore Have you ever felt like you had ants in your pants and you needed to groove and move as you were in a meeting This is how my kids feel all the time The want to be able to move as they learn or so they say Wobble chairs are the answer and I love then because they develop their core which enhances gross motor and in Turn fine motor skills They also want to learn through games my kids do not want to sit and do worksheets They want to learn to count by jumping and playing Physical engagement is the key to our success The number toss and color and shape mats can make that happen My students will forget they are doing work and just have the fun a 6 year old deserves nannan\n"
     ]
    }
   ],
   "source": [
    "#remove spacial character: https://stackoverflow.com/a/5843547/4084039\n",
    "sent = re.sub('[^A-Za-z0-9]+', ' ', sent)\n",
    "print(sent)"
   ]
  },
  {
   "cell_type": "code",
   "execution_count": 0,
   "metadata": {
    "colab": {},
    "colab_type": "code",
    "id": "f9xBNXfxOh9F"
   },
   "outputs": [],
   "source": [
    "# https://gist.github.com/sebleier/554280\n",
    "# we are removing the words from the stop words list: 'no', 'nor', 'not'\n",
    "stopwords= ['i', 'me', 'my', 'myself', 'we', 'our', 'ours', 'ourselves', 'you', \"you're\", \"you've\",\\\n",
    "            \"you'll\", \"you'd\", 'your', 'yours', 'yourself', 'yourselves', 'he', 'him', 'his', 'himself', \\\n",
    "            'she', \"she's\", 'her', 'hers', 'herself', 'it', \"it's\", 'its', 'itself', 'they', 'them', 'their',\\\n",
    "            'theirs', 'themselves', 'what', 'which', 'who', 'whom', 'this', 'that', \"that'll\", 'these', 'those', \\\n",
    "            'am', 'is', 'are', 'was', 'were', 'be', 'been', 'being', 'have', 'has', 'had', 'having', 'do', 'does', \\\n",
    "            'did', 'doing', 'a', 'an', 'the', 'and', 'but', 'if', 'or', 'because', 'as', 'until', 'while', 'of', \\\n",
    "            'at', 'by', 'for', 'with', 'about', 'against', 'between', 'into', 'through', 'during', 'before', 'after',\\\n",
    "            'above', 'below', 'to', 'from', 'up', 'down', 'in', 'out', 'on', 'off', 'over', 'under', 'again', 'further',\\\n",
    "            'then', 'once', 'here', 'there', 'when', 'where', 'why', 'how', 'all', 'any', 'both', 'each', 'few', 'more',\\\n",
    "            'most', 'other', 'some', 'such', 'only', 'own', 'same', 'so', 'than', 'too', 'very', \\\n",
    "            's', 't', 'can', 'will', 'just', 'don', \"don't\", 'should', \"should've\", 'now', 'd', 'll', 'm', 'o', 're', \\\n",
    "            've', 'y', 'ain', 'aren', \"aren't\", 'couldn', \"couldn't\", 'didn', \"didn't\", 'doesn', \"doesn't\", 'hadn',\\\n",
    "            \"hadn't\", 'hasn', \"hasn't\", 'haven', \"haven't\", 'isn', \"isn't\", 'ma', 'mightn', \"mightn't\", 'mustn',\\\n",
    "            \"mustn't\", 'needn', \"needn't\", 'shan', \"shan't\", 'shouldn', \"shouldn't\", 'wasn', \"wasn't\", 'weren', \"weren't\", \\\n",
    "            'won', \"won't\", 'wouldn', \"wouldn't\",'no', 'nor', 'not']"
   ]
  },
  {
   "cell_type": "code",
   "execution_count": 18,
   "metadata": {
    "colab": {
     "base_uri": "https://localhost:8080/",
     "height": 35
    },
    "colab_type": "code",
    "executionInfo": {
     "elapsed": 164548,
     "status": "ok",
     "timestamp": 1565377182728,
     "user": {
      "displayName": "Rishabh Sutravey",
      "photoUrl": "",
      "userId": "13691094868251697255"
     },
     "user_tz": 240
    },
    "id": "ykn0tBvpOh9M",
    "outputId": "5b3b8dbb-3b63-468e-be85-40abc3fecc8e"
   },
   "outputs": [
    {
     "name": "stderr",
     "output_type": "stream",
     "text": [
      "100%|██████████| 109248/109248 [01:02<00:00, 1734.36it/s]\n"
     ]
    }
   ],
   "source": [
    "# Combining all the above stundents \n",
    "from tqdm import tqdm\n",
    "preprocessed_essays = []\n",
    "# tqdm is for printing the status bar\n",
    "for sentance in tqdm(project_data['essay'].values):\n",
    "    # https://gist.github.com/sebleier/554280\n",
    "    sentance = re.sub('[^A-Za-z0-9]+', ' ', sentance)\n",
    "    sentance = ' '.join(e for e in sentance.lower().split() if e not in stopwords)\n",
    "    sent = decontracted(sentance)\n",
    "    sent = sent.replace('\\\\r', ' ')\n",
    "    sent = sent.replace('\\\\\"', ' ')\n",
    "    sent = sent.replace('\\\\n', ' ')\n",
    "    \n",
    "    \n",
    "    preprocessed_essays.append(sent.strip())\n",
    "    \n",
    "project_data['clean_essay'] = preprocessed_essays\n",
    "project_data.drop(['essay'], axis=1, inplace=True)"
   ]
  },
  {
   "cell_type": "code",
   "execution_count": 19,
   "metadata": {
    "colab": {
     "base_uri": "https://localhost:8080/",
     "height": 55
    },
    "colab_type": "code",
    "executionInfo": {
     "elapsed": 164530,
     "status": "ok",
     "timestamp": 1565377182734,
     "user": {
      "displayName": "Rishabh Sutravey",
      "photoUrl": "",
      "userId": "13691094868251697255"
     },
     "user_tz": 240
    },
    "id": "xQcuOWaaOh9P",
    "outputId": "b49e67d9-3b7f-45b5-e227-40a630acf23c"
   },
   "outputs": [
    {
     "data": {
      "text/plain": [
       "'kindergarten students varied disabilities ranging speech language delays cognitive delays gross fine motor delays autism eager beavers always strive work hardest working past limitations r n r nthe materials ones seek students teach title school students receive free reduced price lunch despite disabilities limitations students love coming school come eager learn explore ever felt like ants pants needed groove move meeting kids feel time want able move learn say wobble chairs answer love develop core enhances gross motor turn fine motor skills r nthey also want learn games kids want sit worksheets want learn count jumping playing physical engagement key success number toss color shape mats make happen students forget work fun 6 year old deserves nannan'"
      ]
     },
     "execution_count": 19,
     "metadata": {
      "tags": []
     },
     "output_type": "execute_result"
    }
   ],
   "source": [
    "# after preprocesing\n",
    "preprocessed_essays[20000]"
   ]
  },
  {
   "cell_type": "markdown",
   "metadata": {
    "colab_type": "text",
    "id": "dATutMFcOh9S"
   },
   "source": [
    "<h2><font color='red'> 1.4 Preprocessing of `project_title`</font></h2>"
   ]
  },
  {
   "cell_type": "code",
   "execution_count": 20,
   "metadata": {
    "colab": {
     "base_uri": "https://localhost:8080/",
     "height": 35
    },
    "colab_type": "code",
    "executionInfo": {
     "elapsed": 168148,
     "status": "ok",
     "timestamp": 1565377186376,
     "user": {
      "displayName": "Rishabh Sutravey",
      "photoUrl": "",
      "userId": "13691094868251697255"
     },
     "user_tz": 240
    },
    "id": "7BrWMw3vOh9T",
    "outputId": "2445a335-9401-4769-f18e-1495bacf3ff9"
   },
   "outputs": [
    {
     "name": "stderr",
     "output_type": "stream",
     "text": [
      "100%|██████████| 109248/109248 [00:03<00:00, 35646.61it/s]\n"
     ]
    }
   ],
   "source": [
    "# similarly you can preprocess the titles also\n",
    "\n",
    "from tqdm import tqdm\n",
    "preprocessed_title = []\n",
    "# tqdm is for printing the status bar\n",
    "for sentance in tqdm(project_data['project_title'].values):\n",
    "    # https://gist.github.com/sebleier/554280\n",
    "    sentance = re.sub('[^A-Za-z0-9]+', ' ', sentance)\n",
    "    sentance = ' '.join(e for e in sentance.lower().split() if e not in stopwords)\n",
    "    sent = decontracted(sentance)\n",
    "    sent = sent.replace('\\\\r', ' ')\n",
    "    sent = sent.replace('\\\\\"', ' ')\n",
    "    sent = sent.replace('\\\\n', ' ')\n",
    "    \n",
    "    \n",
    "    preprocessed_title.append(sent.strip())\n",
    "    \n",
    "project_data['clean_title'] = preprocessed_title\n",
    "project_data.drop(['project_title'], axis=1, inplace=True)"
   ]
  },
  {
   "cell_type": "code",
   "execution_count": 21,
   "metadata": {
    "colab": {
     "base_uri": "https://localhost:8080/",
     "height": 35
    },
    "colab_type": "code",
    "executionInfo": {
     "elapsed": 168127,
     "status": "ok",
     "timestamp": 1565377186378,
     "user": {
      "displayName": "Rishabh Sutravey",
      "photoUrl": "",
      "userId": "13691094868251697255"
     },
     "user_tz": 240
    },
    "id": "OYLbki_CB0cF",
    "outputId": "f8f8cffd-47c6-4194-8cf8-beaf4d9cf477"
   },
   "outputs": [
    {
     "data": {
      "text/plain": [
       "'need move input'"
      ]
     },
     "execution_count": 21,
     "metadata": {
      "tags": []
     },
     "output_type": "execute_result"
    }
   ],
   "source": [
    "preprocessed_title[20000]"
   ]
  },
  {
   "cell_type": "code",
   "execution_count": 0,
   "metadata": {
    "colab": {},
    "colab_type": "code",
    "id": "m5GmGSE7xnr8"
   },
   "outputs": [],
   "source": [
    "#https://stackoverflow.com/questions/42224700/attributeerror-float-object-has-no-attribute-split\n",
    "project_data['teacher_prefix']=project_data['teacher_prefix'].fillna(\"N/A\") \n",
    "project_data['project_essay_3']=project_data['project_essay_3'].fillna(\"N/A\")\n",
    "project_data['project_essay_4']=project_data['project_essay_4'].fillna(\"N/A\")"
   ]
  },
  {
   "cell_type": "markdown",
   "metadata": {
    "colab_type": "text",
    "id": "5qoBza_4w3TT"
   },
   "source": [
    "## Calculating Sentiment scores for each essay"
   ]
  },
  {
   "cell_type": "code",
   "execution_count": 23,
   "metadata": {
    "colab": {
     "base_uri": "https://localhost:8080/",
     "height": 35
    },
    "colab_type": "code",
    "executionInfo": {
     "elapsed": 169025,
     "status": "ok",
     "timestamp": 1565377187300,
     "user": {
      "displayName": "Rishabh Sutravey",
      "photoUrl": "",
      "userId": "13691094868251697255"
     },
     "user_tz": 240
    },
    "id": "GF58RDQG5-pz",
    "outputId": "1a8846db-d218-41a9-87cb-89216d3ede88"
   },
   "outputs": [
    {
     "name": "stdout",
     "output_type": "stream",
     "text": [
      "[nltk_data] Downloading package vader_lexicon to /root/nltk_data...\n"
     ]
    }
   ],
   "source": [
    "import nltk\n",
    "from nltk.sentiment.vader import SentimentIntensityAnalyzer\n",
    "\n",
    "import nltk\n",
    "nltk.download('vader_lexicon')\n",
    "\n",
    "sid = SentimentIntensityAnalyzer()"
   ]
  },
  {
   "cell_type": "markdown",
   "metadata": {
    "colab_type": "text",
    "id": "nyIGZet-aCIF"
   },
   "source": [
    "#### Sentiment scores of essay-1"
   ]
  },
  {
   "cell_type": "code",
   "execution_count": 24,
   "metadata": {
    "colab": {
     "base_uri": "https://localhost:8080/",
     "height": 35
    },
    "colab_type": "code",
    "executionInfo": {
     "elapsed": 174316,
     "status": "ok",
     "timestamp": 1565377192611,
     "user": {
      "displayName": "Rishabh Sutravey",
      "photoUrl": "",
      "userId": "13691094868251697255"
     },
     "user_tz": 240
    },
    "id": "_45xth1zs_wU",
    "outputId": "964eba05-3710-44b2-e4d3-57e991d3e592"
   },
   "outputs": [
    {
     "name": "stderr",
     "output_type": "stream",
     "text": [
      "100%|██████████| 109248/109248 [00:05<00:00, 18774.19it/s]\n"
     ]
    }
   ],
   "source": [
    "\n",
    "from tqdm import tqdm\n",
    "preprocessed_e1 = []\n",
    "# tqdm is for printing the status bar\n",
    "for sentance in tqdm(project_data['project_essay_1'].values):\n",
    "    sent = decontracted(sentance)\n",
    "    sent = sent.replace('\\\\r', ' ')\n",
    "    sent = sent.replace('\\\\\"', ' ')\n",
    "    sent = sent.replace('\\\\n', ' ')\n",
    "    sent = re.sub('[^A-Za-z0-9]+', ' ', sent)\n",
    "    # https://gist.github.com/sebleier/554280\n",
    "    preprocessed_e1.append(sent.lower().strip())"
   ]
  },
  {
   "cell_type": "code",
   "execution_count": 0,
   "metadata": {
    "colab": {},
    "colab_type": "code",
    "id": "eFR81hDcyVHq"
   },
   "outputs": [],
   "source": [
    "neg_e1=[]\n",
    "neu_e1=[]\n",
    "pos_e1=[]\n",
    "compound_e1=[]\n",
    "for essay in preprocessed_e1:\n",
    "  ss = sid.polarity_scores(essay)\n",
    "  neg_e1.append(ss['neg'])\n",
    "  neu_e1.append(ss['neu'])\n",
    "  pos_e1.append(ss['pos'])\n",
    "  compound_e1.append(ss['compound'])\n",
    "  \n"
   ]
  },
  {
   "cell_type": "markdown",
   "metadata": {
    "colab_type": "text",
    "id": "NxVcU5sDaO6K"
   },
   "source": [
    "#### Sentiment scores of essay-2"
   ]
  },
  {
   "cell_type": "code",
   "execution_count": 26,
   "metadata": {
    "colab": {
     "base_uri": "https://localhost:8080/",
     "height": 35
    },
    "colab_type": "code",
    "executionInfo": {
     "elapsed": 344782,
     "status": "ok",
     "timestamp": 1565377363101,
     "user": {
      "displayName": "Rishabh Sutravey",
      "photoUrl": "",
      "userId": "13691094868251697255"
     },
     "user_tz": 240
    },
    "id": "R_H0LznmaVsl",
    "outputId": "908b7547-9dd6-414a-e228-0b7420d4890b"
   },
   "outputs": [
    {
     "name": "stderr",
     "output_type": "stream",
     "text": [
      "100%|██████████| 109248/109248 [00:06<00:00, 15928.71it/s]\n"
     ]
    }
   ],
   "source": [
    "preprocessed_e2 = []\n",
    "# tqdm is for printing the status bar\n",
    "for sentance in tqdm(project_data['project_essay_2'].values):\n",
    "    sent = decontracted(sentance)\n",
    "    sent = sent.replace('\\\\r', ' ')\n",
    "    sent = sent.replace('\\\\\"', ' ')\n",
    "    sent = sent.replace('\\\\n', ' ')\n",
    "    sent = re.sub('[^A-Za-z0-9]+', ' ', sent)\n",
    "    # https://gist.github.com/sebleier/554280\n",
    "    preprocessed_e2.append(sent.lower().strip())"
   ]
  },
  {
   "cell_type": "code",
   "execution_count": 0,
   "metadata": {
    "colab": {},
    "colab_type": "code",
    "id": "-EnKyHcXaV5E"
   },
   "outputs": [],
   "source": [
    "neg_e2=[]\n",
    "neu_e2=[]\n",
    "pos_e2=[]\n",
    "compound_e2=[]\n",
    "for essay in preprocessed_e2:\n",
    "  ss = sid.polarity_scores(essay)\n",
    "  neg_e2.append(ss['neg'])\n",
    "  neu_e2.append(ss['neu'])\n",
    "  pos_e2.append(ss['pos'])\n",
    "  compound_e2.append(ss['compound'])\n",
    "  "
   ]
  },
  {
   "cell_type": "markdown",
   "metadata": {
    "colab_type": "text",
    "id": "eCgzaI-ZcTV2"
   },
   "source": [
    "#### Sentiment scores of essay-3"
   ]
  },
  {
   "cell_type": "code",
   "execution_count": 28,
   "metadata": {
    "colab": {
     "base_uri": "https://localhost:8080/",
     "height": 35
    },
    "colab_type": "code",
    "executionInfo": {
     "elapsed": 538685,
     "status": "ok",
     "timestamp": 1565377557028,
     "user": {
      "displayName": "Rishabh Sutravey",
      "photoUrl": "",
      "userId": "13691094868251697255"
     },
     "user_tz": 240
    },
    "id": "zjvLuLo1cWI3",
    "outputId": "fd219e14-d5a1-4082-d891-ad3ef6647945"
   },
   "outputs": [
    {
     "name": "stderr",
     "output_type": "stream",
     "text": [
      "100%|██████████| 109248/109248 [00:01<00:00, 70471.89it/s]\n"
     ]
    }
   ],
   "source": [
    "preprocessed_e3 = []\n",
    "# tqdm is for printing the status bar\n",
    "for sentance in tqdm(project_data['project_essay_3'].values):\n",
    "    sent = decontracted(sentance)\n",
    "    sent = sent.replace('\\\\r', ' ')\n",
    "    sent = sent.replace('\\\\\"', ' ')\n",
    "    sent = sent.replace('\\\\n', ' ')\n",
    "    sent = re.sub('[^A-Za-z0-9]+', ' ', sent)\n",
    "    # https://gist.github.com/sebleier/554280\n",
    "    preprocessed_e3.append(sent.lower().strip())"
   ]
  },
  {
   "cell_type": "code",
   "execution_count": 0,
   "metadata": {
    "colab": {},
    "colab_type": "code",
    "id": "oSZ8C-DOcYZy"
   },
   "outputs": [],
   "source": [
    "neg_e3=[]\n",
    "neu_e3=[]\n",
    "pos_e3=[]\n",
    "compound_e3=[]\n",
    "for essay in preprocessed_e3:\n",
    "  ss = sid.polarity_scores(essay)\n",
    "  neg_e3.append(ss['neg'])\n",
    "  neu_e3.append(ss['neu'])\n",
    "  pos_e3.append(ss['pos'])\n",
    "  compound_e3.append(ss['compound'])"
   ]
  },
  {
   "cell_type": "markdown",
   "metadata": {
    "colab_type": "text",
    "id": "I3Id3QFVc-a9"
   },
   "source": [
    "#### Sentiment scores of essay-4"
   ]
  },
  {
   "cell_type": "code",
   "execution_count": 30,
   "metadata": {
    "colab": {
     "base_uri": "https://localhost:8080/",
     "height": 35
    },
    "colab_type": "code",
    "executionInfo": {
     "elapsed": 546262,
     "status": "ok",
     "timestamp": 1565377564630,
     "user": {
      "displayName": "Rishabh Sutravey",
      "photoUrl": "",
      "userId": "13691094868251697255"
     },
     "user_tz": 240
    },
    "id": "YB3Za98JdAzj",
    "outputId": "95cbff0d-7afd-41e9-c1a5-b0cfd9b8bd88"
   },
   "outputs": [
    {
     "name": "stderr",
     "output_type": "stream",
     "text": [
      "100%|██████████| 109248/109248 [00:01<00:00, 71546.26it/s]\n"
     ]
    }
   ],
   "source": [
    "preprocessed_e4 = []\n",
    "# tqdm is for printing the status bar\n",
    "for sentance in tqdm(project_data['project_essay_4'].values):\n",
    "    sent = decontracted(sentance)\n",
    "    sent = sent.replace('\\\\r', ' ')\n",
    "    sent = sent.replace('\\\\\"', ' ')\n",
    "    sent = sent.replace('\\\\n', ' ')\n",
    "    sent = re.sub('[^A-Za-z0-9]+', ' ', sent)\n",
    "    # https://gist.github.com/sebleier/554280\n",
    "    preprocessed_e4.append(sent.lower().strip())"
   ]
  },
  {
   "cell_type": "code",
   "execution_count": 0,
   "metadata": {
    "colab": {},
    "colab_type": "code",
    "id": "zD4ja5xMdEPL"
   },
   "outputs": [],
   "source": [
    "neg_e4=[]\n",
    "neu_e4=[]\n",
    "pos_e4=[]\n",
    "compound_e4=[]\n",
    "for essay in preprocessed_e4:\n",
    "  ss = sid.polarity_scores(essay)\n",
    "  neg_e4.append(ss['neg'])\n",
    "  neu_e4.append(ss['neu'])\n",
    "  pos_e4.append(ss['pos'])\n",
    "  compound_e4.append(ss['compound'])"
   ]
  },
  {
   "cell_type": "code",
   "execution_count": 32,
   "metadata": {
    "colab": {
     "base_uri": "https://localhost:8080/",
     "height": 35
    },
    "colab_type": "code",
    "executionInfo": {
     "elapsed": 551151,
     "status": "ok",
     "timestamp": 1565377569541,
     "user": {
      "displayName": "Rishabh Sutravey",
      "photoUrl": "",
      "userId": "13691094868251697255"
     },
     "user_tz": 240
    },
    "id": "_VjQFK_rC2Dj",
    "outputId": "e140405b-419c-45ef-e82e-a231bba0f4cf"
   },
   "outputs": [
    {
     "name": "stdout",
     "output_type": "stream",
     "text": [
      "109248\n"
     ]
    }
   ],
   "source": [
    "essay_count=[]\n",
    "for sent in project_data['clean_essay']:\n",
    "  word_count=sent.split()\n",
    "  essay_count.append(len(word_count))\n",
    "\n",
    "print(len(essay_count))"
   ]
  },
  {
   "cell_type": "code",
   "execution_count": 33,
   "metadata": {
    "colab": {
     "base_uri": "https://localhost:8080/",
     "height": 35
    },
    "colab_type": "code",
    "executionInfo": {
     "elapsed": 551132,
     "status": "ok",
     "timestamp": 1565377569543,
     "user": {
      "displayName": "Rishabh Sutravey",
      "photoUrl": "",
      "userId": "13691094868251697255"
     },
     "user_tz": 240
    },
    "id": "J34N8Q269cw-",
    "outputId": "5c5e3ff0-9a46-4e74-a22b-7546365a002a"
   },
   "outputs": [
    {
     "name": "stdout",
     "output_type": "stream",
     "text": [
      "109248\n"
     ]
    }
   ],
   "source": [
    "title_count=[]\n",
    "for sent in project_data['clean_title']:\n",
    "  word_count=sent.split()\n",
    "  title_count.append(len(word_count))\n",
    "  \n",
    "print(len(essay_count))"
   ]
  },
  {
   "cell_type": "code",
   "execution_count": 0,
   "metadata": {
    "colab": {},
    "colab_type": "code",
    "id": "PvSL26f_3umx"
   },
   "outputs": [],
   "source": [
    "project_data['neg_e1'] = neg_e1\n",
    "project_data['neu_e1'] = neu_e1\n",
    "project_data['pos_e1'] = pos_e1\n",
    "project_data['compound_e1'] = compound_e1\n",
    "\n",
    "project_data['neg_e2'] = neg_e2\n",
    "project_data['neu_e2'] = neu_e2\n",
    "project_data['pos_e2'] = pos_e2\n",
    "project_data['compound_e2'] = compound_e2\n",
    "\n",
    "project_data['neg_e3'] = neg_e3\n",
    "project_data['neu_e3'] = neu_e3\n",
    "project_data['pos_e3'] = pos_e3\n",
    "project_data['compound_e3'] = compound_e3\n",
    "\n",
    "project_data['neg_e4'] = neg_e4\n",
    "project_data['neu_e4'] = neu_e4\n",
    "project_data['pos_e4'] = pos_e4\n",
    "project_data['compound_e4'] = compound_e4\n",
    "\n",
    "project_data['essay_count'] = essay_count\n",
    "project_data['title_count'] = title_count"
   ]
  },
  {
   "cell_type": "markdown",
   "metadata": {
    "colab_type": "text",
    "id": "q7zXfuktOh9W"
   },
   "source": [
    "## 1.5 Preparing data for models"
   ]
  },
  {
   "cell_type": "code",
   "execution_count": 35,
   "metadata": {
    "colab": {
     "base_uri": "https://localhost:8080/",
     "height": 201
    },
    "colab_type": "code",
    "executionInfo": {
     "elapsed": 551111,
     "status": "ok",
     "timestamp": 1565377569547,
     "user": {
      "displayName": "Rishabh Sutravey",
      "photoUrl": "",
      "userId": "13691094868251697255"
     },
     "user_tz": 240
    },
    "id": "GWx5ER5XOh9X",
    "outputId": "08ff2829-85b3-45d1-f0db-96223180acad"
   },
   "outputs": [
    {
     "data": {
      "text/plain": [
       "Index(['Unnamed: 0', 'id', 'teacher_id', 'teacher_prefix', 'school_state',\n",
       "       'project_submitted_datetime', 'project_essay_1', 'project_essay_2',\n",
       "       'project_essay_3', 'project_essay_4', 'project_resource_summary',\n",
       "       'teacher_number_of_previously_posted_projects', 'project_is_approved',\n",
       "       'price', 'quantity', 'clean_categories', 'clean_subcategories',\n",
       "       'grades', 'clean_essay', 'clean_title', 'neg_e1', 'neu_e1', 'pos_e1',\n",
       "       'compound_e1', 'neg_e2', 'neu_e2', 'pos_e2', 'compound_e2', 'neg_e3',\n",
       "       'neu_e3', 'pos_e3', 'compound_e3', 'neg_e4', 'neu_e4', 'pos_e4',\n",
       "       'compound_e4', 'essay_count', 'title_count'],\n",
       "      dtype='object')"
      ]
     },
     "execution_count": 35,
     "metadata": {
      "tags": []
     },
     "output_type": "execute_result"
    }
   ],
   "source": [
    "project_data.columns"
   ]
  },
  {
   "cell_type": "code",
   "execution_count": 36,
   "metadata": {
    "colab": {
     "base_uri": "https://localhost:8080/",
     "height": 54
    },
    "colab_type": "code",
    "executionInfo": {
     "elapsed": 551091,
     "status": "ok",
     "timestamp": 1565377569548,
     "user": {
      "displayName": "Rishabh Sutravey",
      "photoUrl": "",
      "userId": "13691094868251697255"
     },
     "user_tz": 240
    },
    "id": "CcckyUSxB8Dm",
    "outputId": "16e00efa-bcf0-4d7b-c061-e1c906e32fc3"
   },
   "outputs": [
    {
     "name": "stdout",
     "output_type": "stream",
     "text": [
      "Number of projects that are approved for funding  92706 , ( 84.85830404217927 %)\n",
      "Number of projects that are not approved for funding  16542 , ( 15.141695957820739 %)\n"
     ]
    }
   ],
   "source": [
    "y_value_counts = project_data['project_is_approved'].value_counts()\n",
    "print(\"Number of projects that are approved for funding \", y_value_counts[1], \", (\", (y_value_counts[1]/(y_value_counts[1]+y_value_counts[0]))*100,\"%)\")\n",
    "print(\"Number of projects that are not approved for funding \", y_value_counts[0], \", (\", (y_value_counts[0]/(y_value_counts[1]+y_value_counts[0]))*100,\"%)\")\n"
   ]
  },
  {
   "cell_type": "markdown",
   "metadata": {
    "colab_type": "text",
    "id": "j2-sbIVbOh9a"
   },
   "source": [
    "we are going to consider\n",
    "\n",
    "       - school_state : categorical data\n",
    "       - clean_categories : categorical data\n",
    "       - clean_subcategories : categorical data\n",
    "       - project_grade_category : categorical data\n",
    "       - teacher_prefix : categorical data\n",
    "       \n",
    "       - project_title : text data\n",
    "       - text : text data\n",
    "       - project_resource_summary: text data (optinal)\n",
    "       \n",
    "       - quantity : numerical (optinal)\n",
    "       - teacher_number_of_previously_posted_projects : numerical\n",
    "       - price : numerical"
   ]
  },
  {
   "cell_type": "markdown",
   "metadata": {
    "colab_type": "text",
    "id": "DrK20qwNFGa_"
   },
   "source": [
    "## Splitting Data into Train,CV and Test"
   ]
  },
  {
   "cell_type": "code",
   "execution_count": 37,
   "metadata": {
    "colab": {
     "base_uri": "https://localhost:8080/",
     "height": 205
    },
    "colab_type": "code",
    "executionInfo": {
     "elapsed": 551073,
     "status": "ok",
     "timestamp": 1565377569550,
     "user": {
      "displayName": "Rishabh Sutravey",
      "photoUrl": "",
      "userId": "13691094868251697255"
     },
     "user_tz": 240
    },
    "id": "0sZlDWDOFC7W",
    "outputId": "eca0e69b-b935-44a4-b115-d8ae8753b0f9"
   },
   "outputs": [
    {
     "data": {
      "text/html": [
       "<div>\n",
       "<style scoped>\n",
       "    .dataframe tbody tr th:only-of-type {\n",
       "        vertical-align: middle;\n",
       "    }\n",
       "\n",
       "    .dataframe tbody tr th {\n",
       "        vertical-align: top;\n",
       "    }\n",
       "\n",
       "    .dataframe thead th {\n",
       "        text-align: right;\n",
       "    }\n",
       "</style>\n",
       "<table border=\"1\" class=\"dataframe\">\n",
       "  <thead>\n",
       "    <tr style=\"text-align: right;\">\n",
       "      <th></th>\n",
       "      <th>Unnamed: 0</th>\n",
       "      <th>id</th>\n",
       "      <th>teacher_id</th>\n",
       "      <th>teacher_prefix</th>\n",
       "      <th>school_state</th>\n",
       "      <th>project_submitted_datetime</th>\n",
       "      <th>project_essay_1</th>\n",
       "      <th>project_essay_2</th>\n",
       "      <th>project_essay_3</th>\n",
       "      <th>project_essay_4</th>\n",
       "      <th>project_resource_summary</th>\n",
       "      <th>teacher_number_of_previously_posted_projects</th>\n",
       "      <th>price</th>\n",
       "      <th>quantity</th>\n",
       "      <th>clean_categories</th>\n",
       "      <th>clean_subcategories</th>\n",
       "      <th>grades</th>\n",
       "      <th>clean_essay</th>\n",
       "      <th>clean_title</th>\n",
       "      <th>neg_e1</th>\n",
       "      <th>neu_e1</th>\n",
       "      <th>pos_e1</th>\n",
       "      <th>compound_e1</th>\n",
       "      <th>neg_e2</th>\n",
       "      <th>neu_e2</th>\n",
       "      <th>pos_e2</th>\n",
       "      <th>compound_e2</th>\n",
       "      <th>neg_e3</th>\n",
       "      <th>neu_e3</th>\n",
       "      <th>pos_e3</th>\n",
       "      <th>compound_e3</th>\n",
       "      <th>neg_e4</th>\n",
       "      <th>neu_e4</th>\n",
       "      <th>pos_e4</th>\n",
       "      <th>compound_e4</th>\n",
       "      <th>essay_count</th>\n",
       "      <th>title_count</th>\n",
       "    </tr>\n",
       "  </thead>\n",
       "  <tbody>\n",
       "    <tr>\n",
       "      <th>0</th>\n",
       "      <td>160221</td>\n",
       "      <td>p253737</td>\n",
       "      <td>c90749f5d961ff158d4b4d1e7dc665fc</td>\n",
       "      <td>Mrs.</td>\n",
       "      <td>IN</td>\n",
       "      <td>2016-12-05 13:43:57</td>\n",
       "      <td>My students are English learners that are work...</td>\n",
       "      <td>\\\"The limits of your language are the limits o...</td>\n",
       "      <td>N/A</td>\n",
       "      <td>N/A</td>\n",
       "      <td>My students need opportunities to practice beg...</td>\n",
       "      <td>0</td>\n",
       "      <td>154.6</td>\n",
       "      <td>23</td>\n",
       "      <td>Literacy_Language</td>\n",
       "      <td>ESL Literacy</td>\n",
       "      <td>GradesPreK_2</td>\n",
       "      <td>students english learners working english seco...</td>\n",
       "      <td>educational support english learners home</td>\n",
       "      <td>0.0</td>\n",
       "      <td>0.9</td>\n",
       "      <td>0.1</td>\n",
       "      <td>0.8481</td>\n",
       "      <td>0.011</td>\n",
       "      <td>0.905</td>\n",
       "      <td>0.084</td>\n",
       "      <td>0.9242</td>\n",
       "      <td>0.0</td>\n",
       "      <td>0.0</td>\n",
       "      <td>0.0</td>\n",
       "      <td>0.0</td>\n",
       "      <td>0.0</td>\n",
       "      <td>0.0</td>\n",
       "      <td>0.0</td>\n",
       "      <td>0.0</td>\n",
       "      <td>159</td>\n",
       "      <td>5</td>\n",
       "    </tr>\n",
       "  </tbody>\n",
       "</table>\n",
       "</div>"
      ],
      "text/plain": [
       "   Unnamed: 0       id  ... essay_count title_count\n",
       "0      160221  p253737  ...         159           5\n",
       "\n",
       "[1 rows x 37 columns]"
      ]
     },
     "execution_count": 37,
     "metadata": {
      "tags": []
     },
     "output_type": "execute_result"
    }
   ],
   "source": [
    "from sklearn.model_selection import train_test_split\n",
    "\n",
    "y = project_data['project_is_approved'].values\n",
    "y[y == 0] = -1   #https://www.w3resource.com/python-exercises/numpy/python-numpy-exercise-88.php\n",
    "X = project_data.drop(['project_is_approved'], axis=1)\n",
    "X.head(1)"
   ]
  },
  {
   "cell_type": "code",
   "execution_count": 0,
   "metadata": {
    "colab": {},
    "colab_type": "code",
    "id": "udXDA6kkFGR2"
   },
   "outputs": [],
   "source": [
    "X_train, X_test, y_train, y_test = train_test_split( X, y, test_size=0.3, stratify=y)\n",
    "X_train, X_cv,y_train,y_cv = train_test_split(X_train,y_train,test_size=0.3 ,stratify=y_train)"
   ]
  },
  {
   "cell_type": "code",
   "execution_count": 39,
   "metadata": {
    "colab": {
     "base_uri": "https://localhost:8080/",
     "height": 72
    },
    "colab_type": "code",
    "executionInfo": {
     "elapsed": 552481,
     "status": "ok",
     "timestamp": 1565377570980,
     "user": {
      "displayName": "Rishabh Sutravey",
      "photoUrl": "",
      "userId": "13691094868251697255"
     },
     "user_tz": 240
    },
    "id": "WI1g0DpAFJct",
    "outputId": "3248e7cc-f9ed-47a9-a76f-98f1b5f2e59d"
   },
   "outputs": [
    {
     "name": "stdout",
     "output_type": "stream",
     "text": [
      "(53531, 37)\n",
      "(32775, 37)\n",
      "(22942, 37)\n"
     ]
    }
   ],
   "source": [
    "print(X_train.shape)\n",
    "print(X_test.shape)\n",
    "print(X_cv.shape)"
   ]
  },
  {
   "cell_type": "code",
   "execution_count": 40,
   "metadata": {
    "colab": {
     "base_uri": "https://localhost:8080/",
     "height": 35
    },
    "colab_type": "code",
    "executionInfo": {
     "elapsed": 552461,
     "status": "ok",
     "timestamp": 1565377570981,
     "user": {
      "displayName": "Rishabh Sutravey",
      "photoUrl": "",
      "userId": "13691094868251697255"
     },
     "user_tz": 240
    },
    "id": "o9himsuHFNIT",
    "outputId": "96a5224f-021d-46f3-c4db-a153e3e21a47"
   },
   "outputs": [
    {
     "data": {
      "text/plain": [
       "{-1: 8105, 1: 45426}"
      ]
     },
     "execution_count": 40,
     "metadata": {
      "tags": []
     },
     "output_type": "execute_result"
    }
   ],
   "source": [
    "unique, counts = np.unique(y_train, return_counts=True)\n",
    "dict(zip(unique, counts))"
   ]
  },
  {
   "cell_type": "markdown",
   "metadata": {
    "colab_type": "text",
    "id": "7Fq9Eso_FVn4"
   },
   "source": [
    "### Up Sampling the X_train data"
   ]
  },
  {
   "cell_type": "code",
   "execution_count": 41,
   "metadata": {
    "colab": {
     "base_uri": "https://localhost:8080/",
     "height": 110
    },
    "colab_type": "code",
    "executionInfo": {
     "elapsed": 553038,
     "status": "ok",
     "timestamp": 1565377571577,
     "user": {
      "displayName": "Rishabh Sutravey",
      "photoUrl": "",
      "userId": "13691094868251697255"
     },
     "user_tz": 240
    },
    "id": "bZYVpjRCFTIT",
    "outputId": "41c00387-c3f9-4bd5-8f9b-2cb107250c77"
   },
   "outputs": [
    {
     "name": "stderr",
     "output_type": "stream",
     "text": [
      "/usr/local/lib/python3.6/dist-packages/sklearn/externals/six.py:31: DeprecationWarning:\n",
      "\n",
      "The module is deprecated in version 0.21 and will be removed in version 0.23 since we've dropped support for Python 2.7. Please rely on the official version of six (https://pypi.org/project/six/).\n",
      "\n"
     ]
    }
   ],
   "source": [
    "#https://imbalanced-learn.readthedocs.io/en/stable/generated/imblearn.over_sampling.RandomOverSampler.html\n",
    "from imblearn.over_sampling import RandomOverSampler\n",
    "\n",
    "ros = RandomOverSampler(random_state=42)\n",
    "X_res, y_res = ros.fit_resample(X_train, y_train)\n",
    "X_df=pd.DataFrame(X_res)"
   ]
  },
  {
   "cell_type": "code",
   "execution_count": 42,
   "metadata": {
    "colab": {
     "base_uri": "https://localhost:8080/",
     "height": 35
    },
    "colab_type": "code",
    "executionInfo": {
     "elapsed": 553019,
     "status": "ok",
     "timestamp": 1565377571578,
     "user": {
      "displayName": "Rishabh Sutravey",
      "photoUrl": "",
      "userId": "13691094868251697255"
     },
     "user_tz": 240
    },
    "id": "Um6odRFRFT4X",
    "outputId": "cb7ea3b6-3921-43be-ab98-a96d2ed411cc"
   },
   "outputs": [
    {
     "data": {
      "text/plain": [
       "{-1: 45426, 1: 45426}"
      ]
     },
     "execution_count": 42,
     "metadata": {
      "tags": []
     },
     "output_type": "execute_result"
    }
   ],
   "source": [
    "#https://stackoverflow.com/questions/19991338/creating-dictionary-from-numpy-array?rq=1\n",
    "col=dict(enumerate(X_train.columns.values))\n",
    "X_train=X_df.rename(columns=col)\n",
    "y_train=y_res\n",
    "unique, counts = np.unique(y_train, return_counts=True)\n",
    "dict(zip(unique, counts))"
   ]
  },
  {
   "cell_type": "markdown",
   "metadata": {
    "colab_type": "text",
    "id": "OeLLx404Oh9c"
   },
   "source": [
    "### 1.5.1 Vectorizing Categorical data"
   ]
  },
  {
   "cell_type": "markdown",
   "metadata": {
    "colab_type": "text",
    "id": "iRhx2UDvOh9c"
   },
   "source": [
    "- https://www.appliedaicourse.com/course/applied-ai-course-online/lessons/handling-categorical-and-numerical-features/"
   ]
  },
  {
   "cell_type": "code",
   "execution_count": 43,
   "metadata": {
    "colab": {
     "base_uri": "https://localhost:8080/",
     "height": 127
    },
    "colab_type": "code",
    "executionInfo": {
     "elapsed": 554595,
     "status": "ok",
     "timestamp": 1565377573173,
     "user": {
      "displayName": "Rishabh Sutravey",
      "photoUrl": "",
      "userId": "13691094868251697255"
     },
     "user_tz": 240
    },
    "id": "K2pZQs6mOh9d",
    "outputId": "cfe3909d-1c8d-4b10-a58a-43e41c151da4"
   },
   "outputs": [
    {
     "name": "stdout",
     "output_type": "stream",
     "text": [
      "After vectorizations\n",
      "(90852, 9) (90852,)\n",
      "(22942, 9) (22942,)\n",
      "(32775, 9) (32775,)\n",
      "['appliedlearning', 'care_hunger', 'health_sports', 'history_civics', 'literacy_language', 'math_science', 'music_arts', 'specialneeds', 'warmth']\n",
      "====================================================================================================\n"
     ]
    }
   ],
   "source": [
    "# we use count vectorizer to convert the values into one \n",
    "from sklearn.feature_extraction.text import CountVectorizer\n",
    "vectorizer = CountVectorizer()\n",
    "vectorizer.fit(X_train['clean_categories'].values) # fit has to happen only on train data\n",
    "\n",
    "# we use the fitted CountVectorizer to convert the text to vector\n",
    "X_train_clean_cat_ohe = vectorizer.transform(X_train['clean_categories'].values)\n",
    "X_cv_clean_cat_ohe = vectorizer.transform(X_cv['clean_categories'].values)\n",
    "X_test_clean_cat_ohe = vectorizer.transform(X_test['clean_categories'].values)\n",
    "\n",
    "print(\"After vectorizations\")\n",
    "print(X_train_clean_cat_ohe.shape, y_train.shape)\n",
    "print(X_cv_clean_cat_ohe.shape, y_cv.shape)\n",
    "print(X_test_clean_cat_ohe.shape, y_test.shape)\n",
    "print(vectorizer.get_feature_names())\n",
    "print(\"=\"*100)"
   ]
  },
  {
   "cell_type": "code",
   "execution_count": 44,
   "metadata": {
    "colab": {
     "base_uri": "https://localhost:8080/",
     "height": 147
    },
    "colab_type": "code",
    "executionInfo": {
     "elapsed": 555171,
     "status": "ok",
     "timestamp": 1565377573769,
     "user": {
      "displayName": "Rishabh Sutravey",
      "photoUrl": "",
      "userId": "13691094868251697255"
     },
     "user_tz": 240
    },
    "id": "s9d0-QVfOh9h",
    "outputId": "9b7229a9-31f0-4cd1-c9dd-77b2a42e9f8c"
   },
   "outputs": [
    {
     "name": "stdout",
     "output_type": "stream",
     "text": [
      "After vectorizations\n",
      "(90852, 30) (90852,)\n",
      "(22942, 30) (22942,)\n",
      "(32775, 30) (32775,)\n",
      "['appliedsciences', 'care_hunger', 'charactereducation', 'civics_government', 'college_careerprep', 'communityservice', 'earlydevelopment', 'economics', 'environmentalscience', 'esl', 'extracurricular', 'financialliteracy', 'foreignlanguages', 'gym_fitness', 'health_lifescience', 'health_wellness', 'history_geography', 'literacy', 'literature_writing', 'mathematics', 'music', 'nutritioneducation', 'other', 'parentinvolvement', 'performingarts', 'socialsciences', 'specialneeds', 'teamsports', 'visualarts', 'warmth']\n",
      "====================================================================================================\n"
     ]
    }
   ],
   "source": [
    "# we use count vectorizer to convert the values into one \n",
    "vectorizer = CountVectorizer()\n",
    "vectorizer.fit(X_train['clean_subcategories'].values) # fit has to happen only on train data\n",
    "\n",
    "# we use the fitted CountVectorizer to convert the text to vector\n",
    "X_train_clean_subcat_ohe = vectorizer.transform(X_train['clean_subcategories'].values)\n",
    "X_cv_clean_subcat_ohe = vectorizer.transform(X_cv['clean_subcategories'].values)\n",
    "X_test_clean_subcat_ohe = vectorizer.transform(X_test['clean_subcategories'].values)\n",
    "\n",
    "print(\"After vectorizations\")\n",
    "print(X_train_clean_subcat_ohe.shape, y_train.shape)\n",
    "print(X_cv_clean_subcat_ohe.shape, y_cv.shape)\n",
    "print(X_test_clean_subcat_ohe.shape, y_test.shape)\n",
    "print(vectorizer.get_feature_names())\n",
    "print(\"=\"*100)"
   ]
  },
  {
   "cell_type": "code",
   "execution_count": 45,
   "metadata": {
    "colab": {
     "base_uri": "https://localhost:8080/",
     "height": 147
    },
    "colab_type": "code",
    "executionInfo": {
     "elapsed": 555153,
     "status": "ok",
     "timestamp": 1565377573772,
     "user": {
      "displayName": "Rishabh Sutravey",
      "photoUrl": "",
      "userId": "13691094868251697255"
     },
     "user_tz": 240
    },
    "id": "uvq0T_QCOh9l",
    "outputId": "120e7abb-f738-484d-ef04-9b297bb6a37f"
   },
   "outputs": [
    {
     "name": "stdout",
     "output_type": "stream",
     "text": [
      "After vectorizations\n",
      "(90852, 51) (90852,)\n",
      "(22942, 51) (22942,)\n",
      "(32775, 51) (32775,)\n",
      "['ak', 'al', 'ar', 'az', 'ca', 'co', 'ct', 'dc', 'de', 'fl', 'ga', 'hi', 'ia', 'id', 'il', 'in', 'ks', 'ky', 'la', 'ma', 'md', 'me', 'mi', 'mn', 'mo', 'ms', 'mt', 'nc', 'nd', 'ne', 'nh', 'nj', 'nm', 'nv', 'ny', 'oh', 'ok', 'or', 'pa', 'ri', 'sc', 'sd', 'tn', 'tx', 'ut', 'va', 'vt', 'wa', 'wi', 'wv', 'wy']\n",
      "====================================================================================================\n"
     ]
    }
   ],
   "source": [
    "# you can do the similar thing with state, teacher_prefix and project_grade_category also\n",
    "vectorizer = CountVectorizer()\n",
    "vectorizer.fit(X_train['school_state'].values) # fit has to happen only on train data\n",
    "\n",
    "# we use the fitted CountVectorizer to convert the text to vector\n",
    "X_train_state_ohe = vectorizer.transform(X_train['school_state'].values)\n",
    "X_cv_state_ohe = vectorizer.transform(X_cv['school_state'].values)\n",
    "X_test_state_ohe = vectorizer.transform(X_test['school_state'].values)\n",
    "\n",
    "print(\"After vectorizations\")\n",
    "print(X_train_state_ohe.shape, y_train.shape)\n",
    "print(X_cv_state_ohe.shape, y_cv.shape)\n",
    "print(X_test_state_ohe.shape, y_test.shape)\n",
    "print(vectorizer.get_feature_names())\n",
    "print(\"=\"*100)"
   ]
  },
  {
   "cell_type": "code",
   "execution_count": 46,
   "metadata": {
    "colab": {
     "base_uri": "https://localhost:8080/",
     "height": 127
    },
    "colab_type": "code",
    "executionInfo": {
     "elapsed": 555759,
     "status": "ok",
     "timestamp": 1565377574398,
     "user": {
      "displayName": "Rishabh Sutravey",
      "photoUrl": "",
      "userId": "13691094868251697255"
     },
     "user_tz": 240
    },
    "id": "3uPBfVpbFxoR",
    "outputId": "ffec4113-dbc2-41e0-e868-162d21cbbb33"
   },
   "outputs": [
    {
     "name": "stdout",
     "output_type": "stream",
     "text": [
      "After vectorizations\n",
      "(90852, 5) (90852,)\n",
      "(22942, 5) (22942,)\n",
      "(32775, 5) (32775,)\n",
      "['dr', 'mr', 'mrs', 'ms', 'teacher']\n",
      "====================================================================================================\n"
     ]
    }
   ],
   "source": [
    "vectorizer = CountVectorizer()\n",
    "vectorizer.fit(X_train['teacher_prefix'].values) # fit has to happen only on train data\n",
    "\n",
    "# we use the fitted CountVectorizer to convert the text to vector\n",
    "X_train_teacher_ohe = vectorizer.transform(X_train['teacher_prefix'].values)\n",
    "X_cv_teacher_ohe = vectorizer.transform(X_cv['teacher_prefix'].values)\n",
    "X_test_teacher_ohe = vectorizer.transform(X_test['teacher_prefix'].values)\n",
    "\n",
    "print(\"After vectorizations\")\n",
    "print(X_train_teacher_ohe.shape, y_train.shape)\n",
    "print(X_cv_teacher_ohe.shape, y_cv.shape)\n",
    "print(X_test_teacher_ohe.shape, y_test.shape)\n",
    "print(vectorizer.get_feature_names())\n",
    "print(\"=\"*100)"
   ]
  },
  {
   "cell_type": "code",
   "execution_count": 47,
   "metadata": {
    "colab": {
     "base_uri": "https://localhost:8080/",
     "height": 127
    },
    "colab_type": "code",
    "executionInfo": {
     "elapsed": 558183,
     "status": "ok",
     "timestamp": 1565377576842,
     "user": {
      "displayName": "Rishabh Sutravey",
      "photoUrl": "",
      "userId": "13691094868251697255"
     },
     "user_tz": 240
    },
    "id": "-3wW1FtKF1ne",
    "outputId": "1ea0d857-4b27-4cb7-b15a-a948bd58d7bd"
   },
   "outputs": [
    {
     "name": "stdout",
     "output_type": "stream",
     "text": [
      "After vectorizations\n",
      "(90852, 4) (90852,)\n",
      "(22942, 4) (22942,)\n",
      "(32775, 4) (32775,)\n",
      "['grades3_5', 'grades6_8', 'grades9_12', 'gradesprek_2']\n",
      "====================================================================================================\n"
     ]
    }
   ],
   "source": [
    "vectorizer = CountVectorizer()\n",
    "vectorizer.fit(X_train['grades'].values) # fit has to happen only on train data\n",
    "\n",
    "# we use the fitted CountVectorizer to convert the text to vector\n",
    "X_train_grade_ohe = vectorizer.transform(X_train['grades'].values)\n",
    "X_cv_grade_ohe = vectorizer.transform(X_cv['grades'].values)\n",
    "X_test_grade_ohe = vectorizer.transform(X_test['grades'].values)\n",
    "\n",
    "print(\"After vectorizations\")\n",
    "print(X_train_grade_ohe.shape, y_train.shape)\n",
    "print(X_cv_grade_ohe.shape, y_cv.shape)\n",
    "print(X_test_grade_ohe.shape, y_test.shape)\n",
    "print(vectorizer.get_feature_names())\n",
    "print(\"=\"*100)"
   ]
  },
  {
   "cell_type": "markdown",
   "metadata": {
    "colab_type": "text",
    "id": "ACyCSq0LOh9o"
   },
   "source": [
    "### 1.5.2 Vectorizing Text data"
   ]
  },
  {
   "cell_type": "markdown",
   "metadata": {
    "colab_type": "text",
    "id": "NMbzzOsPOh9p"
   },
   "source": [
    "#### 1.5.2.1 Bag of words"
   ]
  },
  {
   "cell_type": "code",
   "execution_count": 48,
   "metadata": {
    "colab": {
     "base_uri": "https://localhost:8080/",
     "height": 109
    },
    "colab_type": "code",
    "executionInfo": {
     "elapsed": 634865,
     "status": "ok",
     "timestamp": 1565377653545,
     "user": {
      "displayName": "Rishabh Sutravey",
      "photoUrl": "",
      "userId": "13691094868251697255"
     },
     "user_tz": 240
    },
    "id": "7dfCHNPwOh9p",
    "outputId": "426b2a32-0289-42c3-a9e2-6c35573f8ba3"
   },
   "outputs": [
    {
     "name": "stdout",
     "output_type": "stream",
     "text": [
      "After vectorizations\n",
      "(90852, 5000) (90852,)\n",
      "(22942, 5000) (22942,)\n",
      "(32775, 5000) (32775,)\n",
      "====================================================================================================\n"
     ]
    }
   ],
   "source": [
    "# We are considering only the words which appeared in at least 10 documents(rows or projects).\n",
    "\n",
    "vectorizer = CountVectorizer(min_df=10,ngram_range=(1,2), max_features=5000)\n",
    "vectorizer.fit(X_train['clean_essay'].values) # fit has to happen only on train data\n",
    "\n",
    "# we use the fitted CountVectorizer to convert the text to vector\n",
    "X_train_essay_bow = vectorizer.transform(X_train['clean_essay'].values)\n",
    "X_cv_essay_bow = vectorizer.transform(X_cv['clean_essay'].values)\n",
    "X_test_essay_bow = vectorizer.transform(X_test['clean_essay'].values)\n",
    "\n",
    "print(\"After vectorizations\")\n",
    "print(X_train_essay_bow.shape, y_train.shape)\n",
    "print(X_cv_essay_bow.shape, y_cv.shape)\n",
    "print(X_test_essay_bow.shape, y_test.shape)\n",
    "print(\"=\"*100)"
   ]
  },
  {
   "cell_type": "code",
   "execution_count": 49,
   "metadata": {
    "colab": {
     "base_uri": "https://localhost:8080/",
     "height": 109
    },
    "colab_type": "code",
    "executionInfo": {
     "elapsed": 634847,
     "status": "ok",
     "timestamp": 1565377653546,
     "user": {
      "displayName": "Rishabh Sutravey",
      "photoUrl": "",
      "userId": "13691094868251697255"
     },
     "user_tz": 240
    },
    "id": "4O-uj3ieOh9s",
    "outputId": "98ddfcfc-0d86-4f8f-a747-e6de6cf56940"
   },
   "outputs": [
    {
     "name": "stdout",
     "output_type": "stream",
     "text": [
      "After vectorizations\n",
      "(90852, 3059) (90852,)\n",
      "(22942, 3059) (22942,)\n",
      "(32775, 3059) (32775,)\n",
      "====================================================================================================\n"
     ]
    }
   ],
   "source": [
    "# you can vectorize the title also \n",
    "# before you vectorize the title make sure you preprocess it\n",
    "vectorizer = CountVectorizer(min_df=10,ngram_range=(1,1), max_features=5000)\n",
    "vectorizer.fit(X_train['clean_title'].values) # fit has to happen only on train data\n",
    "\n",
    "# we use the fitted CountVectorizer to convert the text to vector\n",
    "X_train_title_bow = vectorizer.transform(X_train['clean_title'].values)\n",
    "X_cv_title_bow = vectorizer.transform(X_cv['clean_title'].values)\n",
    "X_test_title_bow = vectorizer.transform(X_test['clean_title'].values)\n",
    "\n",
    "print(\"After vectorizations\")\n",
    "print(X_train_title_bow.shape, y_train.shape)\n",
    "print(X_cv_title_bow.shape, y_cv.shape)\n",
    "print(X_test_title_bow.shape, y_test.shape)\n",
    "print(\"=\"*100)"
   ]
  },
  {
   "cell_type": "markdown",
   "metadata": {
    "colab_type": "text",
    "id": "z2gxZ2ogOh9w"
   },
   "source": [
    "#### 1.5.2.2 TFIDF vectorizer"
   ]
  },
  {
   "cell_type": "code",
   "execution_count": 50,
   "metadata": {
    "colab": {
     "base_uri": "https://localhost:8080/",
     "height": 109
    },
    "colab_type": "code",
    "executionInfo": {
     "elapsed": 711445,
     "status": "ok",
     "timestamp": 1565377730163,
     "user": {
      "displayName": "Rishabh Sutravey",
      "photoUrl": "",
      "userId": "13691094868251697255"
     },
     "user_tz": 240
    },
    "id": "T8uozAbyOh9x",
    "outputId": "95154c9c-692f-4b9b-9e82-7be70d22894a"
   },
   "outputs": [
    {
     "name": "stdout",
     "output_type": "stream",
     "text": [
      "After vectorizations\n",
      "(90852, 5000) (90852,)\n",
      "(22942, 5000) (22942,)\n",
      "(32775, 5000) (32775,)\n",
      "====================================================================================================\n"
     ]
    }
   ],
   "source": [
    "from sklearn.feature_extraction.text import TfidfVectorizer\n",
    "vectorizer = TfidfVectorizer(min_df=10,ngram_range=(1,2), max_features=5000)\n",
    "vectorizer.fit(X_train['clean_essay'].values) # fit has to happen only on train data\n",
    "\n",
    "# we use the fitted CountVectorizer to convert the text to vector\n",
    "X_train_essay_tfidf = vectorizer.transform(X_train['clean_essay'].values)\n",
    "X_cv_essay_tfidf = vectorizer.transform(X_cv['clean_essay'].values)\n",
    "X_test_essay_tfidf = vectorizer.transform(X_test['clean_essay'].values)\n",
    "\n",
    "print(\"After vectorizations\")\n",
    "print(X_train_essay_tfidf.shape, y_train.shape)\n",
    "print(X_cv_essay_tfidf.shape, y_cv.shape)\n",
    "print(X_test_essay_tfidf.shape, y_test.shape)\n",
    "print(\"=\"*100)"
   ]
  },
  {
   "cell_type": "code",
   "execution_count": 51,
   "metadata": {
    "colab": {
     "base_uri": "https://localhost:8080/",
     "height": 109
    },
    "colab_type": "code",
    "executionInfo": {
     "elapsed": 713134,
     "status": "ok",
     "timestamp": 1565377731873,
     "user": {
      "displayName": "Rishabh Sutravey",
      "photoUrl": "",
      "userId": "13691094868251697255"
     },
     "user_tz": 240
    },
    "id": "T4e0bahKMgFj",
    "outputId": "e0276feb-9a2a-4d18-d5e3-984f787a0af9"
   },
   "outputs": [
    {
     "name": "stdout",
     "output_type": "stream",
     "text": [
      "After vectorizations\n",
      "(90852, 3059) (90852,)\n",
      "(22942, 3059) (22942,)\n",
      "(32775, 3059) (32775,)\n",
      "====================================================================================================\n"
     ]
    }
   ],
   "source": [
    "vectorizer = TfidfVectorizer(min_df=10,ngram_range=(1,1), max_features=5000)\n",
    "vectorizer.fit(X_train['clean_title'].values) # fit has to happen only on train data\n",
    "\n",
    "# we use the fitted CountVectorizer to convert the text to vector\n",
    "X_train_title_tfidf = vectorizer.transform(X_train['clean_title'].values)\n",
    "X_cv_title_tfidf = vectorizer.transform(X_cv['clean_title'].values)\n",
    "X_test_title_tfidf = vectorizer.transform(X_test['clean_title'].values)\n",
    "\n",
    "print(\"After vectorizations\")\n",
    "print(X_train_title_tfidf.shape, y_train.shape)\n",
    "print(X_cv_title_tfidf.shape, y_cv.shape)\n",
    "print(X_test_title_tfidf.shape, y_test.shape)\n",
    "print(\"=\"*100)"
   ]
  },
  {
   "cell_type": "markdown",
   "metadata": {
    "colab_type": "text",
    "id": "73m5MNjoOh90"
   },
   "source": [
    "#### 1.5.2.3 Using Pretrained Models: Avg W2V"
   ]
  },
  {
   "cell_type": "code",
   "execution_count": 52,
   "metadata": {
    "colab": {
     "base_uri": "https://localhost:8080/",
     "height": 55
    },
    "colab_type": "code",
    "executionInfo": {
     "elapsed": 713113,
     "status": "ok",
     "timestamp": 1565377731874,
     "user": {
      "displayName": "Rishabh Sutravey",
      "photoUrl": "",
      "userId": "13691094868251697255"
     },
     "user_tz": 240
    },
    "id": "Lw3Z1hdgOh90",
    "outputId": "052849e6-7865-4812-de4e-8e45e4f8ec9e"
   },
   "outputs": [
    {
     "data": {
      "text/plain": [
       "'\\n# Reading glove vectors in python: https://stackoverflow.com/a/38230349/4084039\\ndef loadGloveModel(gloveFile):\\n    print (\"Loading Glove Model\")\\n    f = open(gloveFile,\\'r\\', encoding=\"utf8\")\\n    model = {}\\n    for line in tqdm(f):\\n        splitLine = line.split()\\n        word = splitLine[0]\\n        embedding = np.array([float(val) for val in splitLine[1:]])\\n        model[word] = embedding\\n    print (\"Done.\",len(model),\" words loaded!\")\\n    return model\\nmodel = loadGloveModel(\\'glove.42B.300d.txt\\')\\n\\n# ============================\\nOutput:\\n    \\nLoading Glove Model\\n1917495it [06:32, 4879.69it/s]\\nDone. 1917495  words loaded!\\n\\n# ============================\\n\\nwords = []\\nfor i in preproced_texts:\\n    words.extend(i.split(\\' \\'))\\n\\nfor i in preproced_titles:\\n    words.extend(i.split(\\' \\'))\\nprint(\"all the words in the coupus\", len(words))\\nwords = set(words)\\nprint(\"the unique words in the coupus\", len(words))\\n\\ninter_words = set(model.keys()).intersection(words)\\nprint(\"The number of words that are present in both glove vectors and our coupus\",       len(inter_words),\"(\",np.round(len(inter_words)/len(words)*100,3),\"%)\")\\n\\nwords_courpus = {}\\nwords_glove = set(model.keys())\\nfor i in words:\\n    if i in words_glove:\\n        words_courpus[i] = model[i]\\nprint(\"word 2 vec length\", len(words_courpus))\\n\\n\\n# stronging variables into pickle files python: http://www.jessicayung.com/how-to-use-pickle-to-save-and-load-variables-in-python/\\n\\nimport pickle\\nwith open(\\'glove_vectors\\', \\'wb\\') as f:\\n    pickle.dump(words_courpus, f)\\n\\n\\n'"
      ]
     },
     "execution_count": 52,
     "metadata": {
      "tags": []
     },
     "output_type": "execute_result"
    }
   ],
   "source": [
    "'''\n",
    "# Reading glove vectors in python: https://stackoverflow.com/a/38230349/4084039\n",
    "def loadGloveModel(gloveFile):\n",
    "    print (\"Loading Glove Model\")\n",
    "    f = open(gloveFile,'r', encoding=\"utf8\")\n",
    "    model = {}\n",
    "    for line in tqdm(f):\n",
    "        splitLine = line.split()\n",
    "        word = splitLine[0]\n",
    "        embedding = np.array([float(val) for val in splitLine[1:]])\n",
    "        model[word] = embedding\n",
    "    print (\"Done.\",len(model),\" words loaded!\")\n",
    "    return model\n",
    "model = loadGloveModel('glove.42B.300d.txt')\n",
    "\n",
    "# ============================\n",
    "Output:\n",
    "    \n",
    "Loading Glove Model\n",
    "1917495it [06:32, 4879.69it/s]\n",
    "Done. 1917495  words loaded!\n",
    "\n",
    "# ============================\n",
    "\n",
    "words = []\n",
    "for i in preproced_texts:\n",
    "    words.extend(i.split(' '))\n",
    "\n",
    "for i in preproced_titles:\n",
    "    words.extend(i.split(' '))\n",
    "print(\"all the words in the coupus\", len(words))\n",
    "words = set(words)\n",
    "print(\"the unique words in the coupus\", len(words))\n",
    "\n",
    "inter_words = set(model.keys()).intersection(words)\n",
    "print(\"The number of words that are present in both glove vectors and our coupus\", \\\n",
    "      len(inter_words),\"(\",np.round(len(inter_words)/len(words)*100,3),\"%)\")\n",
    "\n",
    "words_courpus = {}\n",
    "words_glove = set(model.keys())\n",
    "for i in words:\n",
    "    if i in words_glove:\n",
    "        words_courpus[i] = model[i]\n",
    "print(\"word 2 vec length\", len(words_courpus))\n",
    "\n",
    "\n",
    "# stronging variables into pickle files python: http://www.jessicayung.com/how-to-use-pickle-to-save-and-load-variables-in-python/\n",
    "\n",
    "import pickle\n",
    "with open('glove_vectors', 'wb') as f:\n",
    "    pickle.dump(words_courpus, f)\n",
    "\n",
    "\n",
    "'''"
   ]
  },
  {
   "cell_type": "code",
   "execution_count": 0,
   "metadata": {
    "colab": {},
    "colab_type": "code",
    "id": "J4sL80mSOh93"
   },
   "outputs": [],
   "source": [
    "# stronging variables into pickle files python: http://www.jessicayung.com/how-to-use-pickle-to-save-and-load-variables-in-python/\n",
    "# make sure you have the glove_vectors file\n",
    "with open('/content/drive/My Drive/glove_vectors', 'rb') as f:\n",
    "    model = pickle.load(f)\n",
    "    glove_words =  set(model.keys())"
   ]
  },
  {
   "cell_type": "code",
   "execution_count": 54,
   "metadata": {
    "colab": {
     "base_uri": "https://localhost:8080/",
     "height": 72
    },
    "colab_type": "code",
    "executionInfo": {
     "elapsed": 743523,
     "status": "ok",
     "timestamp": 1565377762306,
     "user": {
      "displayName": "Rishabh Sutravey",
      "photoUrl": "",
      "userId": "13691094868251697255"
     },
     "user_tz": 240
    },
    "id": "HXVbeaR6Oh96",
    "outputId": "d5265f41-eb41-4f80-c086-7f6dbbbfbdd9",
    "scrolled": true
   },
   "outputs": [
    {
     "name": "stderr",
     "output_type": "stream",
     "text": [
      "100%|██████████| 90852/90852 [00:28<00:00, 3178.86it/s]"
     ]
    },
    {
     "name": "stdout",
     "output_type": "stream",
     "text": [
      "90852\n",
      "300\n"
     ]
    },
    {
     "name": "stderr",
     "output_type": "stream",
     "text": [
      "\n"
     ]
    }
   ],
   "source": [
    "# average Word2Vec\n",
    "# compute average word2vec for each review.\n",
    "avg_w2v_train_essay = []; # the avg-w2v for each sentence/review is stored in this list\n",
    "for sentence in tqdm(X_train['clean_essay'].values): # for each review/sentence\n",
    "    vector = np.zeros(300) # as word vectors are of zero length\n",
    "    cnt_words =0; # num of words with a valid vector in the sentence/review\n",
    "    for word in sentence.split(): # for each word in a review/sentence\n",
    "        if word in glove_words:\n",
    "            vector += model[word]\n",
    "            cnt_words += 1\n",
    "    if cnt_words != 0:\n",
    "        vector /= cnt_words\n",
    "    avg_w2v_train_essay.append(vector)\n",
    "\n",
    "print(len(avg_w2v_train_essay))\n",
    "print(len(avg_w2v_train_essay[0]))"
   ]
  },
  {
   "cell_type": "code",
   "execution_count": 55,
   "metadata": {
    "colab": {
     "base_uri": "https://localhost:8080/",
     "height": 72
    },
    "colab_type": "code",
    "executionInfo": {
     "elapsed": 750677,
     "status": "ok",
     "timestamp": 1565377769481,
     "user": {
      "displayName": "Rishabh Sutravey",
      "photoUrl": "",
      "userId": "13691094868251697255"
     },
     "user_tz": 240
    },
    "id": "9-Aj51Q_M2cL",
    "outputId": "428800ef-82ba-42ad-b198-7052fe9850d3"
   },
   "outputs": [
    {
     "name": "stderr",
     "output_type": "stream",
     "text": [
      "100%|██████████| 22942/22942 [00:07<00:00, 3133.13it/s]"
     ]
    },
    {
     "name": "stdout",
     "output_type": "stream",
     "text": [
      "22942\n",
      "300\n"
     ]
    },
    {
     "name": "stderr",
     "output_type": "stream",
     "text": [
      "\n"
     ]
    }
   ],
   "source": [
    "# average Word2Vec on CV Essay\n",
    "# compute average word2vec for each review.\n",
    "avg_w2v_cv_essay = []; # the avg-w2v for each sentence/review is stored in this list\n",
    "for sentence in tqdm(X_cv['clean_essay'].values): # for each review/sentence\n",
    "    vector = np.zeros(300) # as word vectors are of zero length\n",
    "    cnt_words =0; # num of words with a valid vector in the sentence/review\n",
    "    for word in sentence.split(): # for each word in a review/sentence\n",
    "        if word in glove_words:\n",
    "            vector += model[word]\n",
    "            cnt_words += 1\n",
    "    if cnt_words != 0:\n",
    "        vector /= cnt_words\n",
    "    avg_w2v_cv_essay.append(vector)\n",
    "\n",
    "print(len(avg_w2v_cv_essay))\n",
    "print(len(avg_w2v_cv_essay[0]))"
   ]
  },
  {
   "cell_type": "code",
   "execution_count": 56,
   "metadata": {
    "colab": {
     "base_uri": "https://localhost:8080/",
     "height": 72
    },
    "colab_type": "code",
    "executionInfo": {
     "elapsed": 761533,
     "status": "ok",
     "timestamp": 1565377780356,
     "user": {
      "displayName": "Rishabh Sutravey",
      "photoUrl": "",
      "userId": "13691094868251697255"
     },
     "user_tz": 240
    },
    "id": "bSGsChj3M4-w",
    "outputId": "6d76575b-39c7-41ce-fc4a-1603b534ecfb"
   },
   "outputs": [
    {
     "name": "stderr",
     "output_type": "stream",
     "text": [
      "100%|██████████| 32775/32775 [00:10<00:00, 3088.23it/s]"
     ]
    },
    {
     "name": "stdout",
     "output_type": "stream",
     "text": [
      "32775\n",
      "300\n"
     ]
    },
    {
     "name": "stderr",
     "output_type": "stream",
     "text": [
      "\n"
     ]
    }
   ],
   "source": [
    "# average Word2Vec on Test Essay\n",
    "# compute average word2vec for each review.\n",
    "avg_w2v_test_essay = []; # the avg-w2v for each sentence/review is stored in this list\n",
    "for sentence in tqdm(X_test['clean_essay'].values): # for each review/sentence\n",
    "    vector = np.zeros(300) # as word vectors are of zero length\n",
    "    cnt_words =0; # num of words with a valid vector in the sentence/review\n",
    "    for word in sentence.split(): # for each word in a review/sentence\n",
    "        if word in glove_words:\n",
    "            vector += model[word]\n",
    "            cnt_words += 1\n",
    "    if cnt_words != 0:\n",
    "        vector /= cnt_words\n",
    "    avg_w2v_test_essay.append(vector)\n",
    "\n",
    "print(len(avg_w2v_test_essay))\n",
    "print(len(avg_w2v_test_essay[0]))"
   ]
  },
  {
   "cell_type": "code",
   "execution_count": 57,
   "metadata": {
    "colab": {
     "base_uri": "https://localhost:8080/",
     "height": 72
    },
    "colab_type": "code",
    "executionInfo": {
     "elapsed": 763235,
     "status": "ok",
     "timestamp": 1565377782079,
     "user": {
      "displayName": "Rishabh Sutravey",
      "photoUrl": "",
      "userId": "13691094868251697255"
     },
     "user_tz": 240
    },
    "id": "tSXnLYSyM7xL",
    "outputId": "5eb1f56b-df8d-4aef-e014-56cb83d24b0c"
   },
   "outputs": [
    {
     "name": "stderr",
     "output_type": "stream",
     "text": [
      "100%|██████████| 90852/90852 [00:01<00:00, 66112.03it/s]"
     ]
    },
    {
     "name": "stdout",
     "output_type": "stream",
     "text": [
      "90852\n",
      "300\n"
     ]
    },
    {
     "name": "stderr",
     "output_type": "stream",
     "text": [
      "\n"
     ]
    }
   ],
   "source": [
    "# average Word2Vec on Train Title\n",
    "# compute average word2vec for each review.\n",
    "\n",
    "avg_w2v_train_title = []; # the avg-w2v for each sentence/review is stored in this list\n",
    "for sentence in tqdm(X_train['clean_title'].values): # for each review/sentence\n",
    "    vector = np.zeros(300) # as word vectors are of zero length\n",
    "    cnt_words =0; # num of words with a valid vector in the sentence/review\n",
    "    for word in sentence.split(): # for each word in a review/sentence\n",
    "        if word in glove_words:\n",
    "            vector += model[word]\n",
    "            cnt_words += 1\n",
    "    if cnt_words != 0:\n",
    "        vector /= cnt_words\n",
    "    avg_w2v_train_title.append(vector)\n",
    "\n",
    "print(len(avg_w2v_train_title))\n",
    "print(len(avg_w2v_train_title[0]))"
   ]
  },
  {
   "cell_type": "code",
   "execution_count": 58,
   "metadata": {
    "colab": {
     "base_uri": "https://localhost:8080/",
     "height": 72
    },
    "colab_type": "code",
    "executionInfo": {
     "elapsed": 763215,
     "status": "ok",
     "timestamp": 1565377782082,
     "user": {
      "displayName": "Rishabh Sutravey",
      "photoUrl": "",
      "userId": "13691094868251697255"
     },
     "user_tz": 240
    },
    "id": "9s0bMHECM-qc",
    "outputId": "f999605c-fc22-437f-96c8-e254cb2a896d"
   },
   "outputs": [
    {
     "name": "stderr",
     "output_type": "stream",
     "text": [
      "100%|██████████| 22942/22942 [00:00<00:00, 60137.36it/s]"
     ]
    },
    {
     "name": "stdout",
     "output_type": "stream",
     "text": [
      "22942\n",
      "300\n"
     ]
    },
    {
     "name": "stderr",
     "output_type": "stream",
     "text": [
      "\n"
     ]
    }
   ],
   "source": [
    "# average Word2Vec on CV Title\n",
    "# compute average word2vec for each review.\n",
    "\n",
    "avg_w2v_cv_title = []; # the avg-w2v for each sentence/review is stored in this list\n",
    "for sentence in tqdm(X_cv['clean_title'].values): # for each review/sentence\n",
    "    vector = np.zeros(300) # as word vectors are of zero length\n",
    "    cnt_words =0; # num of words with a valid vector in the sentence/review\n",
    "    for word in sentence.split(): # for each word in a review/sentence\n",
    "        if word in glove_words:\n",
    "            vector += model[word]\n",
    "            cnt_words += 1\n",
    "    if cnt_words != 0:\n",
    "        vector /= cnt_words\n",
    "    avg_w2v_cv_title.append(vector)\n",
    "\n",
    "print(len(avg_w2v_cv_title))\n",
    "print(len(avg_w2v_cv_title[0]))"
   ]
  },
  {
   "cell_type": "code",
   "execution_count": 59,
   "metadata": {
    "colab": {
     "base_uri": "https://localhost:8080/",
     "height": 72
    },
    "colab_type": "code",
    "executionInfo": {
     "elapsed": 763196,
     "status": "ok",
     "timestamp": 1565377782085,
     "user": {
      "displayName": "Rishabh Sutravey",
      "photoUrl": "",
      "userId": "13691094868251697255"
     },
     "user_tz": 240
    },
    "id": "3HDSZDm_NCY1",
    "outputId": "8124f027-5738-4443-add6-50a2170045b4"
   },
   "outputs": [
    {
     "name": "stderr",
     "output_type": "stream",
     "text": [
      "100%|██████████| 32775/32775 [00:00<00:00, 59544.58it/s]"
     ]
    },
    {
     "name": "stdout",
     "output_type": "stream",
     "text": [
      "32775\n",
      "300\n"
     ]
    },
    {
     "name": "stderr",
     "output_type": "stream",
     "text": [
      "\n"
     ]
    }
   ],
   "source": [
    "# average Word2Vec on Test Title\n",
    "# compute average word2vec for each review.\n",
    "\n",
    "avg_w2v_test_title = []; # the avg-w2v for each sentence/review is stored in this list\n",
    "for sentence in tqdm(X_test['clean_title'].values): # for each review/sentence\n",
    "    vector = np.zeros(300) # as word vectors are of zero length\n",
    "    cnt_words =0; # num of words with a valid vector in the sentence/review\n",
    "    for word in sentence.split(): # for each word in a review/sentence\n",
    "        if word in glove_words:\n",
    "            vector += model[word]\n",
    "            cnt_words += 1\n",
    "    if cnt_words != 0:\n",
    "        vector /= cnt_words\n",
    "    avg_w2v_test_title.append(vector)\n",
    "\n",
    "print(len(avg_w2v_test_title))\n",
    "print(len(avg_w2v_test_title[0]))"
   ]
  },
  {
   "cell_type": "markdown",
   "metadata": {
    "colab_type": "text",
    "id": "pAcQahGBOh99"
   },
   "source": [
    "#### 1.5.2.3 Using Pretrained Models: TFIDF weighted W2V"
   ]
  },
  {
   "cell_type": "code",
   "execution_count": 0,
   "metadata": {
    "colab": {},
    "colab_type": "code",
    "id": "PhfDIGZzOh9-"
   },
   "outputs": [],
   "source": [
    "# S = [\"abc def pqr\", \"def def def abc\", \"pqr pqr def\"]\n",
    "tfidf_model = TfidfVectorizer()\n",
    "tfidf_model.fit(X_train['clean_essay'].values)\n",
    "# we are converting a dictionary with word as a key, and the idf as a value\n",
    "dictionary = dict(zip(tfidf_model.get_feature_names(), list(tfidf_model.idf_)))\n",
    "tfidf_words = set(tfidf_model.get_feature_names())"
   ]
  },
  {
   "cell_type": "code",
   "execution_count": 61,
   "metadata": {
    "colab": {
     "base_uri": "https://localhost:8080/",
     "height": 72
    },
    "colab_type": "code",
    "executionInfo": {
     "elapsed": 930517,
     "status": "ok",
     "timestamp": 1565377949427,
     "user": {
      "displayName": "Rishabh Sutravey",
      "photoUrl": "",
      "userId": "13691094868251697255"
     },
     "user_tz": 240
    },
    "id": "SVuQKgh1Oh-A",
    "outputId": "1349173b-a484-4c02-fa93-65bab4773019",
    "scrolled": true
   },
   "outputs": [
    {
     "name": "stderr",
     "output_type": "stream",
     "text": [
      "100%|██████████| 90852/90852 [02:37<00:00, 576.85it/s]"
     ]
    },
    {
     "name": "stdout",
     "output_type": "stream",
     "text": [
      "90852\n",
      "300\n"
     ]
    },
    {
     "name": "stderr",
     "output_type": "stream",
     "text": [
      "\n"
     ]
    }
   ],
   "source": [
    "# TFIDF Word2Vec on Train Essay\n",
    "# compute average word2vec for each review.\n",
    "tfidf_w2v_train_essay = []; # the avg-w2v for each sentence/review is stored in this list\n",
    "for sentence in tqdm(X_train['clean_essay'].values): # for each review/sentence\n",
    "    vector = np.zeros(300) # as word vectors are of zero length\n",
    "    tf_idf_weight =0; # num of words with a valid vector in the sentence/review\n",
    "    for word in sentence.split(): # for each word in a review/sentence\n",
    "        if (word in glove_words) and (word in tfidf_words):\n",
    "            vec = model[word] # getting the vector for each word\n",
    "            # here we are multiplying idf value(dictionary[word]) and the tf value((sentence.count(word)/len(sentence.split())))\n",
    "            tf_idf = dictionary[word]*(sentence.count(word)/len(sentence.split())) # getting the tfidf value for each word\n",
    "            vector += (vec * tf_idf) # calculating tfidf weighted w2v\n",
    "            tf_idf_weight += tf_idf\n",
    "    if tf_idf_weight != 0:\n",
    "        vector /= tf_idf_weight\n",
    "    tfidf_w2v_train_essay.append(vector)\n",
    "\n",
    "print(len(tfidf_w2v_train_essay))\n",
    "print(len(tfidf_w2v_train_essay[0]))"
   ]
  },
  {
   "cell_type": "code",
   "execution_count": 62,
   "metadata": {
    "colab": {
     "base_uri": "https://localhost:8080/",
     "height": 72
    },
    "colab_type": "code",
    "executionInfo": {
     "elapsed": 971998,
     "status": "ok",
     "timestamp": 1565377990927,
     "user": {
      "displayName": "Rishabh Sutravey",
      "photoUrl": "",
      "userId": "13691094868251697255"
     },
     "user_tz": 240
    },
    "id": "L63ju_SiN1ZD",
    "outputId": "d82663ad-72eb-460b-e07b-aa9d41d27941"
   },
   "outputs": [
    {
     "name": "stderr",
     "output_type": "stream",
     "text": [
      "100%|██████████| 22942/22942 [00:41<00:00, 559.55it/s]"
     ]
    },
    {
     "name": "stdout",
     "output_type": "stream",
     "text": [
      "22942\n",
      "300\n"
     ]
    },
    {
     "name": "stderr",
     "output_type": "stream",
     "text": [
      "\n"
     ]
    }
   ],
   "source": [
    "# TFIDF Word2Vec on CV Essay\n",
    "# compute average word2vec for each review.\n",
    "tfidf_w2v_cv_essay = []; # the avg-w2v for each sentence/review is stored in this list\n",
    "for sentence in tqdm(X_cv['clean_essay'].values): # for each review/sentence\n",
    "    vector = np.zeros(300) # as word vectors are of zero length\n",
    "    tf_idf_weight =0; # num of words with a valid vector in the sentence/review\n",
    "    for word in sentence.split(): # for each word in a review/sentence\n",
    "        if (word in glove_words) and (word in tfidf_words):\n",
    "            vec = model[word] # getting the vector for each word\n",
    "            # here we are multiplying idf value(dictionary[word]) and the tf value((sentence.count(word)/len(sentence.split())))\n",
    "            tf_idf = dictionary[word]*(sentence.count(word)/len(sentence.split())) # getting the tfidf value for each word\n",
    "            vector += (vec * tf_idf) # calculating tfidf weighted w2v\n",
    "            tf_idf_weight += tf_idf\n",
    "    if tf_idf_weight != 0:\n",
    "        vector /= tf_idf_weight\n",
    "    tfidf_w2v_cv_essay.append(vector)\n",
    "\n",
    "print(len(tfidf_w2v_cv_essay))\n",
    "print(len(tfidf_w2v_cv_essay[0]))"
   ]
  },
  {
   "cell_type": "code",
   "execution_count": 63,
   "metadata": {
    "colab": {
     "base_uri": "https://localhost:8080/",
     "height": 72
    },
    "colab_type": "code",
    "executionInfo": {
     "elapsed": 1030697,
     "status": "ok",
     "timestamp": 1565378049646,
     "user": {
      "displayName": "Rishabh Sutravey",
      "photoUrl": "",
      "userId": "13691094868251697255"
     },
     "user_tz": 240
    },
    "id": "IKYzq9euN4Sr",
    "outputId": "273a2d80-c74c-4f93-a96a-43d8491fed86"
   },
   "outputs": [
    {
     "name": "stderr",
     "output_type": "stream",
     "text": [
      "100%|██████████| 32775/32775 [00:59<00:00, 555.38it/s]"
     ]
    },
    {
     "name": "stdout",
     "output_type": "stream",
     "text": [
      "32775\n",
      "300\n"
     ]
    },
    {
     "name": "stderr",
     "output_type": "stream",
     "text": [
      "\n"
     ]
    }
   ],
   "source": [
    "# TFIDF Word2Vec on Test Essay\n",
    "# compute average word2vec for each review.\n",
    "tfidf_w2v_test_essay = []; # the avg-w2v for each sentence/review is stored in this list\n",
    "for sentence in tqdm(X_test['clean_essay'].values): # for each review/sentence\n",
    "    vector = np.zeros(300) # as word vectors are of zero length\n",
    "    tf_idf_weight =0; # num of words with a valid vector in the sentence/review\n",
    "    for word in sentence.split(): # for each word in a review/sentence\n",
    "        if (word in glove_words) and (word in tfidf_words):\n",
    "            vec = model[word] # getting the vector for each word\n",
    "            # here we are multiplying idf value(dictionary[word]) and the tf value((sentence.count(word)/len(sentence.split())))\n",
    "            tf_idf = dictionary[word]*(sentence.count(word)/len(sentence.split())) # getting the tfidf value for each word\n",
    "            vector += (vec * tf_idf) # calculating tfidf weighted w2v\n",
    "            tf_idf_weight += tf_idf\n",
    "    if tf_idf_weight != 0:\n",
    "        vector /= tf_idf_weight\n",
    "    tfidf_w2v_test_essay.append(vector)\n",
    "\n",
    "print(len(tfidf_w2v_test_essay))\n",
    "print(len(tfidf_w2v_test_essay[0]))"
   ]
  },
  {
   "cell_type": "code",
   "execution_count": 0,
   "metadata": {
    "colab": {},
    "colab_type": "code",
    "id": "FiEp6kieOh-G"
   },
   "outputs": [],
   "source": [
    "# Similarly you can vectorize for title also\n",
    "tfidf_title_model = TfidfVectorizer()\n",
    "tfidf_title_model.fit(X_train['clean_title'].values)\n",
    "# we are converting a dictionary with word as a key, and the idf as a value\n",
    "dictionary = dict(zip(tfidf_title_model.get_feature_names(), list(tfidf_title_model.idf_)))\n",
    "tfidf_title_words = set(tfidf_title_model.get_feature_names())"
   ]
  },
  {
   "cell_type": "code",
   "execution_count": 65,
   "metadata": {
    "colab": {
     "base_uri": "https://localhost:8080/",
     "height": 72
    },
    "colab_type": "code",
    "executionInfo": {
     "elapsed": 1034318,
     "status": "ok",
     "timestamp": 1565378053290,
     "user": {
      "displayName": "Rishabh Sutravey",
      "photoUrl": "",
      "userId": "13691094868251697255"
     },
     "user_tz": 240
    },
    "id": "FHA8t864OAgL",
    "outputId": "a68f7671-d991-4f76-abb8-99308e3afd3a"
   },
   "outputs": [
    {
     "name": "stderr",
     "output_type": "stream",
     "text": [
      "100%|██████████| 90852/90852 [00:02<00:00, 32510.33it/s]"
     ]
    },
    {
     "name": "stdout",
     "output_type": "stream",
     "text": [
      "90852\n",
      "300\n"
     ]
    },
    {
     "name": "stderr",
     "output_type": "stream",
     "text": [
      "\n"
     ]
    }
   ],
   "source": [
    "# TFIDF Word2Vec on Train Title\n",
    "# compute average word2vec for each review.\n",
    "tfidf_w2v_train_title = []; # the avg-w2v for each sentence/review is stored in this list\n",
    "for sentence in tqdm(X_train['clean_title'].values): # for each review/sentence\n",
    "    vector = np.zeros(300) # as word vectors are of zero length\n",
    "    tf_idf_weight =0; # num of words with a valid vector in the sentence/review\n",
    "    for word in sentence.split(): # for each word in a review/sentence\n",
    "        if (word in glove_words) and (word in tfidf_title_words):\n",
    "            vec = model[word] # getting the vector for each word\n",
    "            # here we are multiplying idf value(dictionary[word]) and the tf value((sentence.count(word)/len(sentence.split())))\n",
    "            tf_idf = dictionary[word]*(sentence.count(word)/len(sentence.split())) # getting the tfidf value for each word\n",
    "            vector += (vec * tf_idf) # calculating tfidf weighted w2v\n",
    "            tf_idf_weight += tf_idf\n",
    "    if tf_idf_weight != 0:\n",
    "        vector /= tf_idf_weight\n",
    "    tfidf_w2v_train_title.append(vector)\n",
    "\n",
    "print(len(tfidf_w2v_train_title))\n",
    "print(len(tfidf_w2v_train_title[0]))"
   ]
  },
  {
   "cell_type": "code",
   "execution_count": 66,
   "metadata": {
    "colab": {
     "base_uri": "https://localhost:8080/",
     "height": 72
    },
    "colab_type": "code",
    "executionInfo": {
     "elapsed": 1034901,
     "status": "ok",
     "timestamp": 1565378053892,
     "user": {
      "displayName": "Rishabh Sutravey",
      "photoUrl": "",
      "userId": "13691094868251697255"
     },
     "user_tz": 240
    },
    "id": "aqhYPnEKOF9m",
    "outputId": "2b59d4bc-6819-422d-b0ab-19d8ac019fb2"
   },
   "outputs": [
    {
     "name": "stderr",
     "output_type": "stream",
     "text": [
      "100%|██████████| 22942/22942 [00:00<00:00, 33724.92it/s]"
     ]
    },
    {
     "name": "stdout",
     "output_type": "stream",
     "text": [
      "22942\n",
      "300\n"
     ]
    },
    {
     "name": "stderr",
     "output_type": "stream",
     "text": [
      "\n"
     ]
    }
   ],
   "source": [
    "# TFIDF Word2Vec on CV Title\n",
    "# compute average word2vec for each review.\n",
    "tfidf_w2v_cv_title = []; # the avg-w2v for each sentence/review is stored in this list\n",
    "for sentence in tqdm(X_cv['clean_title'].values): # for each review/sentence\n",
    "    vector = np.zeros(300) # as word vectors are of zero length\n",
    "    tf_idf_weight =0; # num of words with a valid vector in the sentence/review\n",
    "    for word in sentence.split(): # for each word in a review/sentence\n",
    "        if (word in glove_words) and (word in tfidf_title_words):\n",
    "            vec = model[word] # getting the vector for each word\n",
    "            # here we are multiplying idf value(dictionary[word]) and the tf value((sentence.count(word)/len(sentence.split())))\n",
    "            tf_idf = dictionary[word]*(sentence.count(word)/len(sentence.split())) # getting the tfidf value for each word\n",
    "            vector += (vec * tf_idf) # calculating tfidf weighted w2v\n",
    "            tf_idf_weight += tf_idf\n",
    "    if tf_idf_weight != 0:\n",
    "        vector /= tf_idf_weight\n",
    "    tfidf_w2v_cv_title.append(vector)\n",
    "\n",
    "print(len(tfidf_w2v_cv_title))\n",
    "print(len(tfidf_w2v_cv_title[0]))"
   ]
  },
  {
   "cell_type": "code",
   "execution_count": 67,
   "metadata": {
    "colab": {
     "base_uri": "https://localhost:8080/",
     "height": 72
    },
    "colab_type": "code",
    "executionInfo": {
     "elapsed": 1035532,
     "status": "ok",
     "timestamp": 1565378054547,
     "user": {
      "displayName": "Rishabh Sutravey",
      "photoUrl": "",
      "userId": "13691094868251697255"
     },
     "user_tz": 240
    },
    "id": "VgurKSAyOGkw",
    "outputId": "e1417bd4-9183-4e6e-dd8c-f090cfcfb231"
   },
   "outputs": [
    {
     "name": "stderr",
     "output_type": "stream",
     "text": [
      "100%|██████████| 32775/32775 [00:01<00:00, 32445.72it/s]"
     ]
    },
    {
     "name": "stdout",
     "output_type": "stream",
     "text": [
      "32775\n",
      "300\n"
     ]
    },
    {
     "name": "stderr",
     "output_type": "stream",
     "text": [
      "\n"
     ]
    }
   ],
   "source": [
    "# TFIDF Word2Vec on Test Title\n",
    "# compute average word2vec for each review.\n",
    "tfidf_w2v_test_title = []; # the avg-w2v for each sentence/review is stored in this list\n",
    "for sentence in tqdm(X_test['clean_title'].values): # for each review/sentence\n",
    "    vector = np.zeros(300) # as word vectors are of zero length\n",
    "    tf_idf_weight =0; # num of words with a valid vector in the sentence/review\n",
    "    for word in sentence.split(): # for each word in a review/sentence\n",
    "        if (word in glove_words) and (word in tfidf_title_words):\n",
    "            vec = model[word] # getting the vector for each word\n",
    "            # here we are multiplying idf value(dictionary[word]) and the tf value((sentence.count(word)/len(sentence.split())))\n",
    "            tf_idf = dictionary[word]*(sentence.count(word)/len(sentence.split())) # getting the tfidf value for each word\n",
    "            vector += (vec * tf_idf) # calculating tfidf weighted w2v\n",
    "            tf_idf_weight += tf_idf\n",
    "    if tf_idf_weight != 0:\n",
    "        vector /= tf_idf_weight\n",
    "    tfidf_w2v_test_title.append(vector)\n",
    "\n",
    "print(len(tfidf_w2v_test_title))\n",
    "print(len(tfidf_w2v_test_title[0]))"
   ]
  },
  {
   "cell_type": "markdown",
   "metadata": {
    "colab_type": "text",
    "id": "nrHWjPsrOh-I"
   },
   "source": [
    "### 1.5.3 Vectorizing Numerical features"
   ]
  },
  {
   "cell_type": "markdown",
   "metadata": {
    "colab_type": "text",
    "id": "sKW5SSXlHURw"
   },
   "source": [
    "####1.5.3.1 Vectorizing Price"
   ]
  },
  {
   "cell_type": "code",
   "execution_count": 68,
   "metadata": {
    "colab": {
     "base_uri": "https://localhost:8080/",
     "height": 256
    },
    "colab_type": "code",
    "executionInfo": {
     "elapsed": 1035514,
     "status": "ok",
     "timestamp": 1565378054549,
     "user": {
      "displayName": "Rishabh Sutravey",
      "photoUrl": "",
      "userId": "13691094868251697255"
     },
     "user_tz": 240
    },
    "id": "81MCqG8wOh-M",
    "outputId": "902e4608-cbec-419e-8019-cb398c887d48"
   },
   "outputs": [
    {
     "name": "stdout",
     "output_type": "stream",
     "text": [
      "Mean : 326.2203502399507, Standard deviation : 370.41484865916556\n",
      "After vectorizations\n",
      "(90852, 1) (90852,)\n",
      "(22942, 1) (22942,)\n",
      "(32775, 1) (32775,)\n",
      "====================================================================================================\n",
      "[[ 1.03321897]\n",
      " [ 0.3176699 ]\n",
      " [-0.71722381]\n",
      " ...\n",
      " [ 0.10466548]\n",
      " [ 0.06935373]\n",
      " [ 1.00905688]]\n"
     ]
    }
   ],
   "source": [
    "# check this one: https://www.youtube.com/watch?v=0HOqOcln3Z4&t=530s\n",
    "# standardization sklearn: https://scikit-learn.org/stable/modules/generated/sklearn.preprocessing.StandardScaler.html\n",
    "from sklearn.preprocessing import StandardScaler\n",
    "\n",
    "# price_standardized = standardScalar.fit(project_data['price'].values)\n",
    "# this will rise the error\n",
    "# ValueError: Expected 2D array, got 1D array instead: array=[725.05 213.03 329.   ... 399.   287.73   5.5 ].\n",
    "# Reshape your data either using array.reshape(-1, 1)\n",
    "\n",
    "price_scalar = StandardScaler()\n",
    "price_scalar.fit(X_train['price'].values.reshape(-1,1)) # finding the mean and standard deviation of this data\n",
    "print(f\"Mean : {price_scalar.mean_[0]}, Standard deviation : {np.sqrt(price_scalar.var_[0])}\")\n",
    "\n",
    "# Now standardize the data with above maen and variance.\n",
    "\n",
    "X_train_price_std = price_scalar.transform(X_train['price'].values.reshape(-1,1))\n",
    "X_cv_price_std = price_scalar.transform(X_cv['price'].values.reshape(-1,1))\n",
    "X_test_price_std = price_scalar.transform(X_test['price'].values.reshape(-1,1))\n",
    "\n",
    "print(\"After vectorizations\")\n",
    "print(X_train_price_std.shape, y_train.shape)\n",
    "print(X_cv_price_std.shape, y_cv.shape)\n",
    "print(X_test_price_std.shape, y_test.shape)\n",
    "print(\"=\"*100)\n",
    "print(X_train_price_std)"
   ]
  },
  {
   "cell_type": "markdown",
   "metadata": {
    "colab_type": "text",
    "id": "u-QLOUF3HYxX"
   },
   "source": [
    "####1.5.3.2 Vectorizing Teacher number of previously posted projects"
   ]
  },
  {
   "cell_type": "code",
   "execution_count": 69,
   "metadata": {
    "colab": {
     "base_uri": "https://localhost:8080/",
     "height": 256
    },
    "colab_type": "code",
    "executionInfo": {
     "elapsed": 1035495,
     "status": "ok",
     "timestamp": 1565378054550,
     "user": {
      "displayName": "Rishabh Sutravey",
      "photoUrl": "",
      "userId": "13691094868251697255"
     },
     "user_tz": 240
    },
    "id": "J_C6r8cyOh-P",
    "outputId": "c0942a4b-406a-46e5-d14b-177b126a17a1"
   },
   "outputs": [
    {
     "name": "stdout",
     "output_type": "stream",
     "text": [
      "Mean : 9.378153480385683, Standard deviation : 24.3773015431749\n",
      "After vectorizations\n",
      "(90852, 1) (90852,)\n",
      "(22942, 1) (22942,)\n",
      "(32775, 1) (32775,)\n",
      "====================================================================================================\n",
      "[[ 0.8459446 ]\n",
      " [-0.05653429]\n",
      " [-0.38470843]\n",
      " ...\n",
      " [-0.34368667]\n",
      " [-0.34368667]\n",
      " [-0.38470843]]\n"
     ]
    }
   ],
   "source": [
    "tp_scalar = StandardScaler()\n",
    "tp_scalar.fit(X_train['teacher_number_of_previously_posted_projects'].values.reshape(-1,1)) # finding the mean and standard deviation of this data\n",
    "print(f\"Mean : {tp_scalar.mean_[0]}, Standard deviation : {np.sqrt(tp_scalar.var_[0])}\")\n",
    "\n",
    "# Now standardize the data with above maen and variance.\n",
    "\n",
    "X_train_tp_std = tp_scalar.transform(X_train['teacher_number_of_previously_posted_projects'].values.reshape(-1,1))\n",
    "X_cv_tp_std = tp_scalar.transform(X_cv['teacher_number_of_previously_posted_projects'].values.reshape(-1,1))\n",
    "X_test_tp_std = tp_scalar.transform(X_test['teacher_number_of_previously_posted_projects'].values.reshape(-1,1))\n",
    "\n",
    "print(\"After vectorizations\")\n",
    "print(X_train_tp_std.shape, y_train.shape)\n",
    "print(X_cv_tp_std.shape, y_cv.shape)\n",
    "print(X_test_tp_std.shape, y_test.shape)\n",
    "print(\"=\"*100)\n",
    "print(X_train_tp_std)"
   ]
  },
  {
   "cell_type": "markdown",
   "metadata": {
    "colab_type": "text",
    "id": "I8hX-Rn2h7mZ"
   },
   "source": [
    "####1.5.3.3 Vectorizing Quantity"
   ]
  },
  {
   "cell_type": "code",
   "execution_count": 70,
   "metadata": {
    "colab": {
     "base_uri": "https://localhost:8080/",
     "height": 256
    },
    "colab_type": "code",
    "executionInfo": {
     "elapsed": 1035475,
     "status": "ok",
     "timestamp": 1565378054551,
     "user": {
      "displayName": "Rishabh Sutravey",
      "photoUrl": "",
      "userId": "13691094868251697255"
     },
     "user_tz": 240
    },
    "id": "3rPcC22ViA24",
    "outputId": "791cbb07-0e28-4032-ecbd-982b3e5bfa8f"
   },
   "outputs": [
    {
     "name": "stdout",
     "output_type": "stream",
     "text": [
      "Mean : 18.055397789812, Standard deviation : 26.25898973122068\n",
      "After vectorizations\n",
      "(90852, 1) (90852,)\n",
      "(22942, 1) (22942,)\n",
      "(32775, 1) (32775,)\n",
      "====================================================================================================\n",
      "[[-0.64950701]\n",
      " [-0.23060285]\n",
      " [-0.38293163]\n",
      " ...\n",
      " [-0.49717822]\n",
      " [-0.57334261]\n",
      " [-0.64950701]]\n"
     ]
    }
   ],
   "source": [
    "quantity_scalar = StandardScaler()\n",
    "quantity_scalar.fit(X_train['quantity'].values.reshape(-1,1)) # finding the mean and standard deviation of this data\n",
    "print(f\"Mean : {quantity_scalar.mean_[0]}, Standard deviation : {np.sqrt(quantity_scalar.var_[0])}\")\n",
    "\n",
    "# Now standardize the data with above maen and variance.\n",
    "\n",
    "X_train_quantity_std = quantity_scalar.transform(X_train['quantity'].values.reshape(-1,1))\n",
    "X_cv_quantity_std = quantity_scalar.transform(X_cv['quantity'].values.reshape(-1,1))\n",
    "X_test_quantity_std = quantity_scalar.transform(X_test['quantity'].values.reshape(-1,1))\n",
    "\n",
    "print(\"After vectorizations\")\n",
    "print(X_train_quantity_std.shape, y_train.shape)\n",
    "print(X_cv_quantity_std.shape, y_cv.shape)\n",
    "print(X_test_quantity_std.shape, y_test.shape)\n",
    "print(\"=\"*100)\n",
    "print(X_train_quantity_std)"
   ]
  },
  {
   "cell_type": "markdown",
   "metadata": {
    "colab_type": "text",
    "id": "BFW2AZ8QLk9s"
   },
   "source": [
    "####1.5.3.4 Vectorizing Title Count"
   ]
  },
  {
   "cell_type": "code",
   "execution_count": 71,
   "metadata": {
    "colab": {
     "base_uri": "https://localhost:8080/",
     "height": 256
    },
    "colab_type": "code",
    "executionInfo": {
     "elapsed": 1035459,
     "status": "ok",
     "timestamp": 1565378054554,
     "user": {
      "displayName": "Rishabh Sutravey",
      "photoUrl": "",
      "userId": "13691094868251697255"
     },
     "user_tz": 240
    },
    "id": "9Q4es97BJjqE",
    "outputId": "3a342d2f-f64d-4bc9-b795-71c08221742c"
   },
   "outputs": [
    {
     "name": "stdout",
     "output_type": "stream",
     "text": [
      "Mean : 3.7033086778496895, Standard deviation : 1.5721178950264079\n",
      "After vectorizations\n",
      "(90852, 1) (90852,)\n",
      "(22942, 1) (22942,)\n",
      "(32775, 1) (32775,)\n",
      "====================================================================================================\n",
      "[[ 0.18872078]\n",
      " [ 0.8248054 ]\n",
      " [-1.08344844]\n",
      " ...\n",
      " [-0.44736383]\n",
      " [-1.08344844]\n",
      " [ 3.36914384]]\n"
     ]
    }
   ],
   "source": [
    "title_cnt_scalar = StandardScaler()\n",
    "title_cnt_scalar.fit(X_train['title_count'].values.reshape(-1,1)) # finding the mean and standard deviation of this data\n",
    "print(f\"Mean : {title_cnt_scalar.mean_[0]}, Standard deviation : {np.sqrt(title_cnt_scalar.var_[0])}\")\n",
    "\n",
    "# Now standardize the data with above maen and variance.\n",
    "\n",
    "X_train_titlecnt_std = title_cnt_scalar.transform(X_train['title_count'].values.reshape(-1,1))\n",
    "X_cv_titlecnt_std = title_cnt_scalar.transform(X_cv['title_count'].values.reshape(-1,1))\n",
    "X_test_titlecnt_std = title_cnt_scalar.transform(X_test['title_count'].values.reshape(-1,1))\n",
    "\n",
    "print(\"After vectorizations\")\n",
    "print(X_train_titlecnt_std.shape, y_train.shape)\n",
    "print(X_cv_titlecnt_std.shape, y_cv.shape)\n",
    "print(X_test_titlecnt_std.shape, y_test.shape)\n",
    "print(\"=\"*100)\n",
    "print(X_train_titlecnt_std)"
   ]
  },
  {
   "cell_type": "markdown",
   "metadata": {
    "colab_type": "text",
    "id": "YP_E-bn8L2qB"
   },
   "source": [
    "####1.5.3.5 Vectorizing Essay Count"
   ]
  },
  {
   "cell_type": "code",
   "execution_count": 72,
   "metadata": {
    "colab": {
     "base_uri": "https://localhost:8080/",
     "height": 256
    },
    "colab_type": "code",
    "executionInfo": {
     "elapsed": 1035441,
     "status": "ok",
     "timestamp": 1565378054556,
     "user": {
      "displayName": "Rishabh Sutravey",
      "photoUrl": "",
      "userId": "13691094868251697255"
     },
     "user_tz": 240
    },
    "id": "IqCAr0U6JmMP",
    "outputId": "91f281ba-fec1-4ad5-9555-833331f32393"
   },
   "outputs": [
    {
     "name": "stdout",
     "output_type": "stream",
     "text": [
      "Mean : 142.46648395192182, Standard deviation : 37.86785193517009\n",
      "After vectorizations\n",
      "(90852, 1) (90852,)\n",
      "(22942, 1) (22942,)\n",
      "(32775, 1) (32775,)\n",
      "====================================================================================================\n",
      "[[-0.83095508]\n",
      " [-0.40843309]\n",
      " [-1.12143895]\n",
      " ...\n",
      " [-0.98940083]\n",
      " [-0.46124834]\n",
      " [ 1.41369297]]\n"
     ]
    }
   ],
   "source": [
    "essay_cnt_scalar = StandardScaler()\n",
    "essay_cnt_scalar.fit(X_train['essay_count'].values.reshape(-1,1)) # finding the mean and standard deviation of this data\n",
    "print(f\"Mean : {essay_cnt_scalar.mean_[0]}, Standard deviation : {np.sqrt(essay_cnt_scalar.var_[0])}\")\n",
    "\n",
    "# Now standardize the data with above maen and variance.\n",
    "\n",
    "X_train_essaycnt_std = essay_cnt_scalar.transform(X_train['essay_count'].values.reshape(-1,1))\n",
    "X_cv_essaycnt_std = essay_cnt_scalar.transform(X_cv['essay_count'].values.reshape(-1,1))\n",
    "X_test_essaycnt_std = essay_cnt_scalar.transform(X_test['essay_count'].values.reshape(-1,1))\n",
    "\n",
    "print(\"After vectorizations\")\n",
    "print(X_train_essaycnt_std.shape, y_train.shape)\n",
    "print(X_cv_essaycnt_std.shape, y_cv.shape)\n",
    "print(X_test_essaycnt_std.shape, y_test.shape)\n",
    "print(\"=\"*100)\n",
    "print(X_train_essaycnt_std)"
   ]
  },
  {
   "cell_type": "markdown",
   "metadata": {
    "colab_type": "text",
    "id": "m8vQHRmfoUHr"
   },
   "source": [
    "### 1.5.4 Merging all the above features"
   ]
  },
  {
   "cell_type": "markdown",
   "metadata": {
    "colab_type": "text",
    "id": "MeqZCqa4oUHs"
   },
   "source": [
    "- we need to merge all the numerical vectors i.e catogorical, text, numerical vectors"
   ]
  },
  {
   "cell_type": "markdown",
   "metadata": {
    "colab_type": "text",
    "id": "ycW1Cn9qWKNt"
   },
   "source": [
    "###<font color='red'>Set 1</font>"
   ]
  },
  {
   "cell_type": "code",
   "execution_count": 73,
   "metadata": {
    "colab": {
     "base_uri": "https://localhost:8080/",
     "height": 109
    },
    "colab_type": "code",
    "executionInfo": {
     "elapsed": 1037309,
     "status": "ok",
     "timestamp": 1565378056444,
     "user": {
      "displayName": "Rishabh Sutravey",
      "photoUrl": "",
      "userId": "13691094868251697255"
     },
     "user_tz": 240
    },
    "id": "uwOhjmBBOh-T",
    "outputId": "e9939c40-2b3a-473d-d36d-09506007bccb"
   },
   "outputs": [
    {
     "name": "stdout",
     "output_type": "stream",
     "text": [
      "Final Data matrix\n",
      "(90852, 8160) (90852,)\n",
      "(22942, 8160) (22942,)\n",
      "(32775, 8160) (32775,)\n",
      "====================================================================================================\n"
     ]
    }
   ],
   "source": [
    "# merge two sparse matrices: https://stackoverflow.com/a/19710648/4084039\n",
    "from scipy.sparse import hstack\n",
    "X_tr = hstack(( X_train_state_ohe,X_train_clean_cat_ohe,X_train_clean_subcat_ohe, X_train_teacher_ohe, X_train_grade_ohe, X_train_price_std,X_train_tp_std,X_train_essay_bow,X_train_title_bow)).tocsr()\n",
    "X_cr = hstack(( X_cv_state_ohe,X_cv_clean_cat_ohe,X_cv_clean_subcat_ohe, X_cv_teacher_ohe, X_cv_grade_ohe, X_cv_price_std,X_cv_tp_std,X_cv_essay_bow,X_cv_title_bow)).tocsr()\n",
    "X_te = hstack(( X_test_state_ohe,X_test_clean_cat_ohe,X_test_clean_subcat_ohe, X_test_teacher_ohe, X_test_grade_ohe, X_test_price_std,X_test_tp_std,X_test_essay_bow,X_test_title_bow)).tocsr()\n",
    "\n",
    "print(\"Final Data matrix\")\n",
    "print(X_tr.shape, y_train.shape)\n",
    "print(X_cr.shape, y_cv.shape)\n",
    "print(X_te.shape, y_test.shape)\n",
    "print(\"=\"*100)"
   ]
  },
  {
   "cell_type": "markdown",
   "metadata": {
    "colab_type": "text",
    "id": "U2zGUMeYV67D"
   },
   "source": [
    "### <font color='red'>Set 2</font>"
   ]
  },
  {
   "cell_type": "code",
   "execution_count": 74,
   "metadata": {
    "colab": {
     "base_uri": "https://localhost:8080/",
     "height": 109
    },
    "colab_type": "code",
    "executionInfo": {
     "elapsed": 1037907,
     "status": "ok",
     "timestamp": 1565378057060,
     "user": {
      "displayName": "Rishabh Sutravey",
      "photoUrl": "",
      "userId": "13691094868251697255"
     },
     "user_tz": 240
    },
    "id": "yp6yXOGOOh-X",
    "outputId": "56c8383c-2545-4967-f764-c063059ac37a"
   },
   "outputs": [
    {
     "name": "stdout",
     "output_type": "stream",
     "text": [
      "Final Data matrix\n",
      "(90852, 8160) (90852,)\n",
      "(22942, 8160) (22942,)\n",
      "(32775, 8160) (32775,)\n",
      "====================================================================================================\n"
     ]
    }
   ],
   "source": [
    "X_2tr = hstack(( X_train_state_ohe,X_train_clean_cat_ohe,X_train_clean_subcat_ohe, X_train_teacher_ohe, X_train_grade_ohe, X_train_price_std,X_train_tp_std,X_train_essay_tfidf,X_train_title_tfidf)).tocsr()\n",
    "X_2cr = hstack(( X_cv_state_ohe,X_cv_clean_cat_ohe,X_cv_clean_subcat_ohe, X_cv_teacher_ohe, X_cv_grade_ohe, X_cv_price_std,X_cv_tp_std,X_cv_essay_tfidf,X_cv_title_tfidf)).tocsr()\n",
    "X_2te = hstack(( X_test_state_ohe,X_test_clean_cat_ohe,X_test_clean_subcat_ohe, X_test_teacher_ohe, X_test_grade_ohe, X_test_price_std,X_test_tp_std,X_test_essay_tfidf,X_test_title_tfidf)).tocsr()\n",
    "\n",
    "print(\"Final Data matrix\")\n",
    "print(X_2tr.shape, y_train.shape)\n",
    "print(X_2cr.shape, y_cv.shape)\n",
    "print(X_2te.shape, y_test.shape)\n",
    "print(\"=\"*100)"
   ]
  },
  {
   "cell_type": "markdown",
   "metadata": {
    "colab_type": "text",
    "id": "DN7-pb2SWP-c"
   },
   "source": [
    "### <font color='red'>Set 3</font>"
   ]
  },
  {
   "cell_type": "code",
   "execution_count": 75,
   "metadata": {
    "colab": {
     "base_uri": "https://localhost:8080/",
     "height": 109
    },
    "colab_type": "code",
    "executionInfo": {
     "elapsed": 1045645,
     "status": "ok",
     "timestamp": 1565378064820,
     "user": {
      "displayName": "Rishabh Sutravey",
      "photoUrl": "",
      "userId": "13691094868251697255"
     },
     "user_tz": 240
    },
    "id": "LJs9Ukeg5IjX",
    "outputId": "13bffbbd-21ce-4b33-a303-813322443464"
   },
   "outputs": [
    {
     "name": "stdout",
     "output_type": "stream",
     "text": [
      "Final Data matrix\n",
      "(90852, 701) (90852,)\n",
      "(22942, 701) (22942,)\n",
      "(32775, 701) (32775,)\n",
      "====================================================================================================\n"
     ]
    }
   ],
   "source": [
    "X_3tr = hstack(( X_train_state_ohe,X_train_clean_cat_ohe,X_train_clean_subcat_ohe, X_train_teacher_ohe, X_train_grade_ohe, X_train_price_std,X_train_tp_std,avg_w2v_train_essay,avg_w2v_train_title)).tocsr()\n",
    "X_3cr = hstack(( X_cv_state_ohe,X_cv_clean_cat_ohe,X_cv_clean_subcat_ohe, X_cv_teacher_ohe, X_cv_grade_ohe, X_cv_price_std,X_cv_tp_std,avg_w2v_cv_essay,avg_w2v_cv_title)).tocsr()\n",
    "X_3te = hstack(( X_test_state_ohe,X_test_clean_cat_ohe,X_test_clean_subcat_ohe, X_test_teacher_ohe, X_test_grade_ohe, X_test_price_std,X_test_tp_std,avg_w2v_test_essay,avg_w2v_test_title)).tocsr()\n",
    "\n",
    "print(\"Final Data matrix\")\n",
    "print(X_3tr.shape, y_train.shape)\n",
    "print(X_3cr.shape, y_cv.shape)\n",
    "print(X_3te.shape, y_test.shape)\n",
    "print(\"=\"*100)"
   ]
  },
  {
   "cell_type": "markdown",
   "metadata": {
    "colab_type": "text",
    "id": "a-cyh9RyWVNG"
   },
   "source": [
    "### <font color='red'>Set 4</font>"
   ]
  },
  {
   "cell_type": "code",
   "execution_count": 76,
   "metadata": {
    "colab": {
     "base_uri": "https://localhost:8080/",
     "height": 109
    },
    "colab_type": "code",
    "executionInfo": {
     "elapsed": 1052549,
     "status": "ok",
     "timestamp": 1565378071745,
     "user": {
      "displayName": "Rishabh Sutravey",
      "photoUrl": "",
      "userId": "13691094868251697255"
     },
     "user_tz": 240
    },
    "id": "62RQajoj5OXx",
    "outputId": "d8d41d51-ce10-4bdb-e2ea-a6be7b8a7bbc"
   },
   "outputs": [
    {
     "name": "stdout",
     "output_type": "stream",
     "text": [
      "Final Data matrix\n",
      "(90852, 701) (90852,)\n",
      "(22942, 701) (22942,)\n",
      "(32775, 701) (32775,)\n",
      "====================================================================================================\n"
     ]
    }
   ],
   "source": [
    "X_4tr = hstack(( X_train_state_ohe,X_train_clean_cat_ohe,X_train_clean_subcat_ohe, X_train_teacher_ohe, X_train_grade_ohe, X_train_price_std,X_train_tp_std,tfidf_w2v_train_essay,tfidf_w2v_train_title)).tocsr()\n",
    "X_4cr = hstack(( X_cv_state_ohe,X_cv_clean_cat_ohe,X_cv_clean_subcat_ohe, X_cv_teacher_ohe, X_cv_grade_ohe, X_cv_price_std,X_cv_tp_std,tfidf_w2v_cv_essay,tfidf_w2v_cv_title)).tocsr()\n",
    "X_4te = hstack(( X_test_state_ohe,X_test_clean_cat_ohe,X_test_clean_subcat_ohe, X_test_teacher_ohe, X_test_grade_ohe, X_test_price_std,X_test_tp_std,tfidf_w2v_test_essay,tfidf_w2v_test_title)).tocsr()\n",
    "\n",
    "print(\"Final Data matrix\")\n",
    "print(X_4tr.shape, y_train.shape)\n",
    "print(X_4cr.shape, y_cv.shape)\n",
    "print(X_4te.shape, y_test.shape)\n",
    "print(\"=\"*100)"
   ]
  },
  {
   "cell_type": "markdown",
   "metadata": {
    "colab_type": "text",
    "id": "6sZvMoQfOh-b"
   },
   "source": [
    "__ Computing Sentiment Scores__"
   ]
  },
  {
   "cell_type": "code",
   "execution_count": 77,
   "metadata": {
    "colab": {
     "base_uri": "https://localhost:8080/",
     "height": 35
    },
    "colab_type": "code",
    "executionInfo": {
     "elapsed": 1052514,
     "status": "ok",
     "timestamp": 1565378071745,
     "user": {
      "displayName": "Rishabh Sutravey",
      "photoUrl": "",
      "userId": "13691094868251697255"
     },
     "user_tz": 240
    },
    "id": "F8rRKUskoUHz",
    "outputId": "d668e588-d9b9-4be7-f4e0-d77049abd637"
   },
   "outputs": [
    {
     "name": "stdout",
     "output_type": "stream",
     "text": [
      "neg: 0.01, neu: 0.745, pos: 0.245, compound: 0.9975, "
     ]
    }
   ],
   "source": [
    "import nltk\n",
    "from nltk.sentiment.vader import SentimentIntensityAnalyzer\n",
    "\n",
    "# import nltk\n",
    "# nltk.download('vader_lexicon')\n",
    "\n",
    "sid = SentimentIntensityAnalyzer()\n",
    "\n",
    "for_sentiment = 'a person is a person no matter how small dr seuss i teach the smallest students with the biggest enthusiasm \\\n",
    "for learning my students learn in many different ways using all of our senses and multiple intelligences i use a wide range\\\n",
    "of techniques to help all my students succeed students in my class come from a variety of different backgrounds which makes\\\n",
    "for wonderful sharing of experiences and cultures including native americans our school is a caring community of successful \\\n",
    "learners which can be seen through collaborative student project based learning in and out of the classroom kindergarteners \\\n",
    "in my class love to work with hands on materials and have many different opportunities to practice a skill before it is\\\n",
    "mastered having the social skills to work cooperatively with friends is a crucial aspect of the kindergarten curriculum\\\n",
    "montana is the perfect place to learn about agriculture and nutrition my students love to role play in our pretend kitchen\\\n",
    "in the early childhood classroom i have had several kids ask me can we try cooking with real food i will take their idea \\\n",
    "and create common core cooking lessons where we learn important math and writing concepts while cooking delicious healthy \\\n",
    "food for snack time my students will have a grounded appreciation for the work that went into making the food and knowledge \\\n",
    "of where the ingredients came from as well as how it is healthy for their bodies this project would expand our learning of \\\n",
    "nutrition and agricultural cooking recipes by having us peel our own apples to make homemade applesauce make our own bread \\\n",
    "and mix up healthy plants from our classroom garden in the spring we will also create our own cookbooks to be printed and \\\n",
    "shared with families students will gain math and literature skills as well as a life long enjoyment for healthy cooking \\\n",
    "nannan'\n",
    "ss = sid.polarity_scores(for_sentiment)\n",
    "\n",
    "for k in ss:\n",
    "    print('{0}: {1}, '.format(k, ss[k]), end='')\n",
    "\n",
    "# we can use these 4 things as features/attributes (neg, neu, pos, compound)\n",
    "# neg: 0.0, neu: 0.753, pos: 0.247, compound: 0.93"
   ]
  },
  {
   "cell_type": "code",
   "execution_count": 0,
   "metadata": {
    "colab": {},
    "colab_type": "code",
    "id": "AlG5IBbxMG8O"
   },
   "outputs": [],
   "source": [
    "#Convert each column in dataframe to ndarray\n",
    "#https://stackoverflow.com/questions/22273242/scipy-hstack-results-in-typeerror-no-supported-conversion-for-types-dtypef\n",
    "\n",
    "########################----Essay-1---------##################\n",
    "\n",
    "X_train_neg1 = X_train['neg_e1'].values.reshape(-1,1).astype(float)\n",
    "X_cv_neg1 = X_cv['neg_e1'].values.reshape(-1,1).astype(float)\n",
    "X_test_neg1 = X_test['neg_e1'].values.reshape(-1,1).astype(float)\n",
    "\n",
    "X_train_neu1 = X_train['neu_e1'].values.reshape(-1,1).astype(float)\n",
    "X_cv_neu1 = X_cv['neu_e1'].values.reshape(-1,1).astype(float)\n",
    "X_test_neu1 = X_test['neu_e1'].values.reshape(-1,1).astype(float)\n",
    "\n",
    "X_train_pos1 = X_train['pos_e1'].values.reshape(-1,1).astype(float)\n",
    "X_cv_pos1 = X_cv['pos_e1'].values.reshape(-1,1).astype(float)\n",
    "X_test_pos1 = X_test['pos_e1'].values.reshape(-1,1).astype(float)\n",
    "\n",
    "X_train_compound1 = X_train['compound_e1'].values.reshape(-1,1).astype(float)\n",
    "X_cv_compound1 = X_cv['compound_e1'].values.reshape(-1,1).astype(float)\n",
    "X_test_compound1 = X_test['compound_e1'].values.reshape(-1,1).astype(float)\n",
    "\n",
    "########################----Essay-2---------##################\n",
    "\n",
    "X_train_neg2 = X_train['neg_e2'].values.reshape(-1,1).astype(float)\n",
    "X_cv_neg2 = X_cv['neg_e2'].values.reshape(-1,1).astype(float)\n",
    "X_test_neg2 = X_test['neg_e2'].values.reshape(-1,1).astype(float)\n",
    "\n",
    "X_train_neu2 = X_train['neu_e2'].values.reshape(-1,1).astype(float)\n",
    "X_cv_neu2 = X_cv['neu_e2'].values.reshape(-1,1).astype(float)\n",
    "X_test_neu2 = X_test['neu_e2'].values.reshape(-1,1).astype(float)\n",
    "\n",
    "X_train_pos2 = X_train['pos_e2'].values.reshape(-1,1).astype(float)\n",
    "X_cv_pos2 = X_cv['pos_e2'].values.reshape(-1,1).astype(float)\n",
    "X_test_pos2 = X_test['pos_e2'].values.reshape(-1,1).astype(float)\n",
    "\n",
    "X_train_compound2 = X_train['compound_e2'].values.reshape(-1,1).astype(float)\n",
    "X_cv_compound2 = X_cv['compound_e2'].values.reshape(-1,1).astype(float)\n",
    "X_test_compound2 = X_test['compound_e2'].values.reshape(-1,1).astype(float)\n",
    "\n",
    "########################----Essay-3---------##################\n",
    "\n",
    "X_train_neg3 = X_train['neg_e3'].values.reshape(-1,1).astype(float)\n",
    "X_cv_neg3 = X_cv['neg_e3'].values.reshape(-1,1).astype(float)\n",
    "X_test_neg3 = X_test['neg_e3'].values.reshape(-1,1).astype(float)\n",
    "\n",
    "X_train_neu3 = X_train['neu_e3'].values.reshape(-1,1).astype(float)\n",
    "X_cv_neu3 = X_cv['neu_e3'].values.reshape(-1,1).astype(float)\n",
    "X_test_neu3 = X_test['neu_e3'].values.reshape(-1,1).astype(float)\n",
    "\n",
    "X_train_pos3 = X_train['pos_e3'].values.reshape(-1,1).astype(float)\n",
    "X_cv_pos3 = X_cv['pos_e3'].values.reshape(-1,1).astype(float)\n",
    "X_test_pos3 = X_test['pos_e3'].values.reshape(-1,1).astype(float)\n",
    "\n",
    "X_train_compound3 = X_train['compound_e3'].values.reshape(-1,1).astype(float)\n",
    "X_cv_compound3 = X_cv['compound_e3'].values.reshape(-1,1).astype(float)\n",
    "X_test_compound3 = X_test['compound_e3'].values.reshape(-1,1).astype(float)\n",
    "\n",
    "########################----Essay4---------##################\n",
    "\n",
    "X_train_neg4 = X_train['neg_e4'].values.reshape(-1,1).astype(float)\n",
    "X_cv_neg4 = X_cv['neg_e4'].values.reshape(-1,1).astype(float)\n",
    "X_test_neg4 = X_test['neg_e4'].values.reshape(-1,1).astype(float)\n",
    "\n",
    "X_train_neu4 = X_train['neu_e4'].values.reshape(-1,1).astype(float)\n",
    "X_cv_neu4 = X_cv['neu_e4'].values.reshape(-1,1).astype(float)\n",
    "X_test_neu4 = X_test['neu_e4'].values.reshape(-1,1).astype(float)\n",
    "\n",
    "X_train_pos4 = X_train['pos_e4'].values.reshape(-1,1).astype(float)\n",
    "X_cv_pos4 = X_cv['pos_e4'].values.reshape(-1,1).astype(float)\n",
    "X_test_pos4 = X_test['pos_e4'].values.reshape(-1,1).astype(float)\n",
    "\n",
    "X_train_compound4 = X_train['compound_e4'].values.reshape(-1,1).astype(float)\n",
    "X_cv_compound4 = X_cv['compound_e4'].values.reshape(-1,1).astype(float)\n",
    "X_test_compound4 = X_test['compound_e4'].values.reshape(-1,1).astype(float)"
   ]
  },
  {
   "cell_type": "markdown",
   "metadata": {
    "colab_type": "text",
    "id": "E2M6ezS2A16h"
   },
   "source": [
    "#### TFIDF vectorizer of essay with 3000 features"
   ]
  },
  {
   "cell_type": "code",
   "execution_count": 79,
   "metadata": {
    "colab": {
     "base_uri": "https://localhost:8080/",
     "height": 109
    },
    "colab_type": "code",
    "executionInfo": {
     "elapsed": 1125816,
     "status": "ok",
     "timestamp": 1565378145071,
     "user": {
      "displayName": "Rishabh Sutravey",
      "photoUrl": "",
      "userId": "13691094868251697255"
     },
     "user_tz": 240
    },
    "id": "Y3c7d6TpKthl",
    "outputId": "8ad893cd-4213-4d2e-c5a6-57939e0a7d14"
   },
   "outputs": [
    {
     "name": "stdout",
     "output_type": "stream",
     "text": [
      "After vectorizations\n",
      "(90852, 3000) (90852,)\n",
      "(22942, 3000) (22942,)\n",
      "(32775, 3000) (32775,)\n",
      "====================================================================================================\n"
     ]
    }
   ],
   "source": [
    "\n",
    "vectorizer = TfidfVectorizer(min_df=10,ngram_range=(1,2), max_features=3000)\n",
    "vectorizer.fit(X_train['clean_essay'].values) # fit has to happen only on train data\n",
    "\n",
    "# we use the fitted CountVectorizer to convert the text to vector\n",
    "X_tr_essay_tfidf = vectorizer.transform(X_train['clean_essay'].values)\n",
    "X_cr_essay_tfidf = vectorizer.transform(X_cv['clean_essay'].values)\n",
    "X_te_essay_tfidf = vectorizer.transform(X_test['clean_essay'].values)\n",
    "\n",
    "print(\"After vectorizations\")\n",
    "print(X_tr_essay_tfidf.shape, y_train.shape)\n",
    "print(X_cr_essay_tfidf.shape, y_cv.shape)\n",
    "print(X_te_essay_tfidf.shape, y_test.shape)\n",
    "print(\"=\"*100)\n"
   ]
  },
  {
   "cell_type": "code",
   "execution_count": 80,
   "metadata": {
    "colab": {
     "base_uri": "https://localhost:8080/",
     "height": 296
    },
    "colab_type": "code",
    "executionInfo": {
     "elapsed": 1988740,
     "status": "ok",
     "timestamp": 1565379008016,
     "user": {
      "displayName": "Rishabh Sutravey",
      "photoUrl": "",
      "userId": "13691094868251697255"
     },
     "user_tz": 240
    },
    "id": "nwwxArmq44r0",
    "outputId": "59d9bb4d-04e3-48d5-d0a6-2b3a2003cb3d"
   },
   "outputs": [
    {
     "data": {
      "image/png": "[encoded data removed]",
      "text/plain": [
       "<Figure size 432x288 with 1 Axes>"
      ]
     },
     "metadata": {
      "tags": []
     },
     "output_type": "display_data"
    }
   ],
   "source": [
    "\n",
    "from sklearn.decomposition import TruncatedSVD\n",
    "\n",
    "svd = TruncatedSVD(n_components=2999, n_iter=7)\n",
    "svd.fit(X_tr_essay_tfidf)\n",
    "svd.transform(X_tr_essay_tfidf)\n",
    "percentage_var_explained = svd.explained_variance_ / np.sum(svd.explained_variance_);\n",
    "\n",
    "cum_var_explained = np.cumsum(percentage_var_explained)\n",
    "\n",
    "# Plot the PCA spectrum\n",
    "plt.figure(1, figsize=(6, 4))\n",
    "\n",
    "plt.clf()\n",
    "plt.plot(cum_var_explained, linewidth=2)\n",
    "plt.axis('tight')\n",
    "plt.grid()\n",
    "plt.title('Cumulative variance preserved for n_components')\n",
    "plt.xlabel('n_components')\n",
    "plt.ylabel('Cumulative_explained_variance')\n",
    "plt.show()\n"
   ]
  },
  {
   "cell_type": "code",
   "execution_count": 81,
   "metadata": {
    "colab": {
     "base_uri": "https://localhost:8080/",
     "height": 109
    },
    "colab_type": "code",
    "executionInfo": {
     "elapsed": 2325756,
     "status": "ok",
     "timestamp": 1565379345050,
     "user": {
      "displayName": "Rishabh Sutravey",
      "photoUrl": "",
      "userId": "13691094868251697255"
     },
     "user_tz": 240
    },
    "id": "5bAegFrecD5N",
    "outputId": "c41016d7-28bb-4cc1-e841-fdad71210184"
   },
   "outputs": [
    {
     "name": "stdout",
     "output_type": "stream",
     "text": [
      "After vectorizations\n",
      "(90852, 1500) (90852,)\n",
      "(22942, 1500) (22942,)\n",
      "(32775, 1500) (32775,)\n",
      "====================================================================================================\n"
     ]
    }
   ],
   "source": [
    "#Considering n_components = 1500 as more than 80% of variance is preserved\n",
    "svd = TruncatedSVD(n_components=1500, n_iter=7, random_state=42)\n",
    "svd.fit(X_tr_essay_tfidf)\n",
    "X_train_svd = svd.transform(X_tr_essay_tfidf)\n",
    "X_cv_svd = svd.transform(X_cr_essay_tfidf)\n",
    "X_test_svd = svd.transform(X_te_essay_tfidf)\n",
    "\n",
    "print(\"After vectorizations\")\n",
    "print(X_train_svd.shape, y_train.shape)\n",
    "print(X_cv_svd.shape, y_cv.shape)\n",
    "print(X_test_svd.shape, y_test.shape)\n",
    "print(\"=\"*100)\n"
   ]
  },
  {
   "cell_type": "markdown",
   "metadata": {
    "colab_type": "text",
    "id": "nf52OuKmhRCG"
   },
   "source": [
    "### <font color='red'>Set 5</font>"
   ]
  },
  {
   "cell_type": "code",
   "execution_count": 82,
   "metadata": {
    "colab": {
     "base_uri": "https://localhost:8080/",
     "height": 109
    },
    "colab_type": "code",
    "executionInfo": {
     "elapsed": 2339870,
     "status": "ok",
     "timestamp": 1565379359185,
     "user": {
      "displayName": "Rishabh Sutravey",
      "photoUrl": "",
      "userId": "13691094868251697255"
     },
     "user_tz": 240
    },
    "id": "QOzTWomahUcf",
    "outputId": "6102d023-29f2-4b50-da4a-63c029697a53"
   },
   "outputs": [
    {
     "name": "stdout",
     "output_type": "stream",
     "text": [
      "Final Data matrix\n",
      "(90852, 1620) (90852,)\n",
      "(22942, 1620) (22942,)\n",
      "(32775, 1620) (32775,)\n",
      "====================================================================================================\n"
     ]
    }
   ],
   "source": [
    "X_5tr = hstack(( X_train_state_ohe,X_train_clean_cat_ohe,X_train_clean_subcat_ohe, X_train_teacher_ohe, X_train_grade_ohe,X_train_quantity_std,\\\n",
    "                X_train_price_std,X_train_tp_std,X_train_titlecnt_std,X_train_essaycnt_std,X_train_neg1,X_train_neu1,X_train_pos1,X_train_compound1,\\\n",
    "               X_train_neg2,X_train_neu2,X_train_pos2,X_train_compound2,X_train_neg3,X_train_neu3,X_train_pos3,X_train_compound3,\\\n",
    "               X_train_neg4,X_train_neu4,X_train_pos4,X_train_compound4,X_train_svd)).tocsr()\n",
    "X_5cr = hstack(( X_cv_state_ohe,X_cv_clean_cat_ohe,X_cv_clean_subcat_ohe, X_cv_teacher_ohe, X_cv_grade_ohe,X_cv_quantity_std,\\\n",
    "                X_cv_price_std,X_cv_tp_std,X_cv_titlecnt_std,X_cv_essaycnt_std,X_cv_neg1,X_cv_neu1,X_cv_pos1,X_cv_compound1,\\\n",
    "               X_cv_neg2,X_cv_neu2,X_cv_pos2,X_cv_compound2,X_cv_neg3,X_cv_neu3,X_cv_pos3,X_cv_compound3,\\\n",
    "               X_cv_neg4,X_cv_neu4,X_cv_pos4,X_cv_compound4,X_cv_svd)).tocsr()\n",
    "X_5te = hstack(( X_test_state_ohe,X_test_clean_cat_ohe,X_test_clean_subcat_ohe, X_test_teacher_ohe, X_test_grade_ohe,X_test_quantity_std,\\\n",
    "                X_test_price_std,X_test_tp_std,X_test_titlecnt_std,X_test_essaycnt_std,X_test_neg1,X_test_neu1,X_test_pos1,X_test_compound1,\\\n",
    "               X_test_neg2,X_test_neu2,X_test_pos2,X_test_compound2,X_test_neg3,X_test_neu3,X_test_pos3,X_test_compound3,\\\n",
    "               X_test_neg4,X_test_neu4,X_test_pos4,X_test_compound4,X_test_svd)).tocsr()\n",
    "\n",
    "print(\"Final Data matrix\")\n",
    "print(X_5tr.shape, y_train.shape)\n",
    "print(X_5cr.shape, y_cv.shape)\n",
    "print(X_5te.shape, y_test.shape)\n",
    "print(\"=\"*100)"
   ]
  },
  {
   "cell_type": "markdown",
   "metadata": {
    "colab_type": "text",
    "id": "EDbdwrJ7oUH1"
   },
   "source": [
    "# Assignment 7: SVM"
   ]
  },
  {
   "cell_type": "markdown",
   "metadata": {
    "colab_type": "text",
    "id": "sKc9KmNQoUH2"
   },
   "source": [
    "<ol>\n",
    "    <li><strong>[Task-1] Apply Support Vector Machines(SGDClassifier with hinge loss: Linear SVM) on these feature sets</strong>\n",
    "        <ul>\n",
    "            <li><font color='red'>Set 1</font>: categorical, numerical features + project_title(BOW) + preprocessed_eassay (BOW)</li>\n",
    "            <li><font color='red'>Set 2</font>: categorical, numerical features + project_title(TFIDF)+  preprocessed_eassay (TFIDF)</li>\n",
    "            <li><font color='red'>Set 3</font>: categorical, numerical features + project_title(AVG W2V)+  preprocessed_eassay (AVG W2V)</li>\n",
    "            <li><font color='red'>Set 4</font>: categorical, numerical features + project_title(TFIDF W2V)+  preprocessed_eassay (TFIDF W2V)</li>        </ul>\n",
    "    </li>\n",
    "    <br>\n",
    "    <li><strong>The hyper paramter tuning (best alpha in range [10^-4 to 10^4], and the best penalty among 'l1', 'l2')</strong>\n",
    "        <ul>\n",
    "    <li>Find the best hyper parameter which will give the maximum <a href='https://www.appliedaicourse.com/course/applied-ai-course-online/lessons/receiver-operating-characteristic-curve-roc-curve-and-auc-1/'>AUC</a> value</li>\n",
    "    <li>Find the best hyper paramter using k-fold cross validation or simple cross validation data</li>\n",
    "    <li>Use gridsearch cv or randomsearch cv or you can also write your own for loops to do this task of hyperparameter tuning\n",
    "        </ul>\n",
    "            </li>\n",
    "    <br>\n",
    "    <li><strong>Representation of results</strong>\n",
    "        <ul>\n",
    "    <li>You need to plot the performance of model both on train data and cross validation data for each hyper parameter, like shown in the figure.\n",
    "    <img src='train_cv_auc.JPG' width=300px></li>\n",
    "    <li>Once after you found the best hyper parameter, you need to train your model with it, and find the AUC on test data and plot the ROC curve on both train and test.\n",
    "    <img src='train_test_auc.JPG' width=300px></li>\n",
    "    <li>Along with plotting ROC curve, you need to print the <a href='https://www.appliedaicourse.com/course/applied-ai-course-online/lessons/confusion-matrix-tpr-fpr-fnr-tnr-1/'>confusion matrix</a> with predicted and original labels of test data points. Please visualize your confusion matrices using <a href='https://seaborn.pydata.org/generated/seaborn.heatmap.html'>seaborn heatmaps.\n",
    "    <img src='confusion_matrix.png' width=300px></li>\n",
    "        </ul>\n",
    "    </li>\n",
    "    <br>\n",
    "    <li><strong>[Task-2] Apply the Support Vector Machines on these features by finding the best hyper paramter as suggested in step 2 and step 3</strong>\n",
    "        <ul>\n",
    "    <li> Consider these set of features <font color='red'> Set 5 :</font>\n",
    "            <ul>\n",
    "                <li><strong>school_state</strong> : categorical data</li>\n",
    "                <li><strong>clean_categories</strong> : categorical data</li>\n",
    "                <li><strong>clean_subcategories</strong> : categorical data</li>\n",
    "                <li><strong>project_grade_category</strong> :categorical data</li>\n",
    "                <li><strong>teacher_prefix</strong> : categorical data</li>\n",
    "                <li><strong>quantity</strong> : numerical data</li>\n",
    "                <li><strong>teacher_number_of_previously_posted_projects</strong> : numerical data</li>\n",
    "                <li><strong>price</strong> : numerical data</li>\n",
    "                <li><strong>sentiment score's of each of the essay</strong> : numerical data</li>\n",
    "                <li><strong>number of words in the title</strong> : numerical data</li>\n",
    "                <li><strong>number of words in the combine essays</strong> : numerical data</li>\n",
    "                <li><strong>Apply <a href='http://scikit-learn.org/stable/modules/generated/sklearn.decomposition.TruncatedSVD.html'>TruncatedSVD</a> on <a href='https://scikit-learn.org/stable/modules/generated/sklearn.feature_extraction.text.TfidfVectorizer.html'>TfidfVectorizer</a> of essay text, choose the number of components (`n_components`) using <a href='https://www.appliedaicourse.com/course/applied-ai-course-online/lessons/pca-code-example-using-non-visualization/'>elbow method</a></strong> : numerical data</li>\n",
    "            </ul>\n",
    "         <br>\n",
    "    </li>\n",
    "    <br>\n",
    "    <li><strong>Conclusion</strong>\n",
    "        <ul>\n",
    "    <li>You need to summarize the results at the end of the notebook, summarize it in the table format. To print out a table please refer to this prettytable library<a href='http://zetcode.com/python/prettytable/'>  link</a> \n",
    "        <img src='summary.JPG' width=400px>\n",
    "    </li>\n",
    "        </ul>\n",
    "</ol>"
   ]
  },
  {
   "cell_type": "markdown",
   "metadata": {
    "colab_type": "text",
    "id": "zgdnjthToUH2"
   },
   "source": [
    "<h4><font color='red'>Note: Data Leakage</font></h4>\n",
    "\n",
    "1. There will be an issue of data-leakage if you vectorize the entire data and then split it into train/cv/test.\n",
    "2. To avoid the issue of data-leakage, make sure to split your data first and then vectorize it. \n",
    "3. While vectorizing your data, apply the method fit_transform() on you train data, and apply the method transform() on cv/test data.\n",
    "4. For more details please go through this <a href='https://soundcloud.com/applied-ai-course/leakage-bow-and-tfidf'>link.</a>"
   ]
  },
  {
   "cell_type": "markdown",
   "metadata": {
    "colab_type": "text",
    "id": "__AbIboVoUH3"
   },
   "source": [
    "<h1>2. Support Vector Machines </h1>"
   ]
  },
  {
   "cell_type": "markdown",
   "metadata": {
    "colab_type": "text",
    "id": "vMxruDG7oUH3"
   },
   "source": [
    "<h2>2.1 Splitting data into Train and cross validation(or test): Stratified Sampling</h2>"
   ]
  },
  {
   "cell_type": "code",
   "execution_count": 0,
   "metadata": {
    "colab": {},
    "colab_type": "code",
    "id": "vc9jEpzzoUH4"
   },
   "outputs": [],
   "source": [
    "# please write all the code with proper documentation, and proper titles for each subsection\n",
    "# go through documentations and blogs before you start coding\n",
    "# first figure out what to do, and then think about how to do.\n",
    "# reading and understanding error messages will be very much helpfull in debugging your code\n",
    "# when you plot any graph make sure you use \n",
    "    # a. Title, that describes your plot, this will be very helpful to the reader\n",
    "    # b. Legends if needed\n",
    "    # c. X-axis label\n",
    "    # d. Y-axis label"
   ]
  },
  {
   "cell_type": "markdown",
   "metadata": {
    "colab_type": "text",
    "id": "RXh9o-rOoUH5"
   },
   "source": [
    "<h2>2.2 Make Data Model Ready: encoding numerical, categorical features</h2>"
   ]
  },
  {
   "cell_type": "code",
   "execution_count": 0,
   "metadata": {
    "colab": {},
    "colab_type": "code",
    "id": "80ha3YnqoUH5"
   },
   "outputs": [],
   "source": [
    "# please write all the code with proper documentation, and proper titles for each subsection\n",
    "# go through documentations and blogs before you start coding \n",
    "# first figure out what to do, and then think about how to do.\n",
    "# reading and understanding error messages will be very much helpfull in debugging your code\n",
    "# make sure you featurize train and test data separatly\n",
    "\n",
    "# when you plot any graph make sure you use \n",
    "    # a. Title, that describes your plot, this will be very helpful to the reader\n",
    "    # b. Legends if needed\n",
    "    # c. X-axis label\n",
    "    # d. Y-axis label"
   ]
  },
  {
   "cell_type": "markdown",
   "metadata": {
    "colab_type": "text",
    "id": "Ya1V6mLSoUH7"
   },
   "source": [
    "<h2>2.3 Make Data Model Ready: encoding eassay, and project_title</h2>"
   ]
  },
  {
   "cell_type": "code",
   "execution_count": 0,
   "metadata": {
    "colab": {},
    "colab_type": "code",
    "id": "aKrh3dwvoUH7"
   },
   "outputs": [],
   "source": [
    "# please write all the code with proper documentation, and proper titles for each subsection\n",
    "# go through documentations and blogs before you start coding\n",
    "# first figure out what to do, and then think about how to do.\n",
    "# reading and understanding error messages will be very much helpfull in debugging your code\n",
    "# make sure you featurize train and test data separatly\n",
    "\n",
    "# when you plot any graph make sure you use \n",
    "    # a. Title, that describes your plot, this will be very helpful to the reader\n",
    "    # b. Legends if needed\n",
    "    # c. X-axis label\n",
    "    # d. Y-axis label"
   ]
  },
  {
   "cell_type": "markdown",
   "metadata": {
    "colab_type": "text",
    "id": "4IolabGIoUH9"
   },
   "source": [
    "<h2>2.4 Appling Support Vector Machines on different kind of featurization as mentioned in the instructions</h2>\n",
    "\n",
    "<br>Apply Support Vector Machines on different kind of featurization as mentioned in the instructions\n",
    "<br> For Every model that you work on make sure you do the step 2 and step 3 of instrucations"
   ]
  },
  {
   "cell_type": "code",
   "execution_count": 0,
   "metadata": {
    "colab": {},
    "colab_type": "code",
    "id": "0IBXizg6oUH9"
   },
   "outputs": [],
   "source": [
    "# please write all the code with proper documentation, and proper titles for each subsection\n",
    "# go through documentations and blogs before you start coding\n",
    "# first figure out what to do, and then think about how to do.\n",
    "# reading and understanding error messages will be very much helpfull in debugging your code\n",
    "# when you plot any graph make sure you use \n",
    "    # a. Title, that describes your plot, this will be very helpful to the reader\n",
    "    # b. Legends if needed\n",
    "    # c. X-axis label\n",
    "    # d. Y-axis label\n",
    "def batch_predict(clf, data):\n",
    "    #roc_auc_score(y_true, y_score) the 2nd parameter should be probability estimates of the positive class\n",
    "    #not the predicted outputs\n",
    "    y_data_pred =[]\n",
    "    tr_loop = data.shape[0] - data.shape[0]%1000\n",
    "    #consider you X_tr shape is 49041, then your tr_loop will be 49041 - 49041%1000 = 49000\n",
    "    #in this for loop we will iterate unti the last 1000 multiplier\n",
    "    \n",
    "    for i in range(0, tr_loop, 1000):\n",
    "        y_data_pred.extend(clf.decision_function(data[i:i+1000]))\n",
    "    #we will be predicting for the last data points\n",
    "    if data.shape[0]%1000 !=0:\n",
    "        y_data_pred.extend(clf.decision_function(data[tr_loop:]))\n",
    "    \n",
    "    return y_data_pred"
   ]
  },
  {
   "cell_type": "code",
   "execution_count": 0,
   "metadata": {
    "colab": {},
    "colab_type": "code",
    "id": "QsvD1tru_aK4"
   },
   "outputs": [],
   "source": [
    "# we are writing our own function for predict, with defined thresould\n",
    "# we will pick a threshold that will give the least fpr\n",
    "def find_best_threshold(threshould, fpr, tpr):\n",
    "    t = threshould[np.argmax(tpr*(1-fpr))]\n",
    "    # (tpr*(1-fpr)) will be maximum if your fpr is very low and tpr is very high\n",
    "    print(\"the maximum value of tpr*(1-fpr)\", max(tpr*(1-fpr)), \"for threshold\", np.round(t,3))\n",
    "    return t\n",
    "\n",
    "def predict_with_best_t(proba, threshould):\n",
    "    predictions = []\n",
    "    for i in proba:\n",
    "        if i>=threshould:\n",
    "            predictions.append(1)\n",
    "        else:\n",
    "            predictions.append(-1)\n",
    "    return predictions"
   ]
  },
  {
   "cell_type": "markdown",
   "metadata": {
    "colab_type": "text",
    "id": "xzli_RRdN1OM"
   },
   "source": [
    "### 2.4.1 Applying SVM on BOW,<font color='red'> SET 1</font>"
   ]
  },
  {
   "cell_type": "code",
   "execution_count": 88,
   "metadata": {
    "colab": {
     "base_uri": "https://localhost:8080/",
     "height": 390
    },
    "colab_type": "code",
    "executionInfo": {
     "elapsed": 70760,
     "status": "ok",
     "timestamp": 1565380394069,
     "user": {
      "displayName": "Rishabh Sutravey",
      "photoUrl": "",
      "userId": "13691094868251697255"
     },
     "user_tz": 240
    },
    "id": "sEQuY7le_sw9",
    "outputId": "202191e8-af8b-4b45-eab4-af47fbc67d64"
   },
   "outputs": [
    {
     "name": "stderr",
     "output_type": "stream",
     "text": [
      "100%|██████████| 9/9 [00:22<00:00,  1.63s/it]\n",
      "100%|██████████| 9/9 [00:42<00:00,  2.90s/it]\n"
     ]
    },
    {
     "data": {
      "image/png": "[encoded data removed]",
      "text/plain": [
       "<Figure size 1080x360 with 2 Axes>"
      ]
     },
     "metadata": {
      "tags": []
     },
     "output_type": "display_data"
    }
   ],
   "source": [
    "# Please write all the code with proper documentation\n",
    "import matplotlib.pyplot as plt\n",
    "from sklearn.linear_model import SGDClassifier\n",
    "from sklearn.metrics import roc_auc_score\n",
    "\"\"\"\n",
    "y_true : array, shape = [n_samples] or [n_samples, n_classes]\n",
    "True binary labels or binary label indicators.\n",
    "\n",
    "y_score : array, shape = [n_samples] or [n_samples, n_classes]\n",
    "Target scores, can either be probability estimates of the positive class, confidence values, or non-thresholded measure of\n",
    "decisions (as returned by “decision_function” on some classifiers). \n",
    "For binary y_true, y_score is supposed to be the score of the class with greater label.\n",
    "\n",
    "\"\"\"\n",
    "\n",
    "train_auc_l2 = []\n",
    "cv_auc_l2 = []\n",
    "A = [0.0001, 0.001, 0.01, 0.1, 1, 10, 100, 1000,10000]\n",
    "for i in tqdm(A):\n",
    "    svm = SGDClassifier(loss= 'hinge',penalty='l2', alpha=i, class_weight = 'balanced', n_jobs=-1)\n",
    "    svm.fit(X_tr, y_train)\n",
    "\n",
    "    y_train_pred = batch_predict(svm, X_tr)    \n",
    "    y_cv_pred = batch_predict(svm, X_cr)\n",
    "\n",
    "    # roc_auc_score(y_true, y_score) the 2nd parameter should be probability estimates of the positive class\n",
    "    # not the predicted outputs        \n",
    "    train_auc_l2.append(roc_auc_score(y_train,y_train_pred))\n",
    "    cv_auc_l2.append(roc_auc_score(y_cv, y_cv_pred))\n",
    "\n",
    "\n",
    "train_auc_l1 = []\n",
    "cv_auc_l1 = []    \n",
    "for i in tqdm(A):\n",
    "    svm = SGDClassifier(loss= 'hinge',penalty='l1', alpha=i, class_weight = 'balanced', n_jobs=-1)\n",
    "    svm.fit(X_tr, y_train)\n",
    "\n",
    "    y_train_pred = batch_predict(svm, X_tr)    \n",
    "    y_cv_pred = batch_predict(svm, X_cr)\n",
    "\n",
    "    # roc_auc_score(y_true, y_score) the 2nd parameter should be probability estimates of the positive class\n",
    "    # not the predicted outputs        \n",
    "    train_auc_l1.append(roc_auc_score(y_train,y_train_pred))\n",
    "    cv_auc_l1.append(roc_auc_score(y_cv, y_cv_pred))    \n",
    "\n",
    "f, axes = plt.subplots(1, 2,figsize=(15,5),sharey=True)\n",
    "\n",
    "axes[0].plot(A, train_auc_l2, label='Train AUC')\n",
    "axes[0].plot(A, cv_auc_l2, label='CV AUC')\n",
    "\n",
    "axes[0].scatter(A, train_auc_l2, label='Train AUC points')\n",
    "axes[0].scatter(A, cv_auc_l2, label='CV AUC points')\n",
    "axes[0].set_xscale('log')\n",
    "\n",
    "\n",
    "axes[1].plot(A, train_auc_l1, label='Train AUC')\n",
    "axes[1].plot(A, cv_auc_l1, label='CV AUC')\n",
    "\n",
    "axes[1].scatter(A, train_auc_l1, label='Train AUC points')\n",
    "axes[1].scatter(A, cv_auc_l1, label='CV AUC points')\n",
    "axes[1].set_xscale('log')\n",
    "\n",
    "for ax in axes.flat:\n",
    "  ax.set(xlabel='A: hyperparameter', ylabel='AUC')\n",
    "  ax.grid(True)\n",
    "  ax.legend()\n",
    "\n",
    "axes[0].set_title('Error plots with l2')\n",
    "axes[1].set_title('Error plots with l1')\n",
    "\n",
    "plt.show()"
   ]
  },
  {
   "cell_type": "code",
   "execution_count": 90,
   "metadata": {
    "colab": {
     "base_uri": "https://localhost:8080/",
     "height": 295
    },
    "colab_type": "code",
    "executionInfo": {
     "elapsed": 10007,
     "status": "ok",
     "timestamp": 1565380541031,
     "user": {
      "displayName": "Rishabh Sutravey",
      "photoUrl": "",
      "userId": "13691094868251697255"
     },
     "user_tz": 240
    },
    "id": "AbNlmFb1_w_3",
    "outputId": "bb956888-61cc-4360-b78d-c05afadd2708"
   },
   "outputs": [
    {
     "data": {
      "image/png": "[encoded data removed]",
      "text/plain": [
       "<Figure size 432x288 with 1 Axes>"
      ]
     },
     "metadata": {
      "tags": []
     },
     "output_type": "display_data"
    }
   ],
   "source": [
    "from sklearn.metrics import roc_curve, auc\n",
    "best_a1=0.001\n",
    "\n",
    "svm = SGDClassifier(loss= 'hinge',penalty='l1', alpha=best_a1, class_weight = 'balanced', n_jobs=-1)\n",
    "svm.fit(X_tr, y_train)\n",
    "# roc_auc_score(y_true, y_score) the 2nd parameter should be probability estimates of the positive class\n",
    "# not the predicted outputs\n",
    "\n",
    "y_train_pred = batch_predict(svm, X_tr)    \n",
    "y_test_pred = batch_predict(svm, X_te)\n",
    "\n",
    "train_fpr, train_tpr, tr_thresholds = roc_curve(y_train, y_train_pred)\n",
    "test_fpr, test_tpr, te_thresholds = roc_curve(y_test, y_test_pred)\n",
    "\n",
    "auc1=str(auc(test_fpr, test_tpr))\n",
    "\n",
    "plt.plot(train_fpr, train_tpr, label=\"train AUC =\"+str(auc(train_fpr, train_tpr)))\n",
    "plt.plot(test_fpr, test_tpr, label=\"test AUC =\"+str(auc(test_fpr, test_tpr)))\n",
    "plt.legend()\n",
    "plt.xlabel(\"FPR\")\n",
    "plt.ylabel(\"TPR\")\n",
    "plt.title(\"ROC curve\")\n",
    "plt.grid()\n",
    "plt.show()"
   ]
  },
  {
   "cell_type": "code",
   "execution_count": 91,
   "metadata": {
    "colab": {
     "base_uri": "https://localhost:8080/",
     "height": 280
    },
    "colab_type": "code",
    "executionInfo": {
     "elapsed": 1914,
     "status": "ok",
     "timestamp": 1565380686468,
     "user": {
      "displayName": "Rishabh Sutravey",
      "photoUrl": "",
      "userId": "13691094868251697255"
     },
     "user_tz": 240
    },
    "id": "ULsEv5SR_17T",
    "outputId": "8276479d-fb23-4232-f02b-44576d861162"
   },
   "outputs": [
    {
     "name": "stdout",
     "output_type": "stream",
     "text": [
      "====================================================================================================\n",
      "the maximum value of tpr*(1-fpr) 0.4919679682558341 for threshold -0.135\n"
     ]
    },
    {
     "data": {
      "image/png": "[encoded data removed]",
      "text/plain": [
       "<Figure size 432x288 with 2 Axes>"
      ]
     },
     "metadata": {
      "tags": []
     },
     "output_type": "display_data"
    }
   ],
   "source": [
    "print(\"=\"*100)\n",
    "from sklearn.metrics import confusion_matrix\n",
    "best_t = find_best_threshold(tr_thresholds, train_fpr, train_tpr)\n",
    "\n",
    "tr_cm = confusion_matrix(y_train, predict_with_best_t(y_train_pred, best_t))\n",
    "te_cm = confusion_matrix(y_test, predict_with_best_t(y_test_pred, best_t))\n",
    "\n",
    "#https://seaborn.pydata.org/generated/seaborn.heatmap.html\n",
    "#https://seaborn.pydata.org/examples/distplot_options.html\n",
    "#https://matplotlib.org/3.1.1/gallery/subplots_axes_and_figures/subplots_demo.html\n",
    "\n",
    "f, axes = plt.subplots(1, 2)\n",
    "\n",
    "sns.heatmap(tr_cm, annot=True,square=True,cbar=False,cmap='OrRd',fmt=\"d\", ax=axes[0])\n",
    "sns.heatmap(te_cm, annot=True,square=True,cbar=False,cmap='OrRd',fmt=\"d\", ax=axes[1])\n",
    "axes[0].set_title('Train Confusion Matrix')\n",
    "axes[1].set_title('Test Confusion Matrix')\n",
    "\n",
    "axes[0].set(xlabel='Predicted', ylabel='Actual')\n",
    "axes[1].set(xlabel='Predicted', ylabel='Actual')\n",
    "\n",
    "plt.tight_layout()"
   ]
  },
  {
   "cell_type": "markdown",
   "metadata": {
    "colab_type": "text",
    "id": "4c1EK-EgN1OZ"
   },
   "source": [
    "### 2.4.2 Applying SVM on TFIDF,<font color='red'> SET 2</font>"
   ]
  },
  {
   "cell_type": "code",
   "execution_count": 92,
   "metadata": {
    "colab": {
     "base_uri": "https://localhost:8080/",
     "height": 390
    },
    "colab_type": "code",
    "executionInfo": {
     "elapsed": 50551,
     "status": "ok",
     "timestamp": 1565380763391,
     "user": {
      "displayName": "Rishabh Sutravey",
      "photoUrl": "",
      "userId": "13691094868251697255"
     },
     "user_tz": 240
    },
    "id": "81sCAQgG3Bmo",
    "outputId": "4b6e6a5c-8fe5-459f-8ea8-0cf4c22b7e3c"
   },
   "outputs": [
    {
     "name": "stderr",
     "output_type": "stream",
     "text": [
      "100%|██████████| 10/10 [00:18<00:00,  1.31s/it]\n",
      "100%|██████████| 10/10 [00:28<00:00,  1.92s/it]\n"
     ]
    },
    {
     "data": {
      "image/png": "[encoded data removed]",
      "text/plain": [
       "<Figure size 1080x360 with 2 Axes>"
      ]
     },
     "metadata": {
      "tags": []
     },
     "output_type": "display_data"
    }
   ],
   "source": [
    "train_auc_l2 = []\n",
    "cv_auc_l2 = []\n",
    "A = [0.00001,0.0001, 0.001, 0.01, 0.1, 1, 10, 100, 1000,10000]\n",
    "for i in tqdm(A):\n",
    "    svm = SGDClassifier(loss= 'hinge',penalty='l2', alpha=i, class_weight = 'balanced', n_jobs=-1)\n",
    "    svm.fit(X_2tr, y_train)\n",
    "\n",
    "    y_train_pred = batch_predict(svm, X_2tr)    \n",
    "    y_cv_pred = batch_predict(svm, X_2cr)\n",
    "\n",
    "    # roc_auc_score(y_true, y_score) the 2nd parameter should be probability estimates of the positive class\n",
    "    # not the predicted outputs        \n",
    "    train_auc_l2.append(roc_auc_score(y_train,y_train_pred))\n",
    "    cv_auc_l2.append(roc_auc_score(y_cv, y_cv_pred))\n",
    "\n",
    "\n",
    "train_auc_l1 = []\n",
    "cv_auc_l1 = []    \n",
    "for i in tqdm(A):\n",
    "    svm = SGDClassifier(loss= 'hinge',penalty='l1', alpha=i, class_weight = 'balanced', n_jobs=-1)\n",
    "    svm.fit(X_2tr, y_train)\n",
    "\n",
    "    y_train_pred = batch_predict(svm, X_2tr)    \n",
    "    y_cv_pred = batch_predict(svm, X_2cr)\n",
    "\n",
    "    # roc_auc_score(y_true, y_score) the 2nd parameter should be probability estimates of the positive class\n",
    "    # not the predicted outputs        \n",
    "    train_auc_l1.append(roc_auc_score(y_train,y_train_pred))\n",
    "    cv_auc_l1.append(roc_auc_score(y_cv, y_cv_pred))    \n",
    "\n",
    "f, axes = plt.subplots(1, 2,figsize=(15,5),sharey=True)\n",
    "\n",
    "axes[0].plot(A, train_auc_l2, label='Train AUC')\n",
    "axes[0].plot(A, cv_auc_l2, label='CV AUC')\n",
    "\n",
    "axes[0].scatter(A, train_auc_l2, label='Train AUC points')\n",
    "axes[0].scatter(A, cv_auc_l2, label='CV AUC points')\n",
    "axes[0].set_xscale('log')\n",
    "\n",
    "\n",
    "axes[1].plot(A, train_auc_l1, label='Train AUC')\n",
    "axes[1].plot(A, cv_auc_l1, label='CV AUC')\n",
    "\n",
    "axes[1].scatter(A, train_auc_l1, label='Train AUC points')\n",
    "axes[1].scatter(A, cv_auc_l1, label='CV AUC points')\n",
    "axes[1].set_xscale('log')\n",
    "\n",
    "for ax in axes.flat:\n",
    "  ax.set(xlabel='A: hyperparameter', ylabel='AUC')\n",
    "  ax.grid(True)\n",
    "  ax.legend()\n",
    "\n",
    "axes[0].set_title('Error plots with l2')\n",
    "axes[1].set_title('Error plots with l1')\n",
    "\n",
    "plt.show()"
   ]
  },
  {
   "cell_type": "code",
   "execution_count": 94,
   "metadata": {
    "colab": {
     "base_uri": "https://localhost:8080/",
     "height": 295
    },
    "colab_type": "code",
    "executionInfo": {
     "elapsed": 6808,
     "status": "ok",
     "timestamp": 1565380920072,
     "user": {
      "displayName": "Rishabh Sutravey",
      "photoUrl": "",
      "userId": "13691094868251697255"
     },
     "user_tz": 240
    },
    "id": "26ers_WHM5It",
    "outputId": "df7ebde0-cbdf-4f39-9dc2-2144d423a6af"
   },
   "outputs": [
    {
     "data": {
      "image/png": "[encoded data removed]",
      "text/plain": [
       "<Figure size 432x288 with 1 Axes>"
      ]
     },
     "metadata": {
      "tags": []
     },
     "output_type": "display_data"
    }
   ],
   "source": [
    "best_a2=0.0001\n",
    "\n",
    "svm = SGDClassifier(loss= 'hinge',penalty='l1', alpha=best_a2, class_weight = 'balanced', n_jobs=-1)\n",
    "svm.fit(X_2tr, y_train)\n",
    "# roc_auc_score(y_true, y_score) the 2nd parameter should be probability estimates of the positive class\n",
    "# not the predicted outputs\n",
    "\n",
    "y_train_pred = batch_predict(svm, X_2tr)    \n",
    "y_test_pred = batch_predict(svm, X_2te)\n",
    "\n",
    "train_fpr, train_tpr, tr_thresholds = roc_curve(y_train, y_train_pred)\n",
    "test_fpr, test_tpr, te_thresholds = roc_curve(y_test, y_test_pred)\n",
    "\n",
    "auc2=str(auc(test_fpr, test_tpr))\n",
    "\n",
    "plt.plot(train_fpr, train_tpr, label=\"train AUC =\"+str(auc(train_fpr, train_tpr)))\n",
    "plt.plot(test_fpr, test_tpr, label=\"test AUC =\"+str(auc(test_fpr, test_tpr)))\n",
    "plt.legend()\n",
    "plt.xlabel(\"FPR\")\n",
    "plt.ylabel(\"TPR\")\n",
    "plt.title(\"ROC curve\")\n",
    "plt.grid()\n",
    "plt.show()"
   ]
  },
  {
   "cell_type": "code",
   "execution_count": 95,
   "metadata": {
    "colab": {
     "base_uri": "https://localhost:8080/",
     "height": 280
    },
    "colab_type": "code",
    "executionInfo": {
     "elapsed": 1904,
     "status": "ok",
     "timestamp": 1565380972954,
     "user": {
      "displayName": "Rishabh Sutravey",
      "photoUrl": "",
      "userId": "13691094868251697255"
     },
     "user_tz": 240
    },
    "id": "Cd81pX_FNDca",
    "outputId": "ea9d8ad5-5eaf-4249-fdc1-d5d5ec945cdb"
   },
   "outputs": [
    {
     "name": "stdout",
     "output_type": "stream",
     "text": [
      "====================================================================================================\n",
      "the maximum value of tpr*(1-fpr) 0.5132035398307625 for threshold -0.252\n"
     ]
    },
    {
     "data": {
      "image/png": "[encoded data removed]",
      "text/plain": [
       "<Figure size 432x288 with 2 Axes>"
      ]
     },
     "metadata": {
      "tags": []
     },
     "output_type": "display_data"
    }
   ],
   "source": [
    "print(\"=\"*100)\n",
    "from sklearn.metrics import confusion_matrix\n",
    "best_t = find_best_threshold(tr_thresholds, train_fpr, train_tpr)\n",
    "\n",
    "tr_cm = confusion_matrix(y_train, predict_with_best_t(y_train_pred, best_t))\n",
    "te_cm = confusion_matrix(y_test, predict_with_best_t(y_test_pred, best_t))\n",
    "\n",
    "#https://seaborn.pydata.org/generated/seaborn.heatmap.html\n",
    "#https://seaborn.pydata.org/examples/distplot_options.html\n",
    "#https://matplotlib.org/3.1.1/gallery/subplots_axes_and_figures/subplots_demo.html\n",
    "\n",
    "f, axes = plt.subplots(1, 2)\n",
    "\n",
    "sns.heatmap(tr_cm, annot=True,square=True,cbar=False,cmap='OrRd',fmt=\"d\", ax=axes[0])\n",
    "sns.heatmap(te_cm, annot=True,square=True,cbar=False,cmap='OrRd',fmt=\"d\", ax=axes[1])\n",
    "axes[0].set_title('Train Confusion Matrix')\n",
    "axes[1].set_title('Test Confusion Matrix')\n",
    "\n",
    "axes[0].set(xlabel='Predicted', ylabel='Actual')\n",
    "axes[1].set(xlabel='Predicted', ylabel='Actual')\n",
    "\n",
    "plt.tight_layout()"
   ]
  },
  {
   "cell_type": "markdown",
   "metadata": {
    "colab_type": "text",
    "id": "oq3NW2CbCyp3"
   },
   "source": [
    "### 2.4.3 Applying SVM on AVG W2V,<font color='red'> SET 3</font>"
   ]
  },
  {
   "cell_type": "code",
   "execution_count": 96,
   "metadata": {
    "colab": {
     "base_uri": "https://localhost:8080/",
     "height": 390
    },
    "colab_type": "code",
    "executionInfo": {
     "elapsed": 236320,
     "status": "ok",
     "timestamp": 1565381293244,
     "user": {
      "displayName": "Rishabh Sutravey",
      "photoUrl": "",
      "userId": "13691094868251697255"
     },
     "user_tz": 240
    },
    "id": "V0F1aPqjNOEI",
    "outputId": "ff1694ad-f0fd-478a-f3b5-bf7fdc48fc3d"
   },
   "outputs": [
    {
     "name": "stderr",
     "output_type": "stream",
     "text": [
      "100%|██████████| 10/10 [01:24<00:00,  5.13s/it]\n",
      "100%|██████████| 10/10 [02:28<00:00,  9.36s/it]\n"
     ]
    },
    {
     "data": {
      "image/png": "[encoded data removed]",
      "text/plain": [
       "<Figure size 1080x360 with 2 Axes>"
      ]
     },
     "metadata": {
      "tags": []
     },
     "output_type": "display_data"
    }
   ],
   "source": [
    "train_auc_l2 = []\n",
    "cv_auc_l2 = []\n",
    "A = [0.00001,0.0001, 0.001, 0.01, 0.1, 1, 10, 100, 1000,10000]\n",
    "for i in tqdm(A):\n",
    "    svm = SGDClassifier(loss= 'hinge',penalty='l2', alpha=i, class_weight = 'balanced', n_jobs=-1)\n",
    "    svm.fit(X_3tr, y_train)\n",
    "\n",
    "    y_train_pred = batch_predict(svm, X_3tr)    \n",
    "    y_cv_pred = batch_predict(svm, X_3cr)\n",
    "\n",
    "    # roc_auc_score(y_true, y_score) the 2nd parameter should be probability estimates of the positive class\n",
    "    # not the predicted outputs        \n",
    "    train_auc_l2.append(roc_auc_score(y_train,y_train_pred))\n",
    "    cv_auc_l2.append(roc_auc_score(y_cv, y_cv_pred))\n",
    "\n",
    "\n",
    "train_auc_l1 = []\n",
    "cv_auc_l1 = []    \n",
    "for i in tqdm(A):\n",
    "    svm = SGDClassifier(loss= 'hinge',penalty='l1', alpha=i, class_weight = 'balanced', n_jobs=-1)\n",
    "    svm.fit(X_3tr, y_train)\n",
    "\n",
    "    y_train_pred = batch_predict(svm, X_3tr)    \n",
    "    y_cv_pred = batch_predict(svm, X_3cr)\n",
    "\n",
    "    # roc_auc_score(y_true, y_score) the 2nd parameter should be probability estimates of the positive class\n",
    "    # not the predicted outputs        \n",
    "    train_auc_l1.append(roc_auc_score(y_train,y_train_pred))\n",
    "    cv_auc_l1.append(roc_auc_score(y_cv, y_cv_pred))    \n",
    "\n",
    "f, axes = plt.subplots(1, 2,figsize=(15,5),sharey=True)\n",
    "\n",
    "axes[0].plot(A, train_auc_l2, label='Train AUC')\n",
    "axes[0].plot(A, cv_auc_l2, label='CV AUC')\n",
    "\n",
    "axes[0].scatter(A, train_auc_l2, label='Train AUC points')\n",
    "axes[0].scatter(A, cv_auc_l2, label='CV AUC points')\n",
    "axes[0].set_xscale('log')\n",
    "\n",
    "\n",
    "axes[1].plot(A, train_auc_l1, label='Train AUC')\n",
    "axes[1].plot(A, cv_auc_l1, label='CV AUC')\n",
    "\n",
    "axes[1].scatter(A, train_auc_l1, label='Train AUC points')\n",
    "axes[1].scatter(A, cv_auc_l1, label='CV AUC points')\n",
    "axes[1].set_xscale('log')\n",
    "\n",
    "for ax in axes.flat:\n",
    "  ax.set(xlabel='A: hyperparameter', ylabel='AUC')\n",
    "  ax.grid(True)\n",
    "  ax.legend()\n",
    "\n",
    "axes[0].set_title('Error plots with l2')\n",
    "axes[1].set_title('Error plots with l1')\n",
    "\n",
    "plt.show()"
   ]
  },
  {
   "cell_type": "code",
   "execution_count": 98,
   "metadata": {
    "colab": {
     "base_uri": "https://localhost:8080/",
     "height": 295
    },
    "colab_type": "code",
    "executionInfo": {
     "elapsed": 20998,
     "status": "ok",
     "timestamp": 1565381399714,
     "user": {
      "displayName": "Rishabh Sutravey",
      "photoUrl": "",
      "userId": "13691094868251697255"
     },
     "user_tz": 240
    },
    "id": "C3D2bk-dNOQf",
    "outputId": "6d15294d-e560-436c-a647-9a3dd4976c44"
   },
   "outputs": [
    {
     "data": {
      "image/png": "[encoded data removed]",
      "text/plain": [
       "<Figure size 432x288 with 1 Axes>"
      ]
     },
     "metadata": {
      "tags": []
     },
     "output_type": "display_data"
    }
   ],
   "source": [
    "best_a3=0.0001\n",
    "\n",
    "svm = SGDClassifier(loss= 'hinge',penalty='l2', alpha=best_a3, class_weight = 'balanced', n_jobs=-1)\n",
    "svm.fit(X_3tr, y_train)\n",
    "# roc_auc_score(y_true, y_score) the 2nd parameter should be probability estimates of the positive class\n",
    "# not the predicted outputs\n",
    "\n",
    "y_train_pred = batch_predict(svm, X_3tr)    \n",
    "y_test_pred = batch_predict(svm, X_3te)\n",
    "\n",
    "train_fpr, train_tpr, tr_thresholds = roc_curve(y_train, y_train_pred)\n",
    "test_fpr, test_tpr, te_thresholds = roc_curve(y_test, y_test_pred)\n",
    "\n",
    "auc3=str(auc(test_fpr, test_tpr))\n",
    "\n",
    "plt.plot(train_fpr, train_tpr, label=\"train AUC =\"+str(auc(train_fpr, train_tpr)))\n",
    "plt.plot(test_fpr, test_tpr, label=\"test AUC =\"+str(auc(test_fpr, test_tpr)))\n",
    "plt.legend()\n",
    "plt.xlabel(\"FPR\")\n",
    "plt.ylabel(\"TPR\")\n",
    "plt.title(\"ROC curve\")\n",
    "plt.grid()\n",
    "plt.show()"
   ]
  },
  {
   "cell_type": "code",
   "execution_count": 99,
   "metadata": {
    "colab": {
     "base_uri": "https://localhost:8080/",
     "height": 280
    },
    "colab_type": "code",
    "executionInfo": {
     "elapsed": 1910,
     "status": "ok",
     "timestamp": 1565381434084,
     "user": {
      "displayName": "Rishabh Sutravey",
      "photoUrl": "",
      "userId": "13691094868251697255"
     },
     "user_tz": 240
    },
    "id": "1fqn5bGKNOcs",
    "outputId": "7ca39b6d-e6ed-4468-b6c2-332fafe41a14"
   },
   "outputs": [
    {
     "name": "stdout",
     "output_type": "stream",
     "text": [
      "====================================================================================================\n",
      "the maximum value of tpr*(1-fpr) 0.46754508408130574 for threshold -0.256\n"
     ]
    },
    {
     "data": {
      "image/png": "[encoded data removed]",
      "text/plain": [
       "<Figure size 432x288 with 2 Axes>"
      ]
     },
     "metadata": {
      "tags": []
     },
     "output_type": "display_data"
    }
   ],
   "source": [
    "print(\"=\"*100)\n",
    "from sklearn.metrics import confusion_matrix\n",
    "best_t = find_best_threshold(tr_thresholds, train_fpr, train_tpr)\n",
    "\n",
    "tr_cm = confusion_matrix(y_train, predict_with_best_t(y_train_pred, best_t))\n",
    "te_cm = confusion_matrix(y_test, predict_with_best_t(y_test_pred, best_t))\n",
    "\n",
    "#https://seaborn.pydata.org/generated/seaborn.heatmap.html\n",
    "#https://seaborn.pydata.org/examples/distplot_options.html\n",
    "#https://matplotlib.org/3.1.1/gallery/subplots_axes_and_figures/subplots_demo.html\n",
    "\n",
    "f, axes = plt.subplots(1, 2)\n",
    "\n",
    "sns.heatmap(tr_cm, annot=True,square=True,cbar=False,cmap='OrRd',fmt=\"d\", ax=axes[0])\n",
    "sns.heatmap(te_cm, annot=True,square=True,cbar=False,cmap='OrRd',fmt=\"d\", ax=axes[1])\n",
    "axes[0].set_title('Train Confusion Matrix')\n",
    "axes[1].set_title('Test Confusion Matrix')\n",
    "\n",
    "axes[0].set(xlabel='Predicted', ylabel='Actual')\n",
    "axes[1].set(xlabel='Predicted', ylabel='Actual')\n",
    "\n",
    "plt.tight_layout()"
   ]
  },
  {
   "cell_type": "markdown",
   "metadata": {
    "colab_type": "text",
    "id": "TJLjbsNYCyp5"
   },
   "source": [
    "### 2.4.4 Applying SVM on TFIDF W2V,<font color='red'> SET 4</font>"
   ]
  },
  {
   "cell_type": "code",
   "execution_count": 100,
   "metadata": {
    "colab": {
     "base_uri": "https://localhost:8080/",
     "height": 390
    },
    "colab_type": "code",
    "executionInfo": {
     "elapsed": 280639,
     "status": "ok",
     "timestamp": 1565381750230,
     "user": {
      "displayName": "Rishabh Sutravey",
      "photoUrl": "",
      "userId": "13691094868251697255"
     },
     "user_tz": 240
    },
    "id": "ajbG7MB6NWS5",
    "outputId": "9a3b8efe-4396-4bec-a7c1-c85d882bc2d0"
   },
   "outputs": [
    {
     "name": "stderr",
     "output_type": "stream",
     "text": [
      "100%|██████████| 10/10 [01:36<00:00,  5.64s/it]\n",
      "100%|██████████| 10/10 [03:00<00:00, 10.54s/it]\n"
     ]
    },
    {
     "data": {
      "image/png": "[encoded data removed]",
      "text/plain": [
       "<Figure size 1080x360 with 2 Axes>"
      ]
     },
     "metadata": {
      "tags": []
     },
     "output_type": "display_data"
    }
   ],
   "source": [
    "train_auc_l2 = []\n",
    "cv_auc_l2 = []\n",
    "A = [0.00001,0.0001, 0.001, 0.01, 0.1, 1, 10, 100, 1000,10000]\n",
    "for i in tqdm(A):\n",
    "    svm = SGDClassifier(loss= 'hinge',penalty='l2', alpha=i, class_weight = 'balanced', n_jobs=-1)\n",
    "    svm.fit(X_4tr, y_train)\n",
    "\n",
    "    y_train_pred = batch_predict(svm, X_4tr)    \n",
    "    y_cv_pred = batch_predict(svm, X_4cr)\n",
    "\n",
    "    # roc_auc_score(y_true, y_score) the 2nd parameter should be probability estimates of the positive class\n",
    "    # not the predicted outputs        \n",
    "    train_auc_l2.append(roc_auc_score(y_train,y_train_pred))\n",
    "    cv_auc_l2.append(roc_auc_score(y_cv, y_cv_pred))\n",
    "\n",
    "\n",
    "train_auc_l1 = []\n",
    "cv_auc_l1 = []    \n",
    "for i in tqdm(A):\n",
    "    svm = SGDClassifier(loss= 'hinge',penalty='l1', alpha=i, class_weight = 'balanced', n_jobs=-1)\n",
    "    svm.fit(X_4tr, y_train)\n",
    "\n",
    "    y_train_pred = batch_predict(svm, X_4tr)    \n",
    "    y_cv_pred = batch_predict(svm, X_4cr)\n",
    "\n",
    "    # roc_auc_score(y_true, y_score) the 2nd parameter should be probability estimates of the positive class\n",
    "    # not the predicted outputs        \n",
    "    train_auc_l1.append(roc_auc_score(y_train,y_train_pred))\n",
    "    cv_auc_l1.append(roc_auc_score(y_cv, y_cv_pred))    \n",
    "\n",
    "f, axes = plt.subplots(1, 2,figsize=(15,5),sharey=True)\n",
    "\n",
    "axes[0].plot(A, train_auc_l2, label='Train AUC')\n",
    "axes[0].plot(A, cv_auc_l2, label='CV AUC')\n",
    "\n",
    "axes[0].scatter(A, train_auc_l2, label='Train AUC points')\n",
    "axes[0].scatter(A, cv_auc_l2, label='CV AUC points')\n",
    "axes[0].set_xscale('log')\n",
    "\n",
    "\n",
    "axes[1].plot(A, train_auc_l1, label='Train AUC')\n",
    "axes[1].plot(A, cv_auc_l1, label='CV AUC')\n",
    "\n",
    "axes[1].scatter(A, train_auc_l1, label='Train AUC points')\n",
    "axes[1].scatter(A, cv_auc_l1, label='CV AUC points')\n",
    "axes[1].set_xscale('log')\n",
    "\n",
    "for ax in axes.flat:\n",
    "  ax.set(xlabel='A: hyperparameter', ylabel='AUC')\n",
    "  ax.grid(True)\n",
    "  ax.legend()\n",
    "\n",
    "axes[0].set_title('Error plots with l2')\n",
    "axes[1].set_title('Error plots with l1')\n",
    "\n",
    "plt.show()"
   ]
  },
  {
   "cell_type": "code",
   "execution_count": 102,
   "metadata": {
    "colab": {
     "base_uri": "https://localhost:8080/",
     "height": 295
    },
    "colab_type": "code",
    "executionInfo": {
     "elapsed": 10547,
     "status": "ok",
     "timestamp": 1565381863878,
     "user": {
      "displayName": "Rishabh Sutravey",
      "photoUrl": "",
      "userId": "13691094868251697255"
     },
     "user_tz": 240
    },
    "id": "7MdW8JDBNWdL",
    "outputId": "c804c29e-79c7-45b4-b501-510d4b88656d"
   },
   "outputs": [
    {
     "data": {
      "image/png": "[encoded data removed]",
      "text/plain": [
       "<Figure size 432x288 with 1 Axes>"
      ]
     },
     "metadata": {
      "tags": []
     },
     "output_type": "display_data"
    }
   ],
   "source": [
    "best_a4=0.001\n",
    "\n",
    "svm = SGDClassifier(loss= 'hinge',penalty='l2', alpha=best_a4, class_weight = 'balanced', n_jobs=-1)\n",
    "svm.fit(X_4tr, y_train)\n",
    "# roc_auc_score(y_true, y_score) the 2nd parameter should be probability estimates of the positive class\n",
    "# not the predicted outputs\n",
    "\n",
    "y_train_pred = batch_predict(svm, X_4tr)    \n",
    "y_test_pred = batch_predict(svm, X_4te)\n",
    "\n",
    "train_fpr, train_tpr, tr_thresholds = roc_curve(y_train, y_train_pred)\n",
    "test_fpr, test_tpr, te_thresholds = roc_curve(y_test, y_test_pred)\n",
    "\n",
    "auc4=str(auc(test_fpr, test_tpr))\n",
    "\n",
    "plt.plot(train_fpr, train_tpr, label=\"train AUC =\"+str(auc(train_fpr, train_tpr)))\n",
    "plt.plot(test_fpr, test_tpr, label=\"test AUC =\"+str(auc(test_fpr, test_tpr)))\n",
    "plt.legend()\n",
    "plt.xlabel(\"FPR\")\n",
    "plt.ylabel(\"TPR\")\n",
    "plt.title(\"ROC curve\")\n",
    "plt.grid()\n",
    "plt.show()"
   ]
  },
  {
   "cell_type": "code",
   "execution_count": 103,
   "metadata": {
    "colab": {
     "base_uri": "https://localhost:8080/",
     "height": 280
    },
    "colab_type": "code",
    "executionInfo": {
     "elapsed": 1916,
     "status": "ok",
     "timestamp": 1565381897655,
     "user": {
      "displayName": "Rishabh Sutravey",
      "photoUrl": "",
      "userId": "13691094868251697255"
     },
     "user_tz": 240
    },
    "id": "edPR3RiiNWnV",
    "outputId": "f2b48f11-cdb1-492c-f6d7-2b1e1d2881ca"
   },
   "outputs": [
    {
     "name": "stdout",
     "output_type": "stream",
     "text": [
      "====================================================================================================\n",
      "the maximum value of tpr*(1-fpr) 0.4618707355774571 for threshold 0.13\n"
     ]
    },
    {
     "data": {
      "image/png": "[encoded data removed]",
      "text/plain": [
       "<Figure size 432x288 with 2 Axes>"
      ]
     },
     "metadata": {
      "tags": []
     },
     "output_type": "display_data"
    }
   ],
   "source": [
    "print(\"=\"*100)\n",
    "from sklearn.metrics import confusion_matrix\n",
    "best_t = find_best_threshold(tr_thresholds, train_fpr, train_tpr)\n",
    "\n",
    "tr_cm = confusion_matrix(y_train, predict_with_best_t(y_train_pred, best_t))\n",
    "te_cm = confusion_matrix(y_test, predict_with_best_t(y_test_pred, best_t))\n",
    "\n",
    "#https://seaborn.pydata.org/generated/seaborn.heatmap.html\n",
    "#https://seaborn.pydata.org/examples/distplot_options.html\n",
    "#https://matplotlib.org/3.1.1/gallery/subplots_axes_and_figures/subplots_demo.html\n",
    "\n",
    "f, axes = plt.subplots(1, 2)\n",
    "\n",
    "sns.heatmap(tr_cm, annot=True,square=True,cbar=False,cmap='OrRd',fmt=\"d\", ax=axes[0])\n",
    "sns.heatmap(te_cm, annot=True,square=True,cbar=False,cmap='OrRd',fmt=\"d\", ax=axes[1])\n",
    "axes[0].set_title('Train Confusion Matrix')\n",
    "axes[1].set_title('Test Confusion Matrix')\n",
    "\n",
    "axes[0].set(xlabel='Predicted', ylabel='Actual')\n",
    "axes[1].set(xlabel='Predicted', ylabel='Actual')\n",
    "\n",
    "plt.tight_layout()"
   ]
  },
  {
   "cell_type": "markdown",
   "metadata": {
    "colab_type": "text",
    "id": "_T2l87JfoUH-"
   },
   "source": [
    "<h2>2.5 Support Vector Machines with added Features `Set 5` </h2>"
   ]
  },
  {
   "cell_type": "code",
   "execution_count": 104,
   "metadata": {
    "colab": {
     "base_uri": "https://localhost:8080/",
     "height": 390
    },
    "colab_type": "code",
    "executionInfo": {
     "elapsed": 440032,
     "status": "ok",
     "timestamp": 1565382367294,
     "user": {
      "displayName": "Rishabh Sutravey",
      "photoUrl": "",
      "userId": "13691094868251697255"
     },
     "user_tz": 240
    },
    "id": "riSa6R7lFdDY",
    "outputId": "61dbad4a-ee05-41f7-e5c2-54ed319794bc"
   },
   "outputs": [
    {
     "name": "stderr",
     "output_type": "stream",
     "text": [
      "100%|██████████| 10/10 [02:32<00:00, 10.69s/it]\n",
      "100%|██████████| 10/10 [04:44<00:00, 20.54s/it]\n"
     ]
    },
    {
     "data": {
      "image/png": "[encoded data removed]",
      "text/plain": [
       "<Figure size 1080x360 with 2 Axes>"
      ]
     },
     "metadata": {
      "tags": []
     },
     "output_type": "display_data"
    }
   ],
   "source": [
    "train_auc_l2 = []\n",
    "cv_auc_l2 = []\n",
    "A = [0.00001,0.0001, 0.001, 0.01, 0.1, 1, 10, 100, 1000,10000]\n",
    "for i in tqdm(A):\n",
    "    svm = SGDClassifier(loss= 'hinge',penalty='l2', alpha=i, class_weight = 'balanced', n_jobs=-1)\n",
    "    svm.fit(X_5tr, y_train)\n",
    "\n",
    "    y_train_pred = batch_predict(svm, X_5tr)    \n",
    "    y_cv_pred = batch_predict(svm, X_5cr)\n",
    "\n",
    "    # roc_auc_score(y_true, y_score) the 2nd parameter should be probability estimates of the positive class\n",
    "    # not the predicted outputs        \n",
    "    train_auc_l2.append(roc_auc_score(y_train,y_train_pred))\n",
    "    cv_auc_l2.append(roc_auc_score(y_cv, y_cv_pred))\n",
    "\n",
    "\n",
    "train_auc_l1 = []\n",
    "cv_auc_l1 = []    \n",
    "for i in tqdm(A):\n",
    "    svm = SGDClassifier(loss= 'hinge',penalty='l1', alpha=i, class_weight = 'balanced', n_jobs=-1)\n",
    "    svm.fit(X_5tr, y_train)\n",
    "\n",
    "    y_train_pred = batch_predict(svm, X_5tr)    \n",
    "    y_cv_pred = batch_predict(svm, X_5cr)\n",
    "\n",
    "    # roc_auc_score(y_true, y_score) the 2nd parameter should be probability estimates of the positive class\n",
    "    # not the predicted outputs        \n",
    "    train_auc_l1.append(roc_auc_score(y_train,y_train_pred))\n",
    "    cv_auc_l1.append(roc_auc_score(y_cv, y_cv_pred))    \n",
    "\n",
    "f, axes = plt.subplots(1, 2,figsize=(15,5),sharey=True)\n",
    "\n",
    "axes[0].plot(A, train_auc_l2, label='Train AUC')\n",
    "axes[0].plot(A, cv_auc_l2, label='CV AUC')\n",
    "\n",
    "axes[0].scatter(A, train_auc_l2, label='Train AUC points')\n",
    "axes[0].scatter(A, cv_auc_l2, label='CV AUC points')\n",
    "axes[0].set_xscale('log')\n",
    "\n",
    "\n",
    "axes[1].plot(A, train_auc_l1, label='Train AUC')\n",
    "axes[1].plot(A, cv_auc_l1, label='CV AUC')\n",
    "\n",
    "axes[1].scatter(A, train_auc_l1, label='Train AUC points')\n",
    "axes[1].scatter(A, cv_auc_l1, label='CV AUC points')\n",
    "axes[1].set_xscale('log')\n",
    "\n",
    "for ax in axes.flat:\n",
    "  ax.set(xlabel='A: hyperparameter', ylabel='AUC')\n",
    "  ax.grid(True)\n",
    "  ax.legend()\n",
    "\n",
    "axes[0].set_title('Error plots with l2')\n",
    "axes[1].set_title('Error plots with l1')\n",
    "\n",
    "plt.show()"
   ]
  },
  {
   "cell_type": "code",
   "execution_count": 106,
   "metadata": {
    "colab": {
     "base_uri": "https://localhost:8080/",
     "height": 295
    },
    "colab_type": "code",
    "executionInfo": {
     "elapsed": 53648,
     "status": "ok",
     "timestamp": 1565382502194,
     "user": {
      "displayName": "Rishabh Sutravey",
      "photoUrl": "",
      "userId": "13691094868251697255"
     },
     "user_tz": 240
    },
    "id": "bXO_CyD_FsHK",
    "outputId": "4d12e326-190d-401d-9e18-07c67763aadf"
   },
   "outputs": [
    {
     "data": {
      "image/png": "[encoded data removed]",
      "text/plain": [
       "<Figure size 432x288 with 1 Axes>"
      ]
     },
     "metadata": {
      "tags": []
     },
     "output_type": "display_data"
    }
   ],
   "source": [
    "best_a5=0.0001\n",
    "\n",
    "svm = SGDClassifier(loss= 'hinge',penalty='l1', alpha=best_a5, class_weight = 'balanced', n_jobs=-1)\n",
    "svm.fit(X_5tr, y_train)\n",
    "# roc_auc_score(y_true, y_score) the 2nd parameter should be probability estimates of the positive class\n",
    "# not the predicted outputs\n",
    "\n",
    "y_train_pred = batch_predict(svm, X_5tr)    \n",
    "y_test_pred = batch_predict(svm, X_5te)\n",
    "\n",
    "train_fpr, train_tpr, tr_thresholds = roc_curve(y_train, y_train_pred)\n",
    "test_fpr, test_tpr, te_thresholds = roc_curve(y_test, y_test_pred)\n",
    "\n",
    "auc5=str(auc(test_fpr, test_tpr))\n",
    "\n",
    "plt.plot(train_fpr, train_tpr, label=\"train AUC =\"+str(auc(train_fpr, train_tpr)))\n",
    "plt.plot(test_fpr, test_tpr, label=\"test AUC =\"+str(auc(test_fpr, test_tpr)))\n",
    "plt.legend()\n",
    "plt.xlabel(\"FPR\")\n",
    "plt.ylabel(\"TPR\")\n",
    "plt.title(\"ROC curve\")\n",
    "plt.grid()\n",
    "plt.show()"
   ]
  },
  {
   "cell_type": "code",
   "execution_count": 107,
   "metadata": {
    "colab": {
     "base_uri": "https://localhost:8080/",
     "height": 280
    },
    "colab_type": "code",
    "executionInfo": {
     "elapsed": 2475,
     "status": "ok",
     "timestamp": 1565382514394,
     "user": {
      "displayName": "Rishabh Sutravey",
      "photoUrl": "",
      "userId": "13691094868251697255"
     },
     "user_tz": 240
    },
    "id": "hj3xfFJPF69I",
    "outputId": "d98cc814-39d0-4132-b6d3-312d184ed844"
   },
   "outputs": [
    {
     "name": "stdout",
     "output_type": "stream",
     "text": [
      "====================================================================================================\n",
      "the maximum value of tpr*(1-fpr) 0.49062275569939356 for threshold -0.249\n"
     ]
    },
    {
     "data": {
      "image/png": "[encoded data removed]",
      "text/plain": [
       "<Figure size 432x288 with 2 Axes>"
      ]
     },
     "metadata": {
      "tags": []
     },
     "output_type": "display_data"
    }
   ],
   "source": [
    "print(\"=\"*100)\n",
    "from sklearn.metrics import confusion_matrix\n",
    "best_t = find_best_threshold(tr_thresholds, train_fpr, train_tpr)\n",
    "\n",
    "tr_cm = confusion_matrix(y_train, predict_with_best_t(y_train_pred, best_t))\n",
    "te_cm = confusion_matrix(y_test, predict_with_best_t(y_test_pred, best_t))\n",
    "\n",
    "#https://seaborn.pydata.org/generated/seaborn.heatmap.html\n",
    "#https://seaborn.pydata.org/examples/distplot_options.html\n",
    "#https://matplotlib.org/3.1.1/gallery/subplots_axes_and_figures/subplots_demo.html\n",
    "\n",
    "f, axes = plt.subplots(1, 2)\n",
    "\n",
    "sns.heatmap(tr_cm, annot=True,square=True,cbar=False,cmap='OrRd',fmt=\"d\", ax=axes[0])\n",
    "sns.heatmap(te_cm, annot=True,square=True,cbar=False,cmap='OrRd',fmt=\"d\", ax=axes[1])\n",
    "axes[0].set_title('Train Confusion Matrix')\n",
    "axes[1].set_title('Test Confusion Matrix')\n",
    "\n",
    "axes[0].set(xlabel='Predicted', ylabel='Actual')\n",
    "axes[1].set(xlabel='Predicted', ylabel='Actual')\n",
    "\n",
    "plt.tight_layout()"
   ]
  },
  {
   "cell_type": "markdown",
   "metadata": {
    "colab_type": "text",
    "id": "51CZPd61oUIA"
   },
   "source": [
    "<h1>3. Conclusion</h1>"
   ]
  },
  {
   "cell_type": "code",
   "execution_count": 108,
   "metadata": {
    "colab": {
     "base_uri": "https://localhost:8080/",
     "height": 182
    },
    "colab_type": "code",
    "executionInfo": {
     "elapsed": 1620,
     "status": "ok",
     "timestamp": 1565382756265,
     "user": {
      "displayName": "Rishabh Sutravey",
      "photoUrl": "",
      "userId": "13691094868251697255"
     },
     "user_tz": 240
    },
    "id": "uZfzkquRoUIB",
    "outputId": "98fbd2ac-2709-405e-c2ae-846f00fa9a00"
   },
   "outputs": [
    {
     "name": "stdout",
     "output_type": "stream",
     "text": [
      "+------------------+-------+-------------------+---------+--------------------+\n",
      "|    Vectorizer    | Model | Hyper Parameter-A | Penalty |        AUC         |\n",
      "+------------------+-------+-------------------+---------+--------------------+\n",
      "|       BOW        |  SVM  |       0.001       |    l1   | 0.7194363560011857 |\n",
      "|      TF-IDF      |  SVM  |       0.0001      |    l1   | 0.7191263458321625 |\n",
      "|     Avg W2V      |  SVM  |       0.0001      |    l2   | 0.7080544743890639 |\n",
      "|    TF-IDF W2V    |  SVM  |       0.001       |    l2   | 0.7011795238163823 |\n",
      "| Sentiment scores |  SVM  |       0.0001      |    l1   | 0.7229890083496922 |\n",
      "+------------------+-------+-------------------+---------+--------------------+\n"
     ]
    }
   ],
   "source": [
    "# Please compare all your models using Prettytable library\n",
    "from prettytable import PrettyTable\n",
    "    \n",
    "x = PrettyTable()\n",
    "\n",
    "x.field_names = [\"Vectorizer\", \"Model\", \"Hyper Parameter-A\",\"Penalty\", \"AUC\"]\n",
    "\n",
    "x.add_row([\"BOW\", \"SVM\", best_a1,\"l1\", auc1])\n",
    "x.add_row([\"TF-IDF\", \"SVM\", best_a2,\"l1\", auc2])\n",
    "x.add_row([\"Avg W2V\", \"SVM\", best_a3,\"l2\", auc3])\n",
    "x.add_row([\"TF-IDF W2V\", \"SVM\", best_a4,\"l2\", auc4])\n",
    "x.add_row([\"Sentiment scores\", \"SVM\", best_a5,\"l1\", auc5])\n",
    "\n",
    "\n",
    "print(x)"
   ]
  }
 ],
 "metadata": {
  "colab": {
   "collapsed_sections": [],
   "machine_shape": "hm",
   "name": "7_DonorsChoose_SVM.ipynb",
   "provenance": [],
   "version": "0.3.2"
  },
  "kernelspec": {
   "display_name": "Python 3",
   "language": "python",
   "name": "python3"
  },
  "language_info": {
   "codemirror_mode": {
    "name": "ipython",
    "version": 3
   },
   "file_extension": ".py",
   "mimetype": "text/x-python",
   "name": "python",
   "nbconvert_exporter": "python",
   "pygments_lexer": "ipython3",
   "version": "3.7.3"
  }
 },
 "nbformat": 4,
 "nbformat_minor": 1
}
